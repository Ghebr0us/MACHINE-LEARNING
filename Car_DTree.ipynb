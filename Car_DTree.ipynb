{
  "nbformat": 4,
  "nbformat_minor": 0,
  "metadata": {
    "colab": {
      "provenance": []
    },
    "kernelspec": {
      "name": "python3",
      "display_name": "Python 3"
    },
    "language_info": {
      "name": "python"
    }
  },
  "cells": [
    {
      "cell_type": "markdown",
      "source": [
        "# KNN"
      ],
      "metadata": {
        "id": "9R5-50js-m7A"
      }
    },
    {
      "cell_type": "code",
      "execution_count": null,
      "metadata": {
        "id": "UGMvWJ_n-hx5",
        "colab": {
          "base_uri": "https://localhost:8080/"
        },
        "outputId": "bbb08304-f960-46a2-c103-32ea9f0b464f"
      },
      "outputs": [
        {
          "output_type": "stream",
          "name": "stdout",
          "text": [
            "Mounted at /content/drive\n"
          ]
        }
      ],
      "source": [
        "from google.colab import drive\n",
        "drive.mount('/content/drive')"
      ]
    },
    {
      "cell_type": "code",
      "source": [
        "# importiamo Pandas e il dataframe dal file data/wine.csv\n",
        "import pandas as pd\n",
        "df = pd.read_csv('/content/drive/MyDrive/Colab Notebooks/car.data', names=['buying','maint','doors','persons','lug_boot','safety','class values'])"
      ],
      "metadata": {
        "id": "idzhxP6lAXtZ"
      },
      "execution_count": null,
      "outputs": []
    },
    {
      "cell_type": "code",
      "source": [
        "df"
      ],
      "metadata": {
        "colab": {
          "base_uri": "https://localhost:8080/",
          "height": 424
        },
        "id": "is3Bndh6CISh",
        "outputId": "eb45c900-5078-4132-c430-331560a229d9"
      },
      "execution_count": null,
      "outputs": [
        {
          "output_type": "execute_result",
          "data": {
            "text/plain": [
              "     buying  maint  doors persons lug_boot safety class values\n",
              "0     vhigh  vhigh      2       2    small    low        unacc\n",
              "1     vhigh  vhigh      2       2    small    med        unacc\n",
              "2     vhigh  vhigh      2       2    small   high        unacc\n",
              "3     vhigh  vhigh      2       2      med    low        unacc\n",
              "4     vhigh  vhigh      2       2      med    med        unacc\n",
              "...     ...    ...    ...     ...      ...    ...          ...\n",
              "1723    low    low  5more    more      med    med         good\n",
              "1724    low    low  5more    more      med   high        vgood\n",
              "1725    low    low  5more    more      big    low        unacc\n",
              "1726    low    low  5more    more      big    med         good\n",
              "1727    low    low  5more    more      big   high        vgood\n",
              "\n",
              "[1728 rows x 7 columns]"
            ],
            "text/html": [
              "\n",
              "  <div id=\"df-018b400a-0d17-42e0-8d68-dc12a10bcfdd\">\n",
              "    <div class=\"colab-df-container\">\n",
              "      <div>\n",
              "<style scoped>\n",
              "    .dataframe tbody tr th:only-of-type {\n",
              "        vertical-align: middle;\n",
              "    }\n",
              "\n",
              "    .dataframe tbody tr th {\n",
              "        vertical-align: top;\n",
              "    }\n",
              "\n",
              "    .dataframe thead th {\n",
              "        text-align: right;\n",
              "    }\n",
              "</style>\n",
              "<table border=\"1\" class=\"dataframe\">\n",
              "  <thead>\n",
              "    <tr style=\"text-align: right;\">\n",
              "      <th></th>\n",
              "      <th>buying</th>\n",
              "      <th>maint</th>\n",
              "      <th>doors</th>\n",
              "      <th>persons</th>\n",
              "      <th>lug_boot</th>\n",
              "      <th>safety</th>\n",
              "      <th>class values</th>\n",
              "    </tr>\n",
              "  </thead>\n",
              "  <tbody>\n",
              "    <tr>\n",
              "      <th>0</th>\n",
              "      <td>vhigh</td>\n",
              "      <td>vhigh</td>\n",
              "      <td>2</td>\n",
              "      <td>2</td>\n",
              "      <td>small</td>\n",
              "      <td>low</td>\n",
              "      <td>unacc</td>\n",
              "    </tr>\n",
              "    <tr>\n",
              "      <th>1</th>\n",
              "      <td>vhigh</td>\n",
              "      <td>vhigh</td>\n",
              "      <td>2</td>\n",
              "      <td>2</td>\n",
              "      <td>small</td>\n",
              "      <td>med</td>\n",
              "      <td>unacc</td>\n",
              "    </tr>\n",
              "    <tr>\n",
              "      <th>2</th>\n",
              "      <td>vhigh</td>\n",
              "      <td>vhigh</td>\n",
              "      <td>2</td>\n",
              "      <td>2</td>\n",
              "      <td>small</td>\n",
              "      <td>high</td>\n",
              "      <td>unacc</td>\n",
              "    </tr>\n",
              "    <tr>\n",
              "      <th>3</th>\n",
              "      <td>vhigh</td>\n",
              "      <td>vhigh</td>\n",
              "      <td>2</td>\n",
              "      <td>2</td>\n",
              "      <td>med</td>\n",
              "      <td>low</td>\n",
              "      <td>unacc</td>\n",
              "    </tr>\n",
              "    <tr>\n",
              "      <th>4</th>\n",
              "      <td>vhigh</td>\n",
              "      <td>vhigh</td>\n",
              "      <td>2</td>\n",
              "      <td>2</td>\n",
              "      <td>med</td>\n",
              "      <td>med</td>\n",
              "      <td>unacc</td>\n",
              "    </tr>\n",
              "    <tr>\n",
              "      <th>...</th>\n",
              "      <td>...</td>\n",
              "      <td>...</td>\n",
              "      <td>...</td>\n",
              "      <td>...</td>\n",
              "      <td>...</td>\n",
              "      <td>...</td>\n",
              "      <td>...</td>\n",
              "    </tr>\n",
              "    <tr>\n",
              "      <th>1723</th>\n",
              "      <td>low</td>\n",
              "      <td>low</td>\n",
              "      <td>5more</td>\n",
              "      <td>more</td>\n",
              "      <td>med</td>\n",
              "      <td>med</td>\n",
              "      <td>good</td>\n",
              "    </tr>\n",
              "    <tr>\n",
              "      <th>1724</th>\n",
              "      <td>low</td>\n",
              "      <td>low</td>\n",
              "      <td>5more</td>\n",
              "      <td>more</td>\n",
              "      <td>med</td>\n",
              "      <td>high</td>\n",
              "      <td>vgood</td>\n",
              "    </tr>\n",
              "    <tr>\n",
              "      <th>1725</th>\n",
              "      <td>low</td>\n",
              "      <td>low</td>\n",
              "      <td>5more</td>\n",
              "      <td>more</td>\n",
              "      <td>big</td>\n",
              "      <td>low</td>\n",
              "      <td>unacc</td>\n",
              "    </tr>\n",
              "    <tr>\n",
              "      <th>1726</th>\n",
              "      <td>low</td>\n",
              "      <td>low</td>\n",
              "      <td>5more</td>\n",
              "      <td>more</td>\n",
              "      <td>big</td>\n",
              "      <td>med</td>\n",
              "      <td>good</td>\n",
              "    </tr>\n",
              "    <tr>\n",
              "      <th>1727</th>\n",
              "      <td>low</td>\n",
              "      <td>low</td>\n",
              "      <td>5more</td>\n",
              "      <td>more</td>\n",
              "      <td>big</td>\n",
              "      <td>high</td>\n",
              "      <td>vgood</td>\n",
              "    </tr>\n",
              "  </tbody>\n",
              "</table>\n",
              "<p>1728 rows × 7 columns</p>\n",
              "</div>\n",
              "      <button class=\"colab-df-convert\" onclick=\"convertToInteractive('df-018b400a-0d17-42e0-8d68-dc12a10bcfdd')\"\n",
              "              title=\"Convert this dataframe to an interactive table.\"\n",
              "              style=\"display:none;\">\n",
              "        \n",
              "  <svg xmlns=\"http://www.w3.org/2000/svg\" height=\"24px\"viewBox=\"0 0 24 24\"\n",
              "       width=\"24px\">\n",
              "    <path d=\"M0 0h24v24H0V0z\" fill=\"none\"/>\n",
              "    <path d=\"M18.56 5.44l.94 2.06.94-2.06 2.06-.94-2.06-.94-.94-2.06-.94 2.06-2.06.94zm-11 1L8.5 8.5l.94-2.06 2.06-.94-2.06-.94L8.5 2.5l-.94 2.06-2.06.94zm10 10l.94 2.06.94-2.06 2.06-.94-2.06-.94-.94-2.06-.94 2.06-2.06.94z\"/><path d=\"M17.41 7.96l-1.37-1.37c-.4-.4-.92-.59-1.43-.59-.52 0-1.04.2-1.43.59L10.3 9.45l-7.72 7.72c-.78.78-.78 2.05 0 2.83L4 21.41c.39.39.9.59 1.41.59.51 0 1.02-.2 1.41-.59l7.78-7.78 2.81-2.81c.8-.78.8-2.07 0-2.86zM5.41 20L4 18.59l7.72-7.72 1.47 1.35L5.41 20z\"/>\n",
              "  </svg>\n",
              "      </button>\n",
              "      \n",
              "  <style>\n",
              "    .colab-df-container {\n",
              "      display:flex;\n",
              "      flex-wrap:wrap;\n",
              "      gap: 12px;\n",
              "    }\n",
              "\n",
              "    .colab-df-convert {\n",
              "      background-color: #E8F0FE;\n",
              "      border: none;\n",
              "      border-radius: 50%;\n",
              "      cursor: pointer;\n",
              "      display: none;\n",
              "      fill: #1967D2;\n",
              "      height: 32px;\n",
              "      padding: 0 0 0 0;\n",
              "      width: 32px;\n",
              "    }\n",
              "\n",
              "    .colab-df-convert:hover {\n",
              "      background-color: #E2EBFA;\n",
              "      box-shadow: 0px 1px 2px rgba(60, 64, 67, 0.3), 0px 1px 3px 1px rgba(60, 64, 67, 0.15);\n",
              "      fill: #174EA6;\n",
              "    }\n",
              "\n",
              "    [theme=dark] .colab-df-convert {\n",
              "      background-color: #3B4455;\n",
              "      fill: #D2E3FC;\n",
              "    }\n",
              "\n",
              "    [theme=dark] .colab-df-convert:hover {\n",
              "      background-color: #434B5C;\n",
              "      box-shadow: 0px 1px 3px 1px rgba(0, 0, 0, 0.15);\n",
              "      filter: drop-shadow(0px 1px 2px rgba(0, 0, 0, 0.3));\n",
              "      fill: #FFFFFF;\n",
              "    }\n",
              "  </style>\n",
              "\n",
              "      <script>\n",
              "        const buttonEl =\n",
              "          document.querySelector('#df-018b400a-0d17-42e0-8d68-dc12a10bcfdd button.colab-df-convert');\n",
              "        buttonEl.style.display =\n",
              "          google.colab.kernel.accessAllowed ? 'block' : 'none';\n",
              "\n",
              "        async function convertToInteractive(key) {\n",
              "          const element = document.querySelector('#df-018b400a-0d17-42e0-8d68-dc12a10bcfdd');\n",
              "          const dataTable =\n",
              "            await google.colab.kernel.invokeFunction('convertToInteractive',\n",
              "                                                     [key], {});\n",
              "          if (!dataTable) return;\n",
              "\n",
              "          const docLinkHtml = 'Like what you see? Visit the ' +\n",
              "            '<a target=\"_blank\" href=https://colab.research.google.com/notebooks/data_table.ipynb>data table notebook</a>'\n",
              "            + ' to learn more about interactive tables.';\n",
              "          element.innerHTML = '';\n",
              "          dataTable['output_type'] = 'display_data';\n",
              "          await google.colab.output.renderOutput(dataTable, element);\n",
              "          const docLink = document.createElement('div');\n",
              "          docLink.innerHTML = docLinkHtml;\n",
              "          element.appendChild(docLink);\n",
              "        }\n",
              "      </script>\n",
              "    </div>\n",
              "  </div>\n",
              "  "
            ]
          },
          "metadata": {},
          "execution_count": 3
        }
      ]
    },
    {
      "cell_type": "code",
      "source": [
        "buy = {'vhigh': 0,'high': 1,'med': 2,'low': 3}\n",
        "df.buying = [buy[item] for item in df.buying] #sostuiamo i valori in buying"
      ],
      "metadata": {
        "id": "EISuMzrgBNGR"
      },
      "execution_count": null,
      "outputs": []
    },
    {
      "cell_type": "code",
      "source": [
        "buy = {'vhigh': 0,'high': 1,'med': 2,'low': 3}\n",
        "df.maint = [buy[item] for item in df.maint]"
      ],
      "metadata": {
        "id": "30MGKAVXDRwJ"
      },
      "execution_count": null,
      "outputs": []
    },
    {
      "cell_type": "code",
      "source": [
        "boot = {'small': 0,'med': 1,'big': 2}\n",
        "df.lug_boot\t = [boot[item] for item in df.lug_boot]"
      ],
      "metadata": {
        "id": "YDK-6easDYWw"
      },
      "execution_count": null,
      "outputs": []
    },
    {
      "cell_type": "code",
      "source": [
        "safe = {'low': 0,'med': 1,'high': 2}\n",
        "df.safety\t = [safe[item] for item in df.safety]"
      ],
      "metadata": {
        "id": "COwXq3DHDuKx"
      },
      "execution_count": null,
      "outputs": []
    },
    {
      "cell_type": "code",
      "source": [
        "cvalues = {'unacc': 0,'acc': 1,'good': 2,'vgood': 3}\n",
        "df['class values'] = [cvalues[item] for item in df['class values']] #sostuiamo i valori in buying"
      ],
      "metadata": {
        "id": "Zl6uSD6cD8Yr"
      },
      "execution_count": null,
      "outputs": []
    },
    {
      "cell_type": "code",
      "source": [
        "door = {'2': 2,'3': 3,'4': 4,'5more': 5}\n",
        "df.doors = [door[item] for item in df.doors] #sostuiamo i valori in buying"
      ],
      "metadata": {
        "id": "X3-4cMmHEZ7D"
      },
      "execution_count": null,
      "outputs": []
    },
    {
      "cell_type": "code",
      "source": [
        "p = {'2': 2,'4': 4,'more': 5}\n",
        "df.persons\t = [p[item] for item in df.persons]"
      ],
      "metadata": {
        "id": "dfyCxeN-Ew2h"
      },
      "execution_count": null,
      "outputs": []
    },
    {
      "cell_type": "code",
      "source": [
        "import numpy as np\n",
        "df = df.to_numpy()\n",
        "x=df[:,0:-1] # prendiamo tutti i dati tranne l'ultima colonna -> variabili indipendenti, osservazioni\n",
        "y=df[:,-1] # prendiamo solo l'ultima colonna -> variabile dipendente, target\n",
        "\n",
        "import collections\n",
        "collections.Counter(y)"
      ],
      "metadata": {
        "colab": {
          "base_uri": "https://localhost:8080/"
        },
        "id": "6GPYuD6s9H2A",
        "outputId": "196244a8-6c5d-4f82-ec24-f7f4b0980534"
      },
      "execution_count": null,
      "outputs": [
        {
          "output_type": "execute_result",
          "data": {
            "text/plain": [
              "Counter({0: 1210, 1: 384, 3: 65, 2: 69})"
            ]
          },
          "metadata": {},
          "execution_count": 11
        }
      ]
    },
    {
      "cell_type": "code",
      "source": [
        "from sklearn.model_selection import train_test_split\n",
        "\n",
        "X_train, X_test, y_train, y_test = train_test_split(x, y, \n",
        "                                                    test_size =0.33, #by default is 75%-25%\n",
        "                                                    #shuffle is set True by default,\n",
        "                                                    stratify=y,\n",
        "                                                    random_state= 123) #fix random seed for replicability"
      ],
      "metadata": {
        "id": "Nfae7cWq87B3"
      },
      "execution_count": null,
      "outputs": []
    },
    {
      "cell_type": "code",
      "source": [
        "X_train.shape,y_train.shape,X_test.shape,y_test.shape"
      ],
      "metadata": {
        "colab": {
          "base_uri": "https://localhost:8080/"
        },
        "id": "1bkkKYAR9ETi",
        "outputId": "073999fc-4d37-4101-82cb-5dab356f67b9"
      },
      "execution_count": null,
      "outputs": [
        {
          "output_type": "execute_result",
          "data": {
            "text/plain": [
              "((1157, 6), (1157,), (571, 6), (571,))"
            ]
          },
          "metadata": {},
          "execution_count": 13
        }
      ]
    },
    {
      "cell_type": "code",
      "source": [
        "# suppress scientific notation\n",
        "np.set_printoptions(suppress=True)\n",
        "print(x[:10])\n",
        "print(f'y = {y[:10]}')"
      ],
      "metadata": {
        "colab": {
          "base_uri": "https://localhost:8080/"
        },
        "id": "x1XvPqkK9paP",
        "outputId": "808fa685-9687-44fc-d655-6dec9984cee8"
      },
      "execution_count": null,
      "outputs": [
        {
          "output_type": "stream",
          "name": "stdout",
          "text": [
            "[[0 0 2 2 0 0]\n",
            " [0 0 2 2 0 1]\n",
            " [0 0 2 2 0 2]\n",
            " [0 0 2 2 1 0]\n",
            " [0 0 2 2 1 1]\n",
            " [0 0 2 2 1 2]\n",
            " [0 0 2 2 2 0]\n",
            " [0 0 2 2 2 1]\n",
            " [0 0 2 2 2 2]\n",
            " [0 0 2 4 0 0]]\n",
            "y = [0 0 0 0 0 0 0 0 0 0]\n"
          ]
        }
      ]
    },
    {
      "cell_type": "code",
      "source": [
        "!pip install sklearn"
      ],
      "metadata": {
        "colab": {
          "base_uri": "https://localhost:8080/"
        },
        "id": "3_tUUEZd9rK2",
        "outputId": "e58f6946-a741-4023-a65e-192e0dd142cd"
      },
      "execution_count": null,
      "outputs": [
        {
          "output_type": "stream",
          "name": "stdout",
          "text": [
            "Looking in indexes: https://pypi.org/simple, https://us-python.pkg.dev/colab-wheels/public/simple/\n",
            "Collecting sklearn\n",
            "  Downloading sklearn-0.0.post1.tar.gz (3.6 kB)\n",
            "  \u001b[1;31merror\u001b[0m: \u001b[1msubprocess-exited-with-error\u001b[0m\n",
            "  \n",
            "  \u001b[31m×\u001b[0m \u001b[32mpython setup.py egg_info\u001b[0m did not run successfully.\n",
            "  \u001b[31m│\u001b[0m exit code: \u001b[1;36m1\u001b[0m\n",
            "  \u001b[31m╰─>\u001b[0m See above for output.\n",
            "  \n",
            "  \u001b[1;35mnote\u001b[0m: This error originates from a subprocess, and is likely not a problem with pip.\n",
            "  Preparing metadata (setup.py) ... \u001b[?25l\u001b[?25herror\n",
            "\u001b[1;31merror\u001b[0m: \u001b[1mmetadata-generation-failed\u001b[0m\n",
            "\n",
            "\u001b[31m×\u001b[0m Encountered error while generating package metadata.\n",
            "\u001b[31m╰─>\u001b[0m See above for output.\n",
            "\n",
            "\u001b[1;35mnote\u001b[0m: This is an issue with the package mentioned above, not pip.\n",
            "\u001b[1;36mhint\u001b[0m: See above for details.\n"
          ]
        }
      ]
    },
    {
      "cell_type": "code",
      "source": [
        "# https://scikit-learn.org/stable/ libreria per il Machine Learning in Python\n",
        "\n",
        "# come per altri metodi di ML, dobbiamo prendere i nostri valori delle osservazioni e splittarle in due insiemi:\n",
        "# training set: è il sottoinsieme delle osservazioni che serve al nostro metodo per imparare\n",
        "# test set: è il sottoinsieme delle osservazioni che serve al nostro metodo per capire se ha imparato bene\n",
        "\n",
        "from sklearn.model_selection import train_test_split # suddivide le osservazioni nei due insiemi\n",
        "\n",
        "X_train, X_test, y_train, y_test = train_test_split(x, y, \n",
        "                                                    test_size = 0.33, # by default is 75%-25%\n",
        "                                                    # shuffle is set True by default,\n",
        "                                                    stratify = y, # per mantenere le proporzioni che ci sono nei dati di partenza\n",
        "                                                    random_state = 123) # fix random seed for replicability"
      ],
      "metadata": {
        "id": "I0MFftSr950f"
      },
      "execution_count": null,
      "outputs": []
    },
    {
      "cell_type": "code",
      "source": [
        "X_train.shape,y_train.shape,X_test.shape,y_test.shape"
      ],
      "metadata": {
        "colab": {
          "base_uri": "https://localhost:8080/"
        },
        "id": "cKeJItGe97dm",
        "outputId": "28228f66-315d-45ef-d486-ca4833e401e9"
      },
      "execution_count": null,
      "outputs": [
        {
          "output_type": "execute_result",
          "data": {
            "text/plain": [
              "((1157, 6), (1157,), (571, 6), (571,))"
            ]
          },
          "metadata": {},
          "execution_count": 17
        }
      ]
    },
    {
      "cell_type": "code",
      "source": [
        "print(X_train[:10])\n",
        "print(f'y_train = {y_train[:10]}')"
      ],
      "metadata": {
        "colab": {
          "base_uri": "https://localhost:8080/"
        },
        "id": "I9FKptsr981r",
        "outputId": "170028d3-177b-4f87-be81-529bc91921d4"
      },
      "execution_count": null,
      "outputs": [
        {
          "output_type": "stream",
          "name": "stdout",
          "text": [
            "[[3 0 2 2 0 2]\n",
            " [1 2 3 2 2 0]\n",
            " [3 3 2 5 2 0]\n",
            " [0 2 4 5 0 1]\n",
            " [3 1 4 2 0 0]\n",
            " [0 2 5 5 0 2]\n",
            " [2 0 4 5 1 0]\n",
            " [3 1 5 5 0 1]\n",
            " [1 1 5 5 0 0]\n",
            " [0 1 4 5 0 0]]\n",
            "y_train = [0 0 0 0 0 1 0 1 0 0]\n"
          ]
        }
      ]
    },
    {
      "cell_type": "code",
      "source": [
        "# importiamo il metodo che vogliamo utilizzara (tra i tanti disponibili...)\n",
        "from sklearn.neighbors import KNeighborsClassifier\n",
        "\n",
        "neigh = KNeighborsClassifier(n_neighbors=3) # impostiamo l'unico parametro (il numero di vicini)\n",
        "\n",
        "# prima parte: dobbiamo fare in modo che il metodo impari dalle informazioni a disposizione\n",
        "# NB: notare che il metodo utilizza sia X_train che y_train, perché deve capire se sta predicendo correttamente\n",
        "neigh.fit(X_train, y_train) # \"alleniamo\" il metodo con i dati del training set\n",
        "\n",
        "# seconda parte: vediamo se il metodo ha imparato bene facendogli prevedere i risultati \n",
        "# NB: notare che c'è solo X perché le y devono essere previste dal metodo\n",
        "predict = neigh.predict(X_test) # proviamo a fare una previsione sui dati del test set\n",
        "\n",
        "# visualizziamo il risultato (solo i primi dieci pazienti)\n",
        "print(f'dati predetti dal metodo =                {predict[:10]}') # dati predetti dal metodo\n",
        "print(f'dati reali presenti nel dataset di test = {y_test[:10]}') # dati effettivi presenti nel test set"
      ],
      "metadata": {
        "colab": {
          "base_uri": "https://localhost:8080/"
        },
        "id": "Z2HJdJpR9-y4",
        "outputId": "4f21b9f8-cf82-40cf-dd1f-7eeb7461adb6"
      },
      "execution_count": null,
      "outputs": [
        {
          "output_type": "stream",
          "name": "stdout",
          "text": [
            "dati predetti dal metodo =                [0 0 0 0 0 3 0 1 1 0]\n",
            "dati reali presenti nel dataset di test = [0 0 0 0 0 3 0 1 1 0]\n"
          ]
        }
      ]
    },
    {
      "cell_type": "code",
      "source": [
        "!pip install mlxtend"
      ],
      "metadata": {
        "colab": {
          "base_uri": "https://localhost:8080/"
        },
        "id": "Mo5WIZxI-dIn",
        "outputId": "fb076b52-d229-4c11-fa4d-25368e292ac7"
      },
      "execution_count": null,
      "outputs": [
        {
          "output_type": "stream",
          "name": "stdout",
          "text": [
            "Looking in indexes: https://pypi.org/simple, https://us-python.pkg.dev/colab-wheels/public/simple/\n",
            "Requirement already satisfied: mlxtend in /usr/local/lib/python3.9/dist-packages (0.14.0)\n",
            "Requirement already satisfied: pandas>=0.17.1 in /usr/local/lib/python3.9/dist-packages (from mlxtend) (1.3.5)\n",
            "Requirement already satisfied: matplotlib>=1.5.1 in /usr/local/lib/python3.9/dist-packages (from mlxtend) (3.5.3)\n",
            "Requirement already satisfied: numpy>=1.10.4 in /usr/local/lib/python3.9/dist-packages (from mlxtend) (1.22.4)\n",
            "Requirement already satisfied: scipy>=0.17 in /usr/local/lib/python3.9/dist-packages (from mlxtend) (1.10.1)\n",
            "Requirement already satisfied: setuptools in /usr/local/lib/python3.9/dist-packages (from mlxtend) (57.4.0)\n",
            "Requirement already satisfied: scikit-learn>=0.18 in /usr/local/lib/python3.9/dist-packages (from mlxtend) (1.2.1)\n",
            "Requirement already satisfied: kiwisolver>=1.0.1 in /usr/local/lib/python3.9/dist-packages (from matplotlib>=1.5.1->mlxtend) (1.4.4)\n",
            "Requirement already satisfied: pillow>=6.2.0 in /usr/local/lib/python3.9/dist-packages (from matplotlib>=1.5.1->mlxtend) (8.4.0)\n",
            "Requirement already satisfied: pyparsing>=2.2.1 in /usr/local/lib/python3.9/dist-packages (from matplotlib>=1.5.1->mlxtend) (3.0.9)\n",
            "Requirement already satisfied: packaging>=20.0 in /usr/local/lib/python3.9/dist-packages (from matplotlib>=1.5.1->mlxtend) (23.0)\n",
            "Requirement already satisfied: cycler>=0.10 in /usr/local/lib/python3.9/dist-packages (from matplotlib>=1.5.1->mlxtend) (0.11.0)\n",
            "Requirement already satisfied: python-dateutil>=2.7 in /usr/local/lib/python3.9/dist-packages (from matplotlib>=1.5.1->mlxtend) (2.8.2)\n",
            "Requirement already satisfied: fonttools>=4.22.0 in /usr/local/lib/python3.9/dist-packages (from matplotlib>=1.5.1->mlxtend) (4.39.0)\n",
            "Requirement already satisfied: pytz>=2017.3 in /usr/local/lib/python3.9/dist-packages (from pandas>=0.17.1->mlxtend) (2022.7.1)\n",
            "Requirement already satisfied: threadpoolctl>=2.0.0 in /usr/local/lib/python3.9/dist-packages (from scikit-learn>=0.18->mlxtend) (3.1.0)\n",
            "Requirement already satisfied: joblib>=1.1.1 in /usr/local/lib/python3.9/dist-packages (from scikit-learn>=0.18->mlxtend) (1.2.0)\n",
            "Requirement already satisfied: six>=1.5 in /usr/local/lib/python3.9/dist-packages (from python-dateutil>=2.7->matplotlib>=1.5.1->mlxtend) (1.15.0)\n"
          ]
        }
      ]
    },
    {
      "cell_type": "code",
      "source": [
        "#plots IMPORTS\n",
        "from mlxtend.plotting import plot_confusion_matrix\n",
        "from matplotlib import pyplot as plt\n",
        "from sklearn.metrics import confusion_matrix, classification_report\n",
        "\n",
        "plot_confusion_matrix(confusion_matrix(y_test, predict), cmap=plt.cm.Dark2)\n",
        "plt.show()"
      ],
      "metadata": {
        "colab": {
          "base_uri": "https://localhost:8080/",
          "height": 279
        },
        "id": "47jeEkIy-e-J",
        "outputId": "654472e5-f813-4d8c-821a-517c2cc007e6"
      },
      "execution_count": null,
      "outputs": [
        {
          "output_type": "display_data",
          "data": {
            "text/plain": [
              "<Figure size 432x288 with 1 Axes>"
            ],
            "image/png": "[encoded data removed]"
          },
          "metadata": {
            "needs_background": "light"
          }
        }
      ]
    },
    {
      "cell_type": "code",
      "source": [
        "print(classification_report(y_test, predict))"
      ],
      "metadata": {
        "colab": {
          "base_uri": "https://localhost:8080/"
        },
        "id": "7IURAY1d-h5a",
        "outputId": "5ebfce6c-c8c3-41aa-f3eb-f7edd70c668c"
      },
      "execution_count": null,
      "outputs": [
        {
          "output_type": "stream",
          "name": "stdout",
          "text": [
            "              precision    recall  f1-score   support\n",
            "\n",
            "           0       0.95      1.00      0.98       400\n",
            "           1       0.88      0.86      0.87       127\n",
            "           2       0.62      0.35      0.44        23\n",
            "           3       0.88      0.67      0.76        21\n",
            "\n",
            "    accuracy                           0.93       571\n",
            "   macro avg       0.83      0.72      0.76       571\n",
            "weighted avg       0.92      0.93      0.92       571\n",
            "\n"
          ]
        }
      ]
    },
    {
      "cell_type": "markdown",
      "source": [
        "# dTree"
      ],
      "metadata": {
        "id": "-4h8ifx_-pVc"
      }
    },
    {
      "cell_type": "code",
      "source": [
        "# importiamo Pandas e il dataframe dal file data/wine.csv\n",
        "import pandas as pd\n",
        "df = pd.read_csv('/content/drive/MyDrive/Colab Notebooks/car.data', names=['buying','maint','doors','persons','lug_boot','safety','class values'])"
      ],
      "metadata": {
        "id": "rhcQSpB1-sF6"
      },
      "execution_count": null,
      "outputs": []
    },
    {
      "cell_type": "code",
      "source": [
        "buy = {'vhigh': 0,'high': 1,'med': 2,'low': 3}\n",
        "df.buying = [buy[item] for item in df.buying] #sostuiamo i valori in buying"
      ],
      "metadata": {
        "id": "eVxqCMKl_MOZ"
      },
      "execution_count": null,
      "outputs": []
    },
    {
      "cell_type": "code",
      "source": [
        "buy = {'vhigh': 0,'high': 1,'med': 2,'low': 3}\n",
        "df.maint = [buy[item] for item in df.maint]"
      ],
      "metadata": {
        "id": "6gK9vN1l_PwL"
      },
      "execution_count": null,
      "outputs": []
    },
    {
      "cell_type": "code",
      "source": [
        "boot = {'small': 0,'med': 1,'big': 2}\n",
        "df.lug_boot\t = [boot[item] for item in df.lug_boot]"
      ],
      "metadata": {
        "id": "Cf7S0ug9_Vhi"
      },
      "execution_count": null,
      "outputs": []
    },
    {
      "cell_type": "code",
      "source": [
        "safe = {'low': 0,'med': 1,'high': 2}\n",
        "df.safety\t = [safe[item] for item in df.safety]"
      ],
      "metadata": {
        "id": "NqB-Hc7P_ZTl"
      },
      "execution_count": null,
      "outputs": []
    },
    {
      "cell_type": "code",
      "source": [
        "cvalues = {'unacc': 0,'acc': 1,'good': 2,'vgood': 3}\n",
        "df['class values'] = [cvalues[item] for item in df['class values']] #sostuiamo i valori in buying"
      ],
      "metadata": {
        "id": "PIFgMHmu_b3J"
      },
      "execution_count": null,
      "outputs": []
    },
    {
      "cell_type": "code",
      "source": [
        "door = {'2': 2,'3': 3,'4': 4,'5more': 5}\n",
        "df.doors = [door[item] for item in df.doors] #sostuiamo i valori in buying"
      ],
      "metadata": {
        "id": "4bK_5INo_d7r"
      },
      "execution_count": null,
      "outputs": []
    },
    {
      "cell_type": "code",
      "source": [
        "p = {'2': 2,'4': 4,'more': 5}\n",
        "df.persons\t = [p[item] for item in df.persons]"
      ],
      "metadata": {
        "id": "Y1lRR9Oo_gN5"
      },
      "execution_count": null,
      "outputs": []
    },
    {
      "cell_type": "code",
      "source": [
        "dfnp = df.to_numpy()\n",
        "x=df.drop(['class values'], axis=1).to_numpy() # prendiamo tutti i dati tranne l'ultima colonna -> variabili indipendenti, osservazioni\n",
        "y=df.to_numpy()[:,-1] # prendiamo solo l'ultima colonna -> variabile dipendente, target"
      ],
      "metadata": {
        "id": "XUNa99CS_jCz"
      },
      "execution_count": null,
      "outputs": []
    },
    {
      "cell_type": "code",
      "source": [
        "df = df.drop(['class values'], axis=1)"
      ],
      "metadata": {
        "id": "ZY8CX1GZ__oy"
      },
      "execution_count": null,
      "outputs": []
    },
    {
      "cell_type": "code",
      "source": [
        "df"
      ],
      "metadata": {
        "colab": {
          "base_uri": "https://localhost:8080/",
          "height": 424
        },
        "id": "uIXIgQH4AZhM",
        "outputId": "549f99b0-74ea-469c-b1ef-3524f766832a"
      },
      "execution_count": null,
      "outputs": [
        {
          "output_type": "execute_result",
          "data": {
            "text/plain": [
              "      buying  maint  doors  persons  lug_boot  safety\n",
              "0          0      0      2        2         0       0\n",
              "1          0      0      2        2         0       1\n",
              "2          0      0      2        2         0       2\n",
              "3          0      0      2        2         1       0\n",
              "4          0      0      2        2         1       1\n",
              "...      ...    ...    ...      ...       ...     ...\n",
              "1723       3      3      5        5         1       1\n",
              "1724       3      3      5        5         1       2\n",
              "1725       3      3      5        5         2       0\n",
              "1726       3      3      5        5         2       1\n",
              "1727       3      3      5        5         2       2\n",
              "\n",
              "[1728 rows x 6 columns]"
            ],
            "text/html": [
              "\n",
              "  <div id=\"df-fd01acfb-5eec-44e6-ba1d-b0745bb58893\">\n",
              "    <div class=\"colab-df-container\">\n",
              "      <div>\n",
              "<style scoped>\n",
              "    .dataframe tbody tr th:only-of-type {\n",
              "        vertical-align: middle;\n",
              "    }\n",
              "\n",
              "    .dataframe tbody tr th {\n",
              "        vertical-align: top;\n",
              "    }\n",
              "\n",
              "    .dataframe thead th {\n",
              "        text-align: right;\n",
              "    }\n",
              "</style>\n",
              "<table border=\"1\" class=\"dataframe\">\n",
              "  <thead>\n",
              "    <tr style=\"text-align: right;\">\n",
              "      <th></th>\n",
              "      <th>buying</th>\n",
              "      <th>maint</th>\n",
              "      <th>doors</th>\n",
              "      <th>persons</th>\n",
              "      <th>lug_boot</th>\n",
              "      <th>safety</th>\n",
              "    </tr>\n",
              "  </thead>\n",
              "  <tbody>\n",
              "    <tr>\n",
              "      <th>0</th>\n",
              "      <td>0</td>\n",
              "      <td>0</td>\n",
              "      <td>2</td>\n",
              "      <td>2</td>\n",
              "      <td>0</td>\n",
              "      <td>0</td>\n",
              "    </tr>\n",
              "    <tr>\n",
              "      <th>1</th>\n",
              "      <td>0</td>\n",
              "      <td>0</td>\n",
              "      <td>2</td>\n",
              "      <td>2</td>\n",
              "      <td>0</td>\n",
              "      <td>1</td>\n",
              "    </tr>\n",
              "    <tr>\n",
              "      <th>2</th>\n",
              "      <td>0</td>\n",
              "      <td>0</td>\n",
              "      <td>2</td>\n",
              "      <td>2</td>\n",
              "      <td>0</td>\n",
              "      <td>2</td>\n",
              "    </tr>\n",
              "    <tr>\n",
              "      <th>3</th>\n",
              "      <td>0</td>\n",
              "      <td>0</td>\n",
              "      <td>2</td>\n",
              "      <td>2</td>\n",
              "      <td>1</td>\n",
              "      <td>0</td>\n",
              "    </tr>\n",
              "    <tr>\n",
              "      <th>4</th>\n",
              "      <td>0</td>\n",
              "      <td>0</td>\n",
              "      <td>2</td>\n",
              "      <td>2</td>\n",
              "      <td>1</td>\n",
              "      <td>1</td>\n",
              "    </tr>\n",
              "    <tr>\n",
              "      <th>...</th>\n",
              "      <td>...</td>\n",
              "      <td>...</td>\n",
              "      <td>...</td>\n",
              "      <td>...</td>\n",
              "      <td>...</td>\n",
              "      <td>...</td>\n",
              "    </tr>\n",
              "    <tr>\n",
              "      <th>1723</th>\n",
              "      <td>3</td>\n",
              "      <td>3</td>\n",
              "      <td>5</td>\n",
              "      <td>5</td>\n",
              "      <td>1</td>\n",
              "      <td>1</td>\n",
              "    </tr>\n",
              "    <tr>\n",
              "      <th>1724</th>\n",
              "      <td>3</td>\n",
              "      <td>3</td>\n",
              "      <td>5</td>\n",
              "      <td>5</td>\n",
              "      <td>1</td>\n",
              "      <td>2</td>\n",
              "    </tr>\n",
              "    <tr>\n",
              "      <th>1725</th>\n",
              "      <td>3</td>\n",
              "      <td>3</td>\n",
              "      <td>5</td>\n",
              "      <td>5</td>\n",
              "      <td>2</td>\n",
              "      <td>0</td>\n",
              "    </tr>\n",
              "    <tr>\n",
              "      <th>1726</th>\n",
              "      <td>3</td>\n",
              "      <td>3</td>\n",
              "      <td>5</td>\n",
              "      <td>5</td>\n",
              "      <td>2</td>\n",
              "      <td>1</td>\n",
              "    </tr>\n",
              "    <tr>\n",
              "      <th>1727</th>\n",
              "      <td>3</td>\n",
              "      <td>3</td>\n",
              "      <td>5</td>\n",
              "      <td>5</td>\n",
              "      <td>2</td>\n",
              "      <td>2</td>\n",
              "    </tr>\n",
              "  </tbody>\n",
              "</table>\n",
              "<p>1728 rows × 6 columns</p>\n",
              "</div>\n",
              "      <button class=\"colab-df-convert\" onclick=\"convertToInteractive('df-fd01acfb-5eec-44e6-ba1d-b0745bb58893')\"\n",
              "              title=\"Convert this dataframe to an interactive table.\"\n",
              "              style=\"display:none;\">\n",
              "        \n",
              "  <svg xmlns=\"http://www.w3.org/2000/svg\" height=\"24px\"viewBox=\"0 0 24 24\"\n",
              "       width=\"24px\">\n",
              "    <path d=\"M0 0h24v24H0V0z\" fill=\"none\"/>\n",
              "    <path d=\"M18.56 5.44l.94 2.06.94-2.06 2.06-.94-2.06-.94-.94-2.06-.94 2.06-2.06.94zm-11 1L8.5 8.5l.94-2.06 2.06-.94-2.06-.94L8.5 2.5l-.94 2.06-2.06.94zm10 10l.94 2.06.94-2.06 2.06-.94-2.06-.94-.94-2.06-.94 2.06-2.06.94z\"/><path d=\"M17.41 7.96l-1.37-1.37c-.4-.4-.92-.59-1.43-.59-.52 0-1.04.2-1.43.59L10.3 9.45l-7.72 7.72c-.78.78-.78 2.05 0 2.83L4 21.41c.39.39.9.59 1.41.59.51 0 1.02-.2 1.41-.59l7.78-7.78 2.81-2.81c.8-.78.8-2.07 0-2.86zM5.41 20L4 18.59l7.72-7.72 1.47 1.35L5.41 20z\"/>\n",
              "  </svg>\n",
              "      </button>\n",
              "      \n",
              "  <style>\n",
              "    .colab-df-container {\n",
              "      display:flex;\n",
              "      flex-wrap:wrap;\n",
              "      gap: 12px;\n",
              "    }\n",
              "\n",
              "    .colab-df-convert {\n",
              "      background-color: #E8F0FE;\n",
              "      border: none;\n",
              "      border-radius: 50%;\n",
              "      cursor: pointer;\n",
              "      display: none;\n",
              "      fill: #1967D2;\n",
              "      height: 32px;\n",
              "      padding: 0 0 0 0;\n",
              "      width: 32px;\n",
              "    }\n",
              "\n",
              "    .colab-df-convert:hover {\n",
              "      background-color: #E2EBFA;\n",
              "      box-shadow: 0px 1px 2px rgba(60, 64, 67, 0.3), 0px 1px 3px 1px rgba(60, 64, 67, 0.15);\n",
              "      fill: #174EA6;\n",
              "    }\n",
              "\n",
              "    [theme=dark] .colab-df-convert {\n",
              "      background-color: #3B4455;\n",
              "      fill: #D2E3FC;\n",
              "    }\n",
              "\n",
              "    [theme=dark] .colab-df-convert:hover {\n",
              "      background-color: #434B5C;\n",
              "      box-shadow: 0px 1px 3px 1px rgba(0, 0, 0, 0.15);\n",
              "      filter: drop-shadow(0px 1px 2px rgba(0, 0, 0, 0.3));\n",
              "      fill: #FFFFFF;\n",
              "    }\n",
              "  </style>\n",
              "\n",
              "      <script>\n",
              "        const buttonEl =\n",
              "          document.querySelector('#df-fd01acfb-5eec-44e6-ba1d-b0745bb58893 button.colab-df-convert');\n",
              "        buttonEl.style.display =\n",
              "          google.colab.kernel.accessAllowed ? 'block' : 'none';\n",
              "\n",
              "        async function convertToInteractive(key) {\n",
              "          const element = document.querySelector('#df-fd01acfb-5eec-44e6-ba1d-b0745bb58893');\n",
              "          const dataTable =\n",
              "            await google.colab.kernel.invokeFunction('convertToInteractive',\n",
              "                                                     [key], {});\n",
              "          if (!dataTable) return;\n",
              "\n",
              "          const docLinkHtml = 'Like what you see? Visit the ' +\n",
              "            '<a target=\"_blank\" href=https://colab.research.google.com/notebooks/data_table.ipynb>data table notebook</a>'\n",
              "            + ' to learn more about interactive tables.';\n",
              "          element.innerHTML = '';\n",
              "          dataTable['output_type'] = 'display_data';\n",
              "          await google.colab.output.renderOutput(dataTable, element);\n",
              "          const docLink = document.createElement('div');\n",
              "          docLink.innerHTML = docLinkHtml;\n",
              "          element.appendChild(docLink);\n",
              "        }\n",
              "      </script>\n",
              "    </div>\n",
              "  </div>\n",
              "  "
            ]
          },
          "metadata": {},
          "execution_count": 33
        }
      ]
    },
    {
      "cell_type": "code",
      "source": [
        "from sklearn.model_selection import train_test_split\n",
        "\n",
        "X_train, X_test, y_train, y_test = train_test_split(x, y, \n",
        "                                                    test_size =0.33, #by default is 75%-25%\n",
        "                                                    #shuffle is set True by default,\n",
        "                                                    stratify=y,\n",
        "                                                    random_state= 123) #fix random seed for replicability"
      ],
      "metadata": {
        "id": "4jOZqRq0Aa5a"
      },
      "execution_count": null,
      "outputs": []
    },
    {
      "cell_type": "code",
      "source": [
        "X_train.shape,y_train.shape,X_test.shape,y_test.shape"
      ],
      "metadata": {
        "colab": {
          "base_uri": "https://localhost:8080/"
        },
        "id": "le0OlBb5Ad2q",
        "outputId": "2cca222e-cc30-4732-98ff-c70267611709"
      },
      "execution_count": null,
      "outputs": [
        {
          "output_type": "execute_result",
          "data": {
            "text/plain": [
              "((1157, 6), (1157,), (571, 6), (571,))"
            ]
          },
          "metadata": {},
          "execution_count": 35
        }
      ]
    },
    {
      "cell_type": "code",
      "source": [
        "# importiamo il metodo che vogliamo utilizzara (tra i tanti disponibili...)\n",
        "from sklearn import tree\n",
        "\n",
        "# impostiamo i parametri del metodo\n",
        "# https://scikit-learn.org/stable/modules/generated/sklearn.tree.DecisionTreeClassifier.html\n",
        "tree_clf = tree.DecisionTreeClassifier(criterion=\"gini\", # criteri per stabilire come splittare\n",
        "                                       max_depth=4, # profondità dell'albero per evitare l'overfitting\n",
        "                                       min_samples_split=50, # dimensione minima del sottogruppo a cui fermarsi (no more split)\n",
        "                                       max_leaf_nodes=6, # numero dei nodi foglia\n",
        "                                       min_samples_leaf=4 # numero di campioni per essere una foglia\n",
        "                                      )\n",
        "\n",
        "# prima parte: dobbiamo fare in modo che il metodo impari dalle informazioni a disposizione\n",
        "tree_clf.fit(X_train,y_train)\n",
        "\n",
        "# seconda parte: vediamo se il metodo ha imparato bene facendogli prevedere i risultati \n",
        "predict = tree_clf.predict(X_test)\n",
        "\n",
        "# visualizziamo il risultato (solo i primi dieci pazienti)\n",
        "print(f'dati predetti dal metodo =                {predict[:10]}') # dati predetti dal metodo\n",
        "print(f'dati reali presenti nel dataset di test = {y_test[:10]}') # dati effettivi presenti nel test set"
      ],
      "metadata": {
        "colab": {
          "base_uri": "https://localhost:8080/"
        },
        "id": "OUG1I2G9Afca",
        "outputId": "66b6898e-5fa0-403b-fae5-f74c7b5840bc"
      },
      "execution_count": null,
      "outputs": [
        {
          "output_type": "stream",
          "name": "stdout",
          "text": [
            "dati predetti dal metodo =                [0 0 0 0 0 2 0 1 2 0]\n",
            "dati reali presenti nel dataset di test = [0 0 0 0 0 3 0 1 1 0]\n"
          ]
        }
      ]
    },
    {
      "cell_type": "code",
      "source": [
        "#plots IMPORTS\n",
        "from mlxtend.plotting import plot_confusion_matrix\n",
        "from matplotlib import pyplot as plt\n",
        "from sklearn.metrics import confusion_matrix, classification_report\n",
        "\n",
        "plot_confusion_matrix(confusion_matrix(y_test, predict))\n",
        "plt.show()"
      ],
      "metadata": {
        "colab": {
          "base_uri": "https://localhost:8080/",
          "height": 279
        },
        "id": "a4ElbP5EAhMU",
        "outputId": "f71c4315-081e-44d8-a247-a3e1b835cca7"
      },
      "execution_count": null,
      "outputs": [
        {
          "output_type": "display_data",
          "data": {
            "text/plain": [
              "<Figure size 432x288 with 1 Axes>"
            ],
            "image/png": "[encoded data removed]"
          },
          "metadata": {
            "needs_background": "light"
          }
        }
      ]
    },
    {
      "cell_type": "code",
      "source": [
        "print(classification_report(y_test, predict))"
      ],
      "metadata": {
        "colab": {
          "base_uri": "https://localhost:8080/"
        },
        "id": "r07uncMmAjKd",
        "outputId": "2d62394d-b2ba-49b9-9e1c-217c18b5037e"
      },
      "execution_count": null,
      "outputs": [
        {
          "output_type": "stream",
          "name": "stdout",
          "text": [
            "              precision    recall  f1-score   support\n",
            "\n",
            "           0       0.96      0.93      0.94       400\n",
            "           1       0.75      0.69      0.72       127\n",
            "           2       0.34      1.00      0.51        23\n",
            "           3       0.00      0.00      0.00        21\n",
            "\n",
            "    accuracy                           0.84       571\n",
            "   macro avg       0.51      0.66      0.54       571\n",
            "weighted avg       0.85      0.84      0.84       571\n",
            "\n"
          ]
        },
        {
          "output_type": "stream",
          "name": "stderr",
          "text": [
            "/usr/local/lib/python3.9/dist-packages/sklearn/metrics/_classification.py:1344: UndefinedMetricWarning: Precision and F-score are ill-defined and being set to 0.0 in labels with no predicted samples. Use `zero_division` parameter to control this behavior.\n",
            "  _warn_prf(average, modifier, msg_start, len(result))\n",
            "/usr/local/lib/python3.9/dist-packages/sklearn/metrics/_classification.py:1344: UndefinedMetricWarning: Precision and F-score are ill-defined and being set to 0.0 in labels with no predicted samples. Use `zero_division` parameter to control this behavior.\n",
            "  _warn_prf(average, modifier, msg_start, len(result))\n",
            "/usr/local/lib/python3.9/dist-packages/sklearn/metrics/_classification.py:1344: UndefinedMetricWarning: Precision and F-score are ill-defined and being set to 0.0 in labels with no predicted samples. Use `zero_division` parameter to control this behavior.\n",
            "  _warn_prf(average, modifier, msg_start, len(result))\n"
          ]
        }
      ]
    },
    {
      "cell_type": "code",
      "source": [
        "#save the feature list into a vector (sono i nomi delle colonne del dataset)\n",
        "features=list(df.columns.values)\n",
        "\n",
        "import graphviz\n",
        "dot_data = tree.export_graphviz(tree_clf, out_file=None, \n",
        "                     feature_names=features[0:6],  \n",
        "                     class_names=['0','1','2','3'],  \n",
        "                     filled=True, rounded=True,  \n",
        "                     special_characters=True)  \n",
        "graph = graphviz.Source(dot_data)\n",
        "graph.render('diabetes')\n",
        "graph"
      ],
      "metadata": {
        "id": "H2bzrZyQApyF",
        "colab": {
          "base_uri": "https://localhost:8080/",
          "height": 757
        },
        "outputId": "f0261425-569d-47a1-e44e-e65c0155d740"
      },
      "execution_count": null,
      "outputs": [
        {
          "output_type": "execute_result",
          "data": {
            "text/plain": [
              "<graphviz.files.Source at 0x7fcd3ad48af0>"
            ],
            "image/svg+xml": "<?xml version=\"1.0\" encoding=\"UTF-8\" standalone=\"no\"?>\n<!DOCTYPE svg PUBLIC \"-//W3C//DTD SVG 1.1//EN\"\n \"http://www.w3.org/Graphics/SVG/1.1/DTD/svg11.dtd\">\n<!-- Generated by graphviz version 2.43.0 (0)\n -->\n<!-- Title: Tree Pages: 1 -->\n<svg width=\"667pt\" height=\"552pt\"\n viewBox=\"0.00 0.00 666.50 552.00\" xmlns=\"http://www.w3.org/2000/svg\" xmlns:xlink=\"http://www.w3.org/1999/xlink\">\n<g id=\"graph0\" class=\"graph\" transform=\"scale(1 1) rotate(0) translate(4 548)\">\n<title>Tree</title>\n<polygon fill=\"white\" stroke=\"transparent\" points=\"-4,4 -4,-548 662.5,-548 662.5,4 -4,4\"/>\n<!-- 0 -->\n<g id=\"node1\" class=\"node\">\n<title>0</title>\n<path fill=\"#efb285\" stroke=\"black\" d=\"M229,-544C229,-544 83,-544 83,-544 77,-544 71,-538 71,-532 71,-532 71,-473 71,-473 71,-467 77,-461 83,-461 83,-461 229,-461 229,-461 235,-461 241,-467 241,-473 241,-473 241,-532 241,-532 241,-538 235,-544 229,-544\"/>\n<text text-anchor=\"start\" x=\"115\" y=\"-528.8\" font-family=\"Helvetica,sans-Serif\" font-size=\"14.00\">persons ≤ 3.0</text>\n<text text-anchor=\"start\" x=\"120.5\" y=\"-513.8\" font-family=\"Helvetica,sans-Serif\" font-size=\"14.00\">gini = 0.458</text>\n<text text-anchor=\"start\" x=\"107.5\" y=\"-498.8\" font-family=\"Helvetica,sans-Serif\" font-size=\"14.00\">samples = 1157</text>\n<text text-anchor=\"start\" x=\"79\" y=\"-483.8\" font-family=\"Helvetica,sans-Serif\" font-size=\"14.00\">value = [810, 257, 46, 44]</text>\n<text text-anchor=\"start\" x=\"128.5\" y=\"-468.8\" font-family=\"Helvetica,sans-Serif\" font-size=\"14.00\">class = 0</text>\n</g>\n<!-- 1 -->\n<g id=\"node2\" class=\"node\">\n<title>1</title>\n<path fill=\"#e58139\" stroke=\"black\" d=\"M128,-417.5C128,-417.5 12,-417.5 12,-417.5 6,-417.5 0,-411.5 0,-405.5 0,-405.5 0,-361.5 0,-361.5 0,-355.5 6,-349.5 12,-349.5 12,-349.5 128,-349.5 128,-349.5 134,-349.5 140,-355.5 140,-361.5 140,-361.5 140,-405.5 140,-405.5 140,-411.5 134,-417.5 128,-417.5\"/>\n<text text-anchor=\"start\" x=\"42\" y=\"-402.3\" font-family=\"Helvetica,sans-Serif\" font-size=\"14.00\">gini = 0.0</text>\n<text text-anchor=\"start\" x=\"25\" y=\"-387.3\" font-family=\"Helvetica,sans-Serif\" font-size=\"14.00\">samples = 386</text>\n<text text-anchor=\"start\" x=\"8\" y=\"-372.3\" font-family=\"Helvetica,sans-Serif\" font-size=\"14.00\">value = [386, 0, 0, 0]</text>\n<text text-anchor=\"start\" x=\"42.5\" y=\"-357.3\" font-family=\"Helvetica,sans-Serif\" font-size=\"14.00\">class = 0</text>\n</g>\n<!-- 0&#45;&gt;1 -->\n<g id=\"edge1\" class=\"edge\">\n<title>0&#45;&gt;1</title>\n<path fill=\"none\" stroke=\"black\" d=\"M126.16,-460.91C117.81,-449.54 108.72,-437.18 100.34,-425.77\"/>\n<polygon fill=\"black\" stroke=\"black\" points=\"103.12,-423.65 94.38,-417.67 97.48,-427.8 103.12,-423.65\"/>\n<text text-anchor=\"middle\" x=\"90.61\" y=\"-438.68\" font-family=\"Helvetica,sans-Serif\" font-size=\"14.00\">True</text>\n</g>\n<!-- 2 -->\n<g id=\"node3\" class=\"node\">\n<title>2</title>\n<path fill=\"#f7d6bf\" stroke=\"black\" d=\"M316,-425C316,-425 170,-425 170,-425 164,-425 158,-419 158,-413 158,-413 158,-354 158,-354 158,-348 164,-342 170,-342 170,-342 316,-342 316,-342 322,-342 328,-348 328,-354 328,-354 328,-413 328,-413 328,-419 322,-425 316,-425\"/>\n<text text-anchor=\"start\" x=\"208\" y=\"-409.8\" font-family=\"Helvetica,sans-Serif\" font-size=\"14.00\">safety ≤ 0.5</text>\n<text text-anchor=\"start\" x=\"211\" y=\"-394.8\" font-family=\"Helvetica,sans-Serif\" font-size=\"14.00\">gini = 0.58</text>\n<text text-anchor=\"start\" x=\"198\" y=\"-379.8\" font-family=\"Helvetica,sans-Serif\" font-size=\"14.00\">samples = 771</text>\n<text text-anchor=\"start\" x=\"166\" y=\"-364.8\" font-family=\"Helvetica,sans-Serif\" font-size=\"14.00\">value = [424, 257, 46, 44]</text>\n<text text-anchor=\"start\" x=\"215.5\" y=\"-349.8\" font-family=\"Helvetica,sans-Serif\" font-size=\"14.00\">class = 0</text>\n</g>\n<!-- 0&#45;&gt;2 -->\n<g id=\"edge2\" class=\"edge\">\n<title>0&#45;&gt;2</title>\n<path fill=\"none\" stroke=\"black\" d=\"M186.18,-460.91C192.86,-451.92 200.01,-442.32 206.9,-433.05\"/>\n<polygon fill=\"black\" stroke=\"black\" points=\"209.71,-435.13 212.87,-425.02 204.09,-430.96 209.71,-435.13\"/>\n<text text-anchor=\"middle\" x=\"216.51\" y=\"-446.05\" font-family=\"Helvetica,sans-Serif\" font-size=\"14.00\">False</text>\n</g>\n<!-- 3 -->\n<g id=\"node4\" class=\"node\">\n<title>3</title>\n<path fill=\"#e58139\" stroke=\"black\" d=\"M215,-298.5C215,-298.5 99,-298.5 99,-298.5 93,-298.5 87,-292.5 87,-286.5 87,-286.5 87,-242.5 87,-242.5 87,-236.5 93,-230.5 99,-230.5 99,-230.5 215,-230.5 215,-230.5 221,-230.5 227,-236.5 227,-242.5 227,-242.5 227,-286.5 227,-286.5 227,-292.5 221,-298.5 215,-298.5\"/>\n<text text-anchor=\"start\" x=\"129\" y=\"-283.3\" font-family=\"Helvetica,sans-Serif\" font-size=\"14.00\">gini = 0.0</text>\n<text text-anchor=\"start\" x=\"112\" y=\"-268.3\" font-family=\"Helvetica,sans-Serif\" font-size=\"14.00\">samples = 259</text>\n<text text-anchor=\"start\" x=\"95\" y=\"-253.3\" font-family=\"Helvetica,sans-Serif\" font-size=\"14.00\">value = [259, 0, 0, 0]</text>\n<text text-anchor=\"start\" x=\"129.5\" y=\"-238.3\" font-family=\"Helvetica,sans-Serif\" font-size=\"14.00\">class = 0</text>\n</g>\n<!-- 2&#45;&gt;3 -->\n<g id=\"edge3\" class=\"edge\">\n<title>2&#45;&gt;3</title>\n<path fill=\"none\" stroke=\"black\" d=\"M213.16,-341.91C204.81,-330.54 195.72,-318.18 187.34,-306.77\"/>\n<polygon fill=\"black\" stroke=\"black\" points=\"190.12,-304.65 181.38,-298.67 184.48,-308.8 190.12,-304.65\"/>\n</g>\n<!-- 4 -->\n<g id=\"node5\" class=\"node\">\n<title>4</title>\n<path fill=\"#cef8cb\" stroke=\"black\" d=\"M403,-306C403,-306 257,-306 257,-306 251,-306 245,-300 245,-294 245,-294 245,-235 245,-235 245,-229 251,-223 257,-223 257,-223 403,-223 403,-223 409,-223 415,-229 415,-235 415,-235 415,-294 415,-294 415,-300 409,-306 403,-306\"/>\n<text text-anchor=\"start\" x=\"293\" y=\"-290.8\" font-family=\"Helvetica,sans-Serif\" font-size=\"14.00\">buying ≤ 1.5</text>\n<text text-anchor=\"start\" x=\"294.5\" y=\"-275.8\" font-family=\"Helvetica,sans-Serif\" font-size=\"14.00\">gini = 0.629</text>\n<text text-anchor=\"start\" x=\"285\" y=\"-260.8\" font-family=\"Helvetica,sans-Serif\" font-size=\"14.00\">samples = 512</text>\n<text text-anchor=\"start\" x=\"253\" y=\"-245.8\" font-family=\"Helvetica,sans-Serif\" font-size=\"14.00\">value = [165, 257, 46, 44]</text>\n<text text-anchor=\"start\" x=\"302.5\" y=\"-230.8\" font-family=\"Helvetica,sans-Serif\" font-size=\"14.00\">class = 1</text>\n</g>\n<!-- 2&#45;&gt;4 -->\n<g id=\"edge4\" class=\"edge\">\n<title>2&#45;&gt;4</title>\n<path fill=\"none\" stroke=\"black\" d=\"M273.18,-341.91C279.86,-332.92 287.01,-323.32 293.9,-314.05\"/>\n<polygon fill=\"black\" stroke=\"black\" points=\"296.71,-316.13 299.87,-306.02 291.09,-311.96 296.71,-316.13\"/>\n</g>\n<!-- 5 -->\n<g id=\"node6\" class=\"node\">\n<title>5</title>\n<path fill=\"#fbeee4\" stroke=\"black\" d=\"M307.5,-187C307.5,-187 176.5,-187 176.5,-187 170.5,-187 164.5,-181 164.5,-175 164.5,-175 164.5,-116 164.5,-116 164.5,-110 170.5,-104 176.5,-104 176.5,-104 307.5,-104 307.5,-104 313.5,-104 319.5,-110 319.5,-116 319.5,-116 319.5,-175 319.5,-175 319.5,-181 313.5,-187 307.5,-187\"/>\n<text text-anchor=\"start\" x=\"208\" y=\"-171.8\" font-family=\"Helvetica,sans-Serif\" font-size=\"14.00\">maint ≤ 1.5</text>\n<text text-anchor=\"start\" x=\"206.5\" y=\"-156.8\" font-family=\"Helvetica,sans-Serif\" font-size=\"14.00\">gini = 0.497</text>\n<text text-anchor=\"start\" x=\"197\" y=\"-141.8\" font-family=\"Helvetica,sans-Serif\" font-size=\"14.00\">samples = 248</text>\n<text text-anchor=\"start\" x=\"172.5\" y=\"-126.8\" font-family=\"Helvetica,sans-Serif\" font-size=\"14.00\">value = [133, 115, 0, 0]</text>\n<text text-anchor=\"start\" x=\"214.5\" y=\"-111.8\" font-family=\"Helvetica,sans-Serif\" font-size=\"14.00\">class = 0</text>\n</g>\n<!-- 4&#45;&gt;5 -->\n<g id=\"edge5\" class=\"edge\">\n<title>4&#45;&gt;5</title>\n<path fill=\"none\" stroke=\"black\" d=\"M299.47,-222.91C292.71,-213.92 285.48,-204.32 278.52,-195.05\"/>\n<polygon fill=\"black\" stroke=\"black\" points=\"281.29,-192.91 272.48,-187.02 275.69,-197.12 281.29,-192.91\"/>\n</g>\n<!-- 6 -->\n<g id=\"node9\" class=\"node\">\n<title>6</title>\n<path fill=\"#aef4a8\" stroke=\"black\" d=\"M488,-187C488,-187 350,-187 350,-187 344,-187 338,-181 338,-175 338,-175 338,-116 338,-116 338,-110 344,-104 350,-104 350,-104 488,-104 488,-104 494,-104 500,-110 500,-116 500,-116 500,-175 500,-175 500,-181 494,-187 488,-187\"/>\n<text text-anchor=\"start\" x=\"385\" y=\"-171.8\" font-family=\"Helvetica,sans-Serif\" font-size=\"14.00\">maint ≤ 1.5</text>\n<text text-anchor=\"start\" x=\"383.5\" y=\"-156.8\" font-family=\"Helvetica,sans-Serif\" font-size=\"14.00\">gini = 0.638</text>\n<text text-anchor=\"start\" x=\"374\" y=\"-141.8\" font-family=\"Helvetica,sans-Serif\" font-size=\"14.00\">samples = 264</text>\n<text text-anchor=\"start\" x=\"346\" y=\"-126.8\" font-family=\"Helvetica,sans-Serif\" font-size=\"14.00\">value = [32, 142, 46, 44]</text>\n<text text-anchor=\"start\" x=\"391.5\" y=\"-111.8\" font-family=\"Helvetica,sans-Serif\" font-size=\"14.00\">class = 1</text>\n</g>\n<!-- 4&#45;&gt;6 -->\n<g id=\"edge8\" class=\"edge\">\n<title>4&#45;&gt;6</title>\n<path fill=\"none\" stroke=\"black\" d=\"M360.88,-222.91C367.71,-213.92 375.02,-204.32 382.07,-195.05\"/>\n<polygon fill=\"black\" stroke=\"black\" points=\"384.91,-197.1 388.18,-187.02 379.34,-192.86 384.91,-197.1\"/>\n</g>\n<!-- 7 -->\n<g id=\"node7\" class=\"node\">\n<title>7</title>\n<path fill=\"#ea9b63\" stroke=\"black\" d=\"M144.5,-68C144.5,-68 21.5,-68 21.5,-68 15.5,-68 9.5,-62 9.5,-56 9.5,-56 9.5,-12 9.5,-12 9.5,-6 15.5,0 21.5,0 21.5,0 144.5,0 144.5,0 150.5,0 156.5,-6 156.5,-12 156.5,-12 156.5,-56 156.5,-56 156.5,-62 150.5,-68 144.5,-68\"/>\n<text text-anchor=\"start\" x=\"47.5\" y=\"-52.8\" font-family=\"Helvetica,sans-Serif\" font-size=\"14.00\">gini = 0.287</text>\n<text text-anchor=\"start\" x=\"38\" y=\"-37.8\" font-family=\"Helvetica,sans-Serif\" font-size=\"14.00\">samples = 121</text>\n<text text-anchor=\"start\" x=\"17.5\" y=\"-22.8\" font-family=\"Helvetica,sans-Serif\" font-size=\"14.00\">value = [100, 21, 0, 0]</text>\n<text text-anchor=\"start\" x=\"55.5\" y=\"-7.8\" font-family=\"Helvetica,sans-Serif\" font-size=\"14.00\">class = 0</text>\n</g>\n<!-- 5&#45;&gt;7 -->\n<g id=\"edge6\" class=\"edge\">\n<title>5&#45;&gt;7</title>\n<path fill=\"none\" stroke=\"black\" d=\"M182.79,-103.73C168.68,-94.01 153.66,-83.66 139.66,-74.02\"/>\n<polygon fill=\"black\" stroke=\"black\" points=\"141.32,-70.91 131.1,-68.13 137.35,-76.68 141.32,-70.91\"/>\n</g>\n<!-- 8 -->\n<g id=\"node8\" class=\"node\">\n<title>8</title>\n<path fill=\"#88ee7f\" stroke=\"black\" d=\"M303,-68C303,-68 187,-68 187,-68 181,-68 175,-62 175,-56 175,-56 175,-12 175,-12 175,-6 181,0 187,0 187,0 303,0 303,0 309,0 315,-6 315,-12 315,-12 315,-56 315,-56 315,-62 309,-68 303,-68\"/>\n<text text-anchor=\"start\" x=\"209.5\" y=\"-52.8\" font-family=\"Helvetica,sans-Serif\" font-size=\"14.00\">gini = 0.385</text>\n<text text-anchor=\"start\" x=\"200\" y=\"-37.8\" font-family=\"Helvetica,sans-Serif\" font-size=\"14.00\">samples = 127</text>\n<text text-anchor=\"start\" x=\"183\" y=\"-22.8\" font-family=\"Helvetica,sans-Serif\" font-size=\"14.00\">value = [33, 94, 0, 0]</text>\n<text text-anchor=\"start\" x=\"217.5\" y=\"-7.8\" font-family=\"Helvetica,sans-Serif\" font-size=\"14.00\">class = 1</text>\n</g>\n<!-- 5&#45;&gt;8 -->\n<g id=\"edge7\" class=\"edge\">\n<title>5&#45;&gt;8</title>\n<path fill=\"none\" stroke=\"black\" d=\"M243.12,-103.73C243.34,-95.52 243.58,-86.86 243.81,-78.56\"/>\n<polygon fill=\"black\" stroke=\"black\" points=\"247.31,-78.39 244.09,-68.3 240.32,-78.2 247.31,-78.39\"/>\n</g>\n<!-- 9 -->\n<g id=\"node10\" class=\"node\">\n<title>9</title>\n<path fill=\"#83ee7a\" stroke=\"black\" d=\"M481.5,-68C481.5,-68 350.5,-68 350.5,-68 344.5,-68 338.5,-62 338.5,-56 338.5,-56 338.5,-12 338.5,-12 338.5,-6 344.5,0 350.5,0 350.5,0 481.5,0 481.5,0 487.5,0 493.5,-6 493.5,-12 493.5,-12 493.5,-56 493.5,-56 493.5,-62 487.5,-68 481.5,-68\"/>\n<text text-anchor=\"start\" x=\"380.5\" y=\"-52.8\" font-family=\"Helvetica,sans-Serif\" font-size=\"14.00\">gini = 0.416</text>\n<text text-anchor=\"start\" x=\"371\" y=\"-37.8\" font-family=\"Helvetica,sans-Serif\" font-size=\"14.00\">samples = 140</text>\n<text text-anchor=\"start\" x=\"346.5\" y=\"-22.8\" font-family=\"Helvetica,sans-Serif\" font-size=\"14.00\">value = [27, 103, 0, 10]</text>\n<text text-anchor=\"start\" x=\"388.5\" y=\"-7.8\" font-family=\"Helvetica,sans-Serif\" font-size=\"14.00\">class = 1</text>\n</g>\n<!-- 6&#45;&gt;9 -->\n<g id=\"edge9\" class=\"edge\">\n<title>6&#45;&gt;9</title>\n<path fill=\"none\" stroke=\"black\" d=\"M417.88,-103.73C417.66,-95.52 417.42,-86.86 417.19,-78.56\"/>\n<polygon fill=\"black\" stroke=\"black\" points=\"420.68,-78.2 416.91,-68.3 413.69,-78.39 420.68,-78.2\"/>\n</g>\n<!-- 10 -->\n<g id=\"node11\" class=\"node\">\n<title>10</title>\n<path fill=\"#eff7fd\" stroke=\"black\" d=\"M646.5,-68C646.5,-68 523.5,-68 523.5,-68 517.5,-68 511.5,-62 511.5,-56 511.5,-56 511.5,-12 511.5,-12 511.5,-6 517.5,0 523.5,0 523.5,0 646.5,0 646.5,0 652.5,0 658.5,-6 658.5,-12 658.5,-12 658.5,-56 658.5,-56 658.5,-62 652.5,-68 646.5,-68\"/>\n<text text-anchor=\"start\" x=\"549.5\" y=\"-52.8\" font-family=\"Helvetica,sans-Serif\" font-size=\"14.00\">gini = 0.687</text>\n<text text-anchor=\"start\" x=\"540\" y=\"-37.8\" font-family=\"Helvetica,sans-Serif\" font-size=\"14.00\">samples = 124</text>\n<text text-anchor=\"start\" x=\"519.5\" y=\"-22.8\" font-family=\"Helvetica,sans-Serif\" font-size=\"14.00\">value = [5, 39, 46, 34]</text>\n<text text-anchor=\"start\" x=\"557.5\" y=\"-7.8\" font-family=\"Helvetica,sans-Serif\" font-size=\"14.00\">class = 2</text>\n</g>\n<!-- 6&#45;&gt;10 -->\n<g id=\"edge10\" class=\"edge\">\n<title>6&#45;&gt;10</title>\n<path fill=\"none\" stroke=\"black\" d=\"M480.81,-103.73C495.68,-93.92 511.53,-83.46 526.26,-73.75\"/>\n<polygon fill=\"black\" stroke=\"black\" points=\"528.36,-76.55 534.78,-68.13 524.51,-70.71 528.36,-76.55\"/>\n</g>\n</g>\n</svg>\n"
          },
          "metadata": {},
          "execution_count": 68
        }
      ]
    },
    {
      "cell_type": "code",
      "source": [
        "from sklearn.metrics import accuracy_score"
      ],
      "metadata": {
        "id": "gE-oLzSAGS3g"
      },
      "execution_count": null,
      "outputs": []
    },
    {
      "cell_type": "code",
      "source": [
        "import matplotlib.pyplot as plt\n",
        "import numpy as np\n",
        "lista = []\n",
        "for k in range(1,100,2):\n",
        "  neigh = KNeighborsClassifier(n_neighbors=k) \n",
        "  neigh.fit(X_train, y_train) \n",
        "  predict = neigh.predict(X_test)\n",
        "  a = accuracy_score(y_test, predict)\n",
        "  lista.append(a)\n",
        "\n",
        "\n",
        "plt.plot(lista, color = 'r')\n",
        "plt.show()"
      ],
      "metadata": {
        "colab": {
          "base_uri": "https://localhost:8080/",
          "height": 265
        },
        "id": "5ksDdl1qFyOd",
        "outputId": "25b04628-7a85-49da-cfd3-9c4882ee77ce"
      },
      "execution_count": null,
      "outputs": [
        {
          "output_type": "display_data",
          "data": {
            "text/plain": [
              "<Figure size 432x288 with 1 Axes>"
            ],
            "image/png": "[encoded data removed]"
          },
          "metadata": {
            "needs_background": "light"
          }
        }
      ]
    }
  ]
}