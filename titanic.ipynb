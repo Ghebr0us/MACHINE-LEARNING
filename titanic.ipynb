{
  "cells": [
    {
      "cell_type": "markdown",
      "metadata": {
        "id": "KEYVCkybAX3-"
      },
      "source": [
        "# Esercizio KNN\n"
      ]
    },
    {
      "cell_type": "markdown",
      "metadata": {
        "id": "PYeHRPZKAX4C"
      },
      "source": [
        "Si dispone di  un dataset in cui alcuni vini sono stati classificati (classe 1, 2 o 3) a seconda delle loro caratteristiche (Alcohol, Malic acid, Ash, Alcalinity of ash, Magnesium, Total phenols, Flavanoids, Nonflavanoid phenols, Proanthocyanins, Color intensity, Hue, OD280/OD315, Proline).\n",
        "\n",
        "__Creare un modello K-NN e dire a quale classe appartiene il vino con le seguenti caratteristiche__:"
      ]
    },
    {
      "cell_type": "code",
      "source": [
        "from google.colab import drive\n",
        "drive.mount('/content/drive')"
      ],
      "metadata": {
        "colab": {
          "base_uri": "https://localhost:8080/"
        },
        "id": "cFKiJfQlA2pK",
        "outputId": "fe4bf118-e118-4869-acd0-6abd4e1469e4"
      },
      "execution_count": null,
      "outputs": [
        {
          "output_type": "stream",
          "name": "stdout",
          "text": [
            "Mounted at /content/drive\n"
          ]
        }
      ]
    },
    {
      "cell_type": "markdown",
      "metadata": {
        "id": "AktRKtppAX4E"
      },
      "source": [
        "_(Istruzioni: in ogni casella di codice, scrivere le istruzioni corrispondenti al commento. Si suggerisce di fare una copia di questo file in modo da avere sempre i risultati corretti a disposizione, visto che ad ogni esecuzione gli output vengono ricalcolati)_"
      ]
    },
    {
      "cell_type": "code",
      "execution_count": null,
      "metadata": {
        "id": "UBm61KpPAX4F"
      },
      "outputs": [],
      "source": [
        "# importiamo Pandas e il dataframe dal file data/wine.csv\n",
        "import pandas as pd\n",
        "df = pd.read_csv('/content/drive/MyDrive/Colab Notebooks/titanic.csv')"
      ]
    },
    {
      "cell_type": "code",
      "execution_count": null,
      "metadata": {
        "id": "ByCwc6SjAX4F",
        "outputId": "11a9ef19-cd93-4bff-a78c-42f7a762bc2c",
        "colab": {
          "base_uri": "https://localhost:8080/",
          "height": 424
        }
      },
      "outputs": [
        {
          "output_type": "execute_result",
          "data": {
            "text/plain": [
              "     PassengerId  Survived  Pclass  \\\n",
              "1              2         1       1   \n",
              "3              4         1       1   \n",
              "6              7         0       1   \n",
              "10            11         1       3   \n",
              "11            12         1       1   \n",
              "..           ...       ...     ...   \n",
              "871          872         1       1   \n",
              "872          873         0       1   \n",
              "879          880         1       1   \n",
              "887          888         1       1   \n",
              "889          890         1       1   \n",
              "\n",
              "                                                  Name  Sex   Age  SibSp  \\\n",
              "1    Cumings, Mrs. John Bradley (Florence Briggs Th...    2  38.0      1   \n",
              "3         Futrelle, Mrs. Jacques Heath (Lily May Peel)    2  35.0      1   \n",
              "6                              McCarthy, Mr. Timothy J    1  54.0      0   \n",
              "10                     Sandstrom, Miss. Marguerite Rut    2   4.0      1   \n",
              "11                            Bonnell, Miss. Elizabeth    2  58.0      0   \n",
              "..                                                 ...  ...   ...    ...   \n",
              "871   Beckwith, Mrs. Richard Leonard (Sallie Monypeny)    2  47.0      1   \n",
              "872                           Carlsson, Mr. Frans Olof    1  33.0      0   \n",
              "879      Potter, Mrs. Thomas Jr (Lily Alexenia Wilson)    2  56.0      0   \n",
              "887                       Graham, Miss. Margaret Edith    2  19.0      0   \n",
              "889                              Behr, Mr. Karl Howell    1  26.0      0   \n",
              "\n",
              "     Parch    Ticket     Fare        Cabin Embarked  \n",
              "1        0  PC 17599  71.2833          C85        C  \n",
              "3        0    113803  53.1000         C123        S  \n",
              "6        0     17463  51.8625          E46        S  \n",
              "10       1   PP 9549  16.7000           G6        S  \n",
              "11       0    113783  26.5500         C103        S  \n",
              "..     ...       ...      ...          ...      ...  \n",
              "871      1     11751  52.5542          D35        S  \n",
              "872      0       695   5.0000  B51 B53 B55        S  \n",
              "879      1     11767  83.1583          C50        C  \n",
              "887      0    112053  30.0000          B42        S  \n",
              "889      0    111369  30.0000         C148        C  \n",
              "\n",
              "[183 rows x 12 columns]"
            ],
            "text/html": [
              "\n",
              "  <div id=\"df-085a39c3-dd4d-4e30-b77c-0b20130c8611\">\n",
              "    <div class=\"colab-df-container\">\n",
              "      <div>\n",
              "<style scoped>\n",
              "    .dataframe tbody tr th:only-of-type {\n",
              "        vertical-align: middle;\n",
              "    }\n",
              "\n",
              "    .dataframe tbody tr th {\n",
              "        vertical-align: top;\n",
              "    }\n",
              "\n",
              "    .dataframe thead th {\n",
              "        text-align: right;\n",
              "    }\n",
              "</style>\n",
              "<table border=\"1\" class=\"dataframe\">\n",
              "  <thead>\n",
              "    <tr style=\"text-align: right;\">\n",
              "      <th></th>\n",
              "      <th>PassengerId</th>\n",
              "      <th>Survived</th>\n",
              "      <th>Pclass</th>\n",
              "      <th>Name</th>\n",
              "      <th>Sex</th>\n",
              "      <th>Age</th>\n",
              "      <th>SibSp</th>\n",
              "      <th>Parch</th>\n",
              "      <th>Ticket</th>\n",
              "      <th>Fare</th>\n",
              "      <th>Cabin</th>\n",
              "      <th>Embarked</th>\n",
              "    </tr>\n",
              "  </thead>\n",
              "  <tbody>\n",
              "    <tr>\n",
              "      <th>1</th>\n",
              "      <td>2</td>\n",
              "      <td>1</td>\n",
              "      <td>1</td>\n",
              "      <td>Cumings, Mrs. John Bradley (Florence Briggs Th...</td>\n",
              "      <td>2</td>\n",
              "      <td>38.0</td>\n",
              "      <td>1</td>\n",
              "      <td>0</td>\n",
              "      <td>PC 17599</td>\n",
              "      <td>71.2833</td>\n",
              "      <td>C85</td>\n",
              "      <td>C</td>\n",
              "    </tr>\n",
              "    <tr>\n",
              "      <th>3</th>\n",
              "      <td>4</td>\n",
              "      <td>1</td>\n",
              "      <td>1</td>\n",
              "      <td>Futrelle, Mrs. Jacques Heath (Lily May Peel)</td>\n",
              "      <td>2</td>\n",
              "      <td>35.0</td>\n",
              "      <td>1</td>\n",
              "      <td>0</td>\n",
              "      <td>113803</td>\n",
              "      <td>53.1000</td>\n",
              "      <td>C123</td>\n",
              "      <td>S</td>\n",
              "    </tr>\n",
              "    <tr>\n",
              "      <th>6</th>\n",
              "      <td>7</td>\n",
              "      <td>0</td>\n",
              "      <td>1</td>\n",
              "      <td>McCarthy, Mr. Timothy J</td>\n",
              "      <td>1</td>\n",
              "      <td>54.0</td>\n",
              "      <td>0</td>\n",
              "      <td>0</td>\n",
              "      <td>17463</td>\n",
              "      <td>51.8625</td>\n",
              "      <td>E46</td>\n",
              "      <td>S</td>\n",
              "    </tr>\n",
              "    <tr>\n",
              "      <th>10</th>\n",
              "      <td>11</td>\n",
              "      <td>1</td>\n",
              "      <td>3</td>\n",
              "      <td>Sandstrom, Miss. Marguerite Rut</td>\n",
              "      <td>2</td>\n",
              "      <td>4.0</td>\n",
              "      <td>1</td>\n",
              "      <td>1</td>\n",
              "      <td>PP 9549</td>\n",
              "      <td>16.7000</td>\n",
              "      <td>G6</td>\n",
              "      <td>S</td>\n",
              "    </tr>\n",
              "    <tr>\n",
              "      <th>11</th>\n",
              "      <td>12</td>\n",
              "      <td>1</td>\n",
              "      <td>1</td>\n",
              "      <td>Bonnell, Miss. Elizabeth</td>\n",
              "      <td>2</td>\n",
              "      <td>58.0</td>\n",
              "      <td>0</td>\n",
              "      <td>0</td>\n",
              "      <td>113783</td>\n",
              "      <td>26.5500</td>\n",
              "      <td>C103</td>\n",
              "      <td>S</td>\n",
              "    </tr>\n",
              "    <tr>\n",
              "      <th>...</th>\n",
              "      <td>...</td>\n",
              "      <td>...</td>\n",
              "      <td>...</td>\n",
              "      <td>...</td>\n",
              "      <td>...</td>\n",
              "      <td>...</td>\n",
              "      <td>...</td>\n",
              "      <td>...</td>\n",
              "      <td>...</td>\n",
              "      <td>...</td>\n",
              "      <td>...</td>\n",
              "      <td>...</td>\n",
              "    </tr>\n",
              "    <tr>\n",
              "      <th>871</th>\n",
              "      <td>872</td>\n",
              "      <td>1</td>\n",
              "      <td>1</td>\n",
              "      <td>Beckwith, Mrs. Richard Leonard (Sallie Monypeny)</td>\n",
              "      <td>2</td>\n",
              "      <td>47.0</td>\n",
              "      <td>1</td>\n",
              "      <td>1</td>\n",
              "      <td>11751</td>\n",
              "      <td>52.5542</td>\n",
              "      <td>D35</td>\n",
              "      <td>S</td>\n",
              "    </tr>\n",
              "    <tr>\n",
              "      <th>872</th>\n",
              "      <td>873</td>\n",
              "      <td>0</td>\n",
              "      <td>1</td>\n",
              "      <td>Carlsson, Mr. Frans Olof</td>\n",
              "      <td>1</td>\n",
              "      <td>33.0</td>\n",
              "      <td>0</td>\n",
              "      <td>0</td>\n",
              "      <td>695</td>\n",
              "      <td>5.0000</td>\n",
              "      <td>B51 B53 B55</td>\n",
              "      <td>S</td>\n",
              "    </tr>\n",
              "    <tr>\n",
              "      <th>879</th>\n",
              "      <td>880</td>\n",
              "      <td>1</td>\n",
              "      <td>1</td>\n",
              "      <td>Potter, Mrs. Thomas Jr (Lily Alexenia Wilson)</td>\n",
              "      <td>2</td>\n",
              "      <td>56.0</td>\n",
              "      <td>0</td>\n",
              "      <td>1</td>\n",
              "      <td>11767</td>\n",
              "      <td>83.1583</td>\n",
              "      <td>C50</td>\n",
              "      <td>C</td>\n",
              "    </tr>\n",
              "    <tr>\n",
              "      <th>887</th>\n",
              "      <td>888</td>\n",
              "      <td>1</td>\n",
              "      <td>1</td>\n",
              "      <td>Graham, Miss. Margaret Edith</td>\n",
              "      <td>2</td>\n",
              "      <td>19.0</td>\n",
              "      <td>0</td>\n",
              "      <td>0</td>\n",
              "      <td>112053</td>\n",
              "      <td>30.0000</td>\n",
              "      <td>B42</td>\n",
              "      <td>S</td>\n",
              "    </tr>\n",
              "    <tr>\n",
              "      <th>889</th>\n",
              "      <td>890</td>\n",
              "      <td>1</td>\n",
              "      <td>1</td>\n",
              "      <td>Behr, Mr. Karl Howell</td>\n",
              "      <td>1</td>\n",
              "      <td>26.0</td>\n",
              "      <td>0</td>\n",
              "      <td>0</td>\n",
              "      <td>111369</td>\n",
              "      <td>30.0000</td>\n",
              "      <td>C148</td>\n",
              "      <td>C</td>\n",
              "    </tr>\n",
              "  </tbody>\n",
              "</table>\n",
              "<p>183 rows × 12 columns</p>\n",
              "</div>\n",
              "      <button class=\"colab-df-convert\" onclick=\"convertToInteractive('df-085a39c3-dd4d-4e30-b77c-0b20130c8611')\"\n",
              "              title=\"Convert this dataframe to an interactive table.\"\n",
              "              style=\"display:none;\">\n",
              "        \n",
              "  <svg xmlns=\"http://www.w3.org/2000/svg\" height=\"24px\"viewBox=\"0 0 24 24\"\n",
              "       width=\"24px\">\n",
              "    <path d=\"M0 0h24v24H0V0z\" fill=\"none\"/>\n",
              "    <path d=\"M18.56 5.44l.94 2.06.94-2.06 2.06-.94-2.06-.94-.94-2.06-.94 2.06-2.06.94zm-11 1L8.5 8.5l.94-2.06 2.06-.94-2.06-.94L8.5 2.5l-.94 2.06-2.06.94zm10 10l.94 2.06.94-2.06 2.06-.94-2.06-.94-.94-2.06-.94 2.06-2.06.94z\"/><path d=\"M17.41 7.96l-1.37-1.37c-.4-.4-.92-.59-1.43-.59-.52 0-1.04.2-1.43.59L10.3 9.45l-7.72 7.72c-.78.78-.78 2.05 0 2.83L4 21.41c.39.39.9.59 1.41.59.51 0 1.02-.2 1.41-.59l7.78-7.78 2.81-2.81c.8-.78.8-2.07 0-2.86zM5.41 20L4 18.59l7.72-7.72 1.47 1.35L5.41 20z\"/>\n",
              "  </svg>\n",
              "      </button>\n",
              "      \n",
              "  <style>\n",
              "    .colab-df-container {\n",
              "      display:flex;\n",
              "      flex-wrap:wrap;\n",
              "      gap: 12px;\n",
              "    }\n",
              "\n",
              "    .colab-df-convert {\n",
              "      background-color: #E8F0FE;\n",
              "      border: none;\n",
              "      border-radius: 50%;\n",
              "      cursor: pointer;\n",
              "      display: none;\n",
              "      fill: #1967D2;\n",
              "      height: 32px;\n",
              "      padding: 0 0 0 0;\n",
              "      width: 32px;\n",
              "    }\n",
              "\n",
              "    .colab-df-convert:hover {\n",
              "      background-color: #E2EBFA;\n",
              "      box-shadow: 0px 1px 2px rgba(60, 64, 67, 0.3), 0px 1px 3px 1px rgba(60, 64, 67, 0.15);\n",
              "      fill: #174EA6;\n",
              "    }\n",
              "\n",
              "    [theme=dark] .colab-df-convert {\n",
              "      background-color: #3B4455;\n",
              "      fill: #D2E3FC;\n",
              "    }\n",
              "\n",
              "    [theme=dark] .colab-df-convert:hover {\n",
              "      background-color: #434B5C;\n",
              "      box-shadow: 0px 1px 3px 1px rgba(0, 0, 0, 0.15);\n",
              "      filter: drop-shadow(0px 1px 2px rgba(0, 0, 0, 0.3));\n",
              "      fill: #FFFFFF;\n",
              "    }\n",
              "  </style>\n",
              "\n",
              "      <script>\n",
              "        const buttonEl =\n",
              "          document.querySelector('#df-085a39c3-dd4d-4e30-b77c-0b20130c8611 button.colab-df-convert');\n",
              "        buttonEl.style.display =\n",
              "          google.colab.kernel.accessAllowed ? 'block' : 'none';\n",
              "\n",
              "        async function convertToInteractive(key) {\n",
              "          const element = document.querySelector('#df-085a39c3-dd4d-4e30-b77c-0b20130c8611');\n",
              "          const dataTable =\n",
              "            await google.colab.kernel.invokeFunction('convertToInteractive',\n",
              "                                                     [key], {});\n",
              "          if (!dataTable) return;\n",
              "\n",
              "          const docLinkHtml = 'Like what you see? Visit the ' +\n",
              "            '<a target=\"_blank\" href=https://colab.research.google.com/notebooks/data_table.ipynb>data table notebook</a>'\n",
              "            + ' to learn more about interactive tables.';\n",
              "          element.innerHTML = '';\n",
              "          dataTable['output_type'] = 'display_data';\n",
              "          await google.colab.output.renderOutput(dataTable, element);\n",
              "          const docLink = document.createElement('div');\n",
              "          docLink.innerHTML = docLinkHtml;\n",
              "          element.appendChild(docLink);\n",
              "        }\n",
              "      </script>\n",
              "    </div>\n",
              "  </div>\n",
              "  "
            ]
          },
          "metadata": {},
          "execution_count": 37
        }
      ],
      "source": [
        "# visualizziamo il dataframe\n",
        "df"
      ]
    },
    {
      "cell_type": "code",
      "source": [
        "# gender = {'male': 1,'female': 2}\n",
        "# df.Sex = [gender[item] for item in df.Sex] #sostituiamo le stringhe con il valore del dizionario attribuito"
      ],
      "metadata": {
        "id": "td4L31Km1clM"
      },
      "execution_count": null,
      "outputs": []
    },
    {
      "cell_type": "code",
      "source": [
        "# emb = {'0': 0,'S': 1,'C': 2,'Q': 3}\n",
        "# df.Embarked = [emb[item] for item in df.Embarked]"
      ],
      "metadata": {
        "id": "o4Zt3sF45bD8"
      },
      "execution_count": null,
      "outputs": []
    },
    {
      "cell_type": "code",
      "source": [
        "# visualizziamo il numero di vini per ogni classe\n",
        "print(df.groupby('Survived').size())"
      ],
      "metadata": {
        "colab": {
          "base_uri": "https://localhost:8080/"
        },
        "id": "HscxTMb1BeJz",
        "outputId": "fdc7281c-49ef-4ab3-901b-3794aef81be7"
      },
      "execution_count": null,
      "outputs": [
        {
          "output_type": "stream",
          "name": "stdout",
          "text": [
            "Survived\n",
            "0    549\n",
            "1    342\n",
            "dtype: int64\n"
          ]
        }
      ]
    },
    {
      "cell_type": "code",
      "source": [
        "# per maggior chiarezza, visualizziamo anche il grafico delle classi dei vini\n",
        "%matplotlib inline\n",
        "import seaborn as sns\n",
        "import matplotlib.pyplot as plt\n",
        "\n",
        "\n",
        "sns.countplot(x=\"Survived\", data=df)\n",
        "plt.title(\"Titanic Dataset\")\n",
        "plt.xlabel(\"Survived\")\n",
        "plt.ylabel(\"Counts\")\n",
        "plt.show()"
      ],
      "metadata": {
        "colab": {
          "base_uri": "https://localhost:8080/",
          "height": 295
        },
        "id": "zYiL6tqWCDOc",
        "outputId": "92c816ea-3429-4146-b565-fd5ab4f49dda"
      },
      "execution_count": null,
      "outputs": [
        {
          "output_type": "display_data",
          "data": {
            "text/plain": [
              "<Figure size 432x288 with 1 Axes>"
            ],
            "image/png": "[encoded data removed]"
          },
          "metadata": {
            "needs_background": "light"
          }
        }
      ]
    },
    {
      "cell_type": "code",
      "source": [
        "# traformiamo il dataframe in una matrice numpy e separiamo il target (la classe, prima colonna, che chiamiamo y)\n",
        "# dal resto dei dati (le osservazioni, che chiameremo x)\n",
        "\n",
        "from sklearn import preprocessing\n",
        "\n",
        "x=df[df.columns.difference(['Survived'])].to_numpy()# prendiamo tutti i dati tranne l'ultima colonna -> variabili indipendenti, osservazioni\n",
        "y=df.to_numpy()[:,1].astype(int)  # prendiamo solo l'ultima colonna -> variabile dipendente, target\n",
        "\n",
        "le = preprocessing.LabelEncoder()\n",
        "for i in range(x.shape[1]):\n",
        "  x[:,i] = le.fit_transform(x[:,i])\n",
        "\n",
        "#Print class frequencies through collections counter\n",
        "import collections\n",
        "collections.Counter(y)"
      ],
      "metadata": {
        "colab": {
          "base_uri": "https://localhost:8080/"
        },
        "id": "3C2VFGkJEHWT",
        "outputId": "1740fc8e-1f97-4e36-e33d-4fb2797a2f4c"
      },
      "execution_count": null,
      "outputs": [
        {
          "output_type": "execute_result",
          "data": {
            "text/plain": [
              "Counter({0: 549, 1: 342})"
            ]
          },
          "metadata": {},
          "execution_count": 8
        }
      ]
    },
    {
      "cell_type": "code",
      "execution_count": null,
      "metadata": {
        "id": "ieW7UEwzAX4H",
        "colab": {
          "base_uri": "https://localhost:8080/"
        },
        "outputId": "1ec1e5fa-d25b-4942-a26d-4fe8a8814e94"
      },
      "outputs": [
        {
          "output_type": "stream",
          "name": "stdout",
          "text": [
            "[[28 147 2 18 108 0 0 2 1 1 523]\n",
            " [51 81 0 207 190 0 1 0 0 1 596]\n",
            " [34 147 2 41 353 0 2 2 0 0 669]\n",
            " [47 55 2 189 272 0 3 0 0 1 49]\n",
            " [47 147 2 43 15 0 4 2 1 0 472]\n",
            " [88 147 1 51 554 0 5 2 1 0 275]\n",
            " [69 129 2 186 515 0 6 0 1 0 85]\n",
            " [6 147 2 124 624 1 7 2 1 3 395]\n",
            " [35 147 2 74 412 2 8 2 0 0 344]\n",
            " [18 147 0 154 576 0 9 1 0 1 132]]\n",
            "y = [0 1 1 1 0 0 0 0 1 1]\n"
          ]
        }
      ],
      "source": [
        "# vediamo i dati presenti in x e y\n",
        "import numpy as np\n",
        "np.set_printoptions(suppress=True)\n",
        "print(x[:10])\n",
        "print(f'y = {y[:10]}')"
      ]
    },
    {
      "cell_type": "code",
      "execution_count": null,
      "metadata": {
        "id": "jXa-lSgUAX4I"
      },
      "outputs": [],
      "source": [
        "#suddividiamo ora i dati in due dataset, uno per 'allenare' il metodo (training set) \n",
        "# e l'altro per testarne l'efficacia (test set). Facciamo in modo che il training set sia il 70% del totale\n",
        "\n",
        "from sklearn.model_selection import train_test_split # suddivide le osservazioni nei due insiemi\n",
        "\n",
        "X_train, X_test, y_train, y_test = train_test_split(x, y, \n",
        "                                                    test_size = 0.30, # by default is 75%-25%\n",
        "                                                    # shuffle is set True by default,\n",
        "                                                    stratify = y, # per mantenere le proporzioni che ci sono nei dati di partenza\n",
        "                                                    random_state = 123) # fix random seed for replicability"
      ]
    },
    {
      "cell_type": "code",
      "execution_count": null,
      "metadata": {
        "id": "xI9MtPimAX4J",
        "outputId": "2cf981da-4393-4fb8-fa77-8547ee3e3c74",
        "colab": {
          "base_uri": "https://localhost:8080/"
        }
      },
      "outputs": [
        {
          "output_type": "execute_result",
          "data": {
            "text/plain": [
              "((623, 11), (623,), (268, 11), (268,))"
            ]
          },
          "metadata": {},
          "execution_count": 13
        }
      ],
      "source": [
        "# visualizziamo gli shape dei vari dataset X_train, X_test, y_train e y_test\n",
        "X_train.shape,y_train.shape,X_test.shape,y_test.shape"
      ]
    },
    {
      "cell_type": "code",
      "execution_count": null,
      "metadata": {
        "id": "n-gxy5c3AX4J",
        "outputId": "d3ee6f14-7248-45c1-c03f-838237bddd6d",
        "colab": {
          "base_uri": "https://localhost:8080/"
        }
      },
      "outputs": [
        {
          "output_type": "stream",
          "name": "stdout",
          "text": [
            "[[28 147 2 18 108 0 0 2 1 1 523]\n",
            " [51 81 0 207 190 0 1 0 0 1 596]\n",
            " [34 147 2 41 353 0 2 2 0 0 669]\n",
            " [47 55 2 189 272 0 3 0 0 1 49]\n",
            " [47 147 2 43 15 0 4 2 1 0 472]\n",
            " [88 147 1 51 554 0 5 2 1 0 275]\n",
            " [69 129 2 186 515 0 6 0 1 0 85]\n",
            " [6 147 2 124 624 1 7 2 1 3 395]\n",
            " [35 147 2 74 412 2 8 2 0 0 344]\n",
            " [18 147 0 154 576 0 9 1 0 1 132]]\n",
            "y = [0 1 1 1 0 0 0 0 1 1]\n"
          ]
        }
      ],
      "source": [
        "# visualizziamo anche le prime 10 righe dell'X_train e dell'y_train per vedere i dati\n",
        "# eliminiamo la dotazine scientifica per comodità di lettura\n",
        "np.set_printoptions(suppress=True)\n",
        "print(x[:10])\n",
        "print(f'y = {y[:10]}')"
      ]
    },
    {
      "cell_type": "code",
      "execution_count": null,
      "metadata": {
        "id": "-z7EUYYoAX4K"
      },
      "outputs": [],
      "source": [
        "# importiamo il metodo di classificazione K-NN\n",
        "from sklearn.neighbors import KNeighborsClassifier\n"
      ]
    },
    {
      "cell_type": "code",
      "execution_count": null,
      "metadata": {
        "id": "dWEcRCTgAX4K"
      },
      "outputs": [],
      "source": [
        "# inizializziamo il metodo con n_neighbors=5\n",
        "neigh = KNeighborsClassifier(n_neighbors=15)"
      ]
    },
    {
      "cell_type": "code",
      "execution_count": null,
      "metadata": {
        "id": "pUtc989MAX4K",
        "outputId": "c1ed8df4-e773-4767-f8f4-4b30e51b7231",
        "colab": {
          "base_uri": "https://localhost:8080/",
          "height": 75
        }
      },
      "outputs": [
        {
          "output_type": "execute_result",
          "data": {
            "text/plain": [
              "KNeighborsClassifier(n_neighbors=15)"
            ],
            "text/html": [
              "<style>#sk-container-id-1 {color: black;background-color: white;}#sk-container-id-1 pre{padding: 0;}#sk-container-id-1 div.sk-toggleable {background-color: white;}#sk-container-id-1 label.sk-toggleable__label {cursor: pointer;display: block;width: 100%;margin-bottom: 0;padding: 0.3em;box-sizing: border-box;text-align: center;}#sk-container-id-1 label.sk-toggleable__label-arrow:before {content: \"▸\";float: left;margin-right: 0.25em;color: #696969;}#sk-container-id-1 label.sk-toggleable__label-arrow:hover:before {color: black;}#sk-container-id-1 div.sk-estimator:hover label.sk-toggleable__label-arrow:before {color: black;}#sk-container-id-1 div.sk-toggleable__content {max-height: 0;max-width: 0;overflow: hidden;text-align: left;background-color: #f0f8ff;}#sk-container-id-1 div.sk-toggleable__content pre {margin: 0.2em;color: black;border-radius: 0.25em;background-color: #f0f8ff;}#sk-container-id-1 input.sk-toggleable__control:checked~div.sk-toggleable__content {max-height: 200px;max-width: 100%;overflow: auto;}#sk-container-id-1 input.sk-toggleable__control:checked~label.sk-toggleable__label-arrow:before {content: \"▾\";}#sk-container-id-1 div.sk-estimator input.sk-toggleable__control:checked~label.sk-toggleable__label {background-color: #d4ebff;}#sk-container-id-1 div.sk-label input.sk-toggleable__control:checked~label.sk-toggleable__label {background-color: #d4ebff;}#sk-container-id-1 input.sk-hidden--visually {border: 0;clip: rect(1px 1px 1px 1px);clip: rect(1px, 1px, 1px, 1px);height: 1px;margin: -1px;overflow: hidden;padding: 0;position: absolute;width: 1px;}#sk-container-id-1 div.sk-estimator {font-family: monospace;background-color: #f0f8ff;border: 1px dotted black;border-radius: 0.25em;box-sizing: border-box;margin-bottom: 0.5em;}#sk-container-id-1 div.sk-estimator:hover {background-color: #d4ebff;}#sk-container-id-1 div.sk-parallel-item::after {content: \"\";width: 100%;border-bottom: 1px solid gray;flex-grow: 1;}#sk-container-id-1 div.sk-label:hover label.sk-toggleable__label {background-color: #d4ebff;}#sk-container-id-1 div.sk-serial::before {content: \"\";position: absolute;border-left: 1px solid gray;box-sizing: border-box;top: 0;bottom: 0;left: 50%;z-index: 0;}#sk-container-id-1 div.sk-serial {display: flex;flex-direction: column;align-items: center;background-color: white;padding-right: 0.2em;padding-left: 0.2em;position: relative;}#sk-container-id-1 div.sk-item {position: relative;z-index: 1;}#sk-container-id-1 div.sk-parallel {display: flex;align-items: stretch;justify-content: center;background-color: white;position: relative;}#sk-container-id-1 div.sk-item::before, #sk-container-id-1 div.sk-parallel-item::before {content: \"\";position: absolute;border-left: 1px solid gray;box-sizing: border-box;top: 0;bottom: 0;left: 50%;z-index: -1;}#sk-container-id-1 div.sk-parallel-item {display: flex;flex-direction: column;z-index: 1;position: relative;background-color: white;}#sk-container-id-1 div.sk-parallel-item:first-child::after {align-self: flex-end;width: 50%;}#sk-container-id-1 div.sk-parallel-item:last-child::after {align-self: flex-start;width: 50%;}#sk-container-id-1 div.sk-parallel-item:only-child::after {width: 0;}#sk-container-id-1 div.sk-dashed-wrapped {border: 1px dashed gray;margin: 0 0.4em 0.5em 0.4em;box-sizing: border-box;padding-bottom: 0.4em;background-color: white;}#sk-container-id-1 div.sk-label label {font-family: monospace;font-weight: bold;display: inline-block;line-height: 1.2em;}#sk-container-id-1 div.sk-label-container {text-align: center;}#sk-container-id-1 div.sk-container {/* jupyter's `normalize.less` sets `[hidden] { display: none; }` but bootstrap.min.css set `[hidden] { display: none !important; }` so we also need the `!important` here to be able to override the default hidden behavior on the sphinx rendered scikit-learn.org. See: https://github.com/scikit-learn/scikit-learn/issues/21755 */display: inline-block !important;position: relative;}#sk-container-id-1 div.sk-text-repr-fallback {display: none;}</style><div id=\"sk-container-id-1\" class=\"sk-top-container\"><div class=\"sk-text-repr-fallback\"><pre>KNeighborsClassifier(n_neighbors=15)</pre><b>In a Jupyter environment, please rerun this cell to show the HTML representation or trust the notebook. <br />On GitHub, the HTML representation is unable to render, please try loading this page with nbviewer.org.</b></div><div class=\"sk-container\" hidden><div class=\"sk-item\"><div class=\"sk-estimator sk-toggleable\"><input class=\"sk-toggleable__control sk-hidden--visually\" id=\"sk-estimator-id-1\" type=\"checkbox\" checked><label for=\"sk-estimator-id-1\" class=\"sk-toggleable__label sk-toggleable__label-arrow\">KNeighborsClassifier</label><div class=\"sk-toggleable__content\"><pre>KNeighborsClassifier(n_neighbors=15)</pre></div></div></div></div></div>"
            ]
          },
          "metadata": {},
          "execution_count": 17
        }
      ],
      "source": [
        "# \"alleniamo\" il metodo con i dati del training set\n",
        "neigh.fit(X_train, y_train)"
      ]
    },
    {
      "cell_type": "code",
      "execution_count": null,
      "metadata": {
        "id": "l5QVa9dRAX4L"
      },
      "outputs": [],
      "source": [
        "# proviamo a fare una previsione sui dati del test set\n",
        "predict = neigh.predict(X_test)"
      ]
    },
    {
      "cell_type": "code",
      "execution_count": null,
      "metadata": {
        "id": "Gg0SaTm0AX4L",
        "outputId": "b598d52c-c554-478a-f5f8-0bcf36ee6fcc",
        "colab": {
          "base_uri": "https://localhost:8080/"
        }
      },
      "outputs": [
        {
          "output_type": "stream",
          "name": "stdout",
          "text": [
            "dati predetti dal metodo =                [0 1 0 0 0 0 0 0 1 1]\n",
            "dati reali presenti nel dataset di test = [0 1 0 0 0 1 1 0 1 1]\n"
          ]
        }
      ],
      "source": [
        "# e visualizziamo il risultato (solo i primi dieci vini)\n",
        "print(f'dati predetti dal metodo =                {predict[:10]}') # dati predetti dal metodo\n",
        "print(f'dati reali presenti nel dataset di test = {y_test[:10]}') # dati effettivi presenti nel test set"
      ]
    },
    {
      "cell_type": "code",
      "source": [
        "!pip install mlxtend"
      ],
      "metadata": {
        "colab": {
          "base_uri": "https://localhost:8080/"
        },
        "id": "2JN67136GGGD",
        "outputId": "ff6334b9-98e8-434d-8cea-cc400d19869a"
      },
      "execution_count": null,
      "outputs": [
        {
          "output_type": "stream",
          "name": "stdout",
          "text": [
            "Looking in indexes: https://pypi.org/simple, https://us-python.pkg.dev/colab-wheels/public/simple/\n",
            "Requirement already satisfied: mlxtend in /usr/local/lib/python3.8/dist-packages (0.14.0)\n",
            "Requirement already satisfied: pandas>=0.17.1 in /usr/local/lib/python3.8/dist-packages (from mlxtend) (1.3.5)\n",
            "Requirement already satisfied: numpy>=1.10.4 in /usr/local/lib/python3.8/dist-packages (from mlxtend) (1.22.4)\n",
            "Requirement already satisfied: scipy>=0.17 in /usr/local/lib/python3.8/dist-packages (from mlxtend) (1.10.1)\n",
            "Requirement already satisfied: scikit-learn>=0.18 in /usr/local/lib/python3.8/dist-packages (from mlxtend) (1.2.1)\n",
            "Requirement already satisfied: matplotlib>=1.5.1 in /usr/local/lib/python3.8/dist-packages (from mlxtend) (3.5.3)\n",
            "Requirement already satisfied: setuptools in /usr/local/lib/python3.8/dist-packages (from mlxtend) (57.4.0)\n",
            "Requirement already satisfied: python-dateutil>=2.7 in /usr/local/lib/python3.8/dist-packages (from matplotlib>=1.5.1->mlxtend) (2.8.2)\n",
            "Requirement already satisfied: pyparsing>=2.2.1 in /usr/local/lib/python3.8/dist-packages (from matplotlib>=1.5.1->mlxtend) (3.0.9)\n",
            "Requirement already satisfied: cycler>=0.10 in /usr/local/lib/python3.8/dist-packages (from matplotlib>=1.5.1->mlxtend) (0.11.0)\n",
            "Requirement already satisfied: kiwisolver>=1.0.1 in /usr/local/lib/python3.8/dist-packages (from matplotlib>=1.5.1->mlxtend) (1.4.4)\n",
            "Requirement already satisfied: pillow>=6.2.0 in /usr/local/lib/python3.8/dist-packages (from matplotlib>=1.5.1->mlxtend) (8.4.0)\n",
            "Requirement already satisfied: fonttools>=4.22.0 in /usr/local/lib/python3.8/dist-packages (from matplotlib>=1.5.1->mlxtend) (4.38.0)\n",
            "Requirement already satisfied: packaging>=20.0 in /usr/local/lib/python3.8/dist-packages (from matplotlib>=1.5.1->mlxtend) (23.0)\n",
            "Requirement already satisfied: pytz>=2017.3 in /usr/local/lib/python3.8/dist-packages (from pandas>=0.17.1->mlxtend) (2022.7.1)\n",
            "Requirement already satisfied: joblib>=1.1.1 in /usr/local/lib/python3.8/dist-packages (from scikit-learn>=0.18->mlxtend) (1.2.0)\n",
            "Requirement already satisfied: threadpoolctl>=2.0.0 in /usr/local/lib/python3.8/dist-packages (from scikit-learn>=0.18->mlxtend) (3.1.0)\n",
            "Requirement already satisfied: six>=1.5 in /usr/local/lib/python3.8/dist-packages (from python-dateutil>=2.7->matplotlib>=1.5.1->mlxtend) (1.15.0)\n"
          ]
        }
      ]
    },
    {
      "cell_type": "code",
      "execution_count": null,
      "metadata": {
        "id": "_EtjQg7WAX4L",
        "outputId": "d576b746-5ba5-44c3-8bde-3477adbd851e",
        "colab": {
          "base_uri": "https://localhost:8080/",
          "height": 279
        }
      },
      "outputs": [
        {
          "output_type": "display_data",
          "data": {
            "text/plain": [
              "<Figure size 432x288 with 1 Axes>"
            ],
            "image/png": "[encoded data removed]"
          },
          "metadata": {
            "needs_background": "light"
          }
        }
      ],
      "source": [
        "# valutiamo il nostro metodo:\n",
        "\n",
        "# visualizziamo la confusion matrix\n",
        "from mlxtend.plotting import plot_confusion_matrix\n",
        "from matplotlib import pyplot as plt\n",
        "from sklearn.metrics import confusion_matrix, classification_report\n",
        "\n",
        "plot_confusion_matrix(confusion_matrix(y_test, predict), cmap=plt.cm.Dark2)\n",
        "plt.show()"
      ]
    },
    {
      "cell_type": "code",
      "execution_count": null,
      "metadata": {
        "id": "WxsyQzj7AX4N",
        "outputId": "e9571b98-8358-44b1-b313-7705ed349680",
        "colab": {
          "base_uri": "https://localhost:8080/"
        }
      },
      "outputs": [
        {
          "output_type": "stream",
          "name": "stdout",
          "text": [
            "              precision    recall  f1-score   support\n",
            "\n",
            "           0       0.72      0.84      0.77       165\n",
            "           1       0.65      0.47      0.54       103\n",
            "\n",
            "    accuracy                           0.70       268\n",
            "   macro avg       0.68      0.65      0.66       268\n",
            "weighted avg       0.69      0.70      0.69       268\n",
            "\n"
          ]
        }
      ],
      "source": [
        "# visualizziamo adesso gli indicatori\n",
        "print(classification_report(y_test, predict))"
      ]
    },
    {
      "cell_type": "markdown",
      "source": [
        "implementazione di me stesso nel csv"
      ],
      "metadata": {
        "id": "POhRElp6_2CG"
      }
    },
    {
      "cell_type": "code",
      "source": [
        "me = np.array([[999,3,'Davide','male',18.0,0,0,'PC 17599',7.9250,\t'C85','C']])"
      ],
      "metadata": {
        "id": "qcrDrht6_1cw"
      },
      "execution_count": null,
      "outputs": []
    },
    {
      "cell_type": "code",
      "source": [
        "le = preprocessing.LabelEncoder()\n",
        "for i in range(me.shape[1]):\n",
        "  me[:,i] = le.fit_transform(me[:,i])"
      ],
      "metadata": {
        "id": "OglpNTrTBRre"
      },
      "execution_count": null,
      "outputs": []
    },
    {
      "cell_type": "code",
      "source": [
        "# predict = neigh.predict(me)\n",
        "# predict"
      ],
      "metadata": {
        "id": "DJIaqcQxBY0u"
      },
      "execution_count": null,
      "outputs": []
    },
    {
      "cell_type": "markdown",
      "source": [
        "# Esercizio dTree\n"
      ],
      "metadata": {
        "id": "U2kJBDNP2-vh"
      }
    },
    {
      "cell_type": "code",
      "source": [
        "# importiamo Pandas e il dataframe dal file data/wine.csv\n",
        "import pandas as pd\n",
        "df = pd.read_csv('/content/drive/MyDrive/Colab Notebooks/titanic.csv')"
      ],
      "metadata": {
        "id": "jCS_ifLJ6rlA"
      },
      "execution_count": null,
      "outputs": []
    },
    {
      "cell_type": "code",
      "source": [
        "df.dropna(inplace=True)"
      ],
      "metadata": {
        "id": "jJn83Eoj3vr5"
      },
      "execution_count": null,
      "outputs": []
    },
    {
      "cell_type": "code",
      "source": [
        "gender = {'male': 1,'female': 2}\n",
        "df.Sex = [gender[item] for item in df.Sex] #sostituiamo le stringhe con il valore del dizionario attribuito"
      ],
      "metadata": {
        "id": "il2lES8I4j1g"
      },
      "execution_count": null,
      "outputs": []
    },
    {
      "cell_type": "code",
      "source": [
        "df"
      ],
      "metadata": {
        "colab": {
          "base_uri": "https://localhost:8080/",
          "height": 424
        },
        "id": "eCW_40v_7gnA",
        "outputId": "3c1632e0-7f36-45b7-e67e-9cfe1856e6f2"
      },
      "execution_count": null,
      "outputs": [
        {
          "output_type": "execute_result",
          "data": {
            "text/plain": [
              "     PassengerId  Survived  Pclass  \\\n",
              "1              2         1       1   \n",
              "3              4         1       1   \n",
              "6              7         0       1   \n",
              "10            11         1       3   \n",
              "11            12         1       1   \n",
              "..           ...       ...     ...   \n",
              "871          872         1       1   \n",
              "872          873         0       1   \n",
              "879          880         1       1   \n",
              "887          888         1       1   \n",
              "889          890         1       1   \n",
              "\n",
              "                                                  Name  Sex   Age  SibSp  \\\n",
              "1    Cumings, Mrs. John Bradley (Florence Briggs Th...    2  38.0      1   \n",
              "3         Futrelle, Mrs. Jacques Heath (Lily May Peel)    2  35.0      1   \n",
              "6                              McCarthy, Mr. Timothy J    1  54.0      0   \n",
              "10                     Sandstrom, Miss. Marguerite Rut    2   4.0      1   \n",
              "11                            Bonnell, Miss. Elizabeth    2  58.0      0   \n",
              "..                                                 ...  ...   ...    ...   \n",
              "871   Beckwith, Mrs. Richard Leonard (Sallie Monypeny)    2  47.0      1   \n",
              "872                           Carlsson, Mr. Frans Olof    1  33.0      0   \n",
              "879      Potter, Mrs. Thomas Jr (Lily Alexenia Wilson)    2  56.0      0   \n",
              "887                       Graham, Miss. Margaret Edith    2  19.0      0   \n",
              "889                              Behr, Mr. Karl Howell    1  26.0      0   \n",
              "\n",
              "     Parch    Ticket     Fare        Cabin Embarked  \n",
              "1        0  PC 17599  71.2833          C85        C  \n",
              "3        0    113803  53.1000         C123        S  \n",
              "6        0     17463  51.8625          E46        S  \n",
              "10       1   PP 9549  16.7000           G6        S  \n",
              "11       0    113783  26.5500         C103        S  \n",
              "..     ...       ...      ...          ...      ...  \n",
              "871      1     11751  52.5542          D35        S  \n",
              "872      0       695   5.0000  B51 B53 B55        S  \n",
              "879      1     11767  83.1583          C50        C  \n",
              "887      0    112053  30.0000          B42        S  \n",
              "889      0    111369  30.0000         C148        C  \n",
              "\n",
              "[183 rows x 12 columns]"
            ],
            "text/html": [
              "\n",
              "  <div id=\"df-66594552-a066-4121-93d4-7b11d4bda90c\">\n",
              "    <div class=\"colab-df-container\">\n",
              "      <div>\n",
              "<style scoped>\n",
              "    .dataframe tbody tr th:only-of-type {\n",
              "        vertical-align: middle;\n",
              "    }\n",
              "\n",
              "    .dataframe tbody tr th {\n",
              "        vertical-align: top;\n",
              "    }\n",
              "\n",
              "    .dataframe thead th {\n",
              "        text-align: right;\n",
              "    }\n",
              "</style>\n",
              "<table border=\"1\" class=\"dataframe\">\n",
              "  <thead>\n",
              "    <tr style=\"text-align: right;\">\n",
              "      <th></th>\n",
              "      <th>PassengerId</th>\n",
              "      <th>Survived</th>\n",
              "      <th>Pclass</th>\n",
              "      <th>Name</th>\n",
              "      <th>Sex</th>\n",
              "      <th>Age</th>\n",
              "      <th>SibSp</th>\n",
              "      <th>Parch</th>\n",
              "      <th>Ticket</th>\n",
              "      <th>Fare</th>\n",
              "      <th>Cabin</th>\n",
              "      <th>Embarked</th>\n",
              "    </tr>\n",
              "  </thead>\n",
              "  <tbody>\n",
              "    <tr>\n",
              "      <th>1</th>\n",
              "      <td>2</td>\n",
              "      <td>1</td>\n",
              "      <td>1</td>\n",
              "      <td>Cumings, Mrs. John Bradley (Florence Briggs Th...</td>\n",
              "      <td>2</td>\n",
              "      <td>38.0</td>\n",
              "      <td>1</td>\n",
              "      <td>0</td>\n",
              "      <td>PC 17599</td>\n",
              "      <td>71.2833</td>\n",
              "      <td>C85</td>\n",
              "      <td>C</td>\n",
              "    </tr>\n",
              "    <tr>\n",
              "      <th>3</th>\n",
              "      <td>4</td>\n",
              "      <td>1</td>\n",
              "      <td>1</td>\n",
              "      <td>Futrelle, Mrs. Jacques Heath (Lily May Peel)</td>\n",
              "      <td>2</td>\n",
              "      <td>35.0</td>\n",
              "      <td>1</td>\n",
              "      <td>0</td>\n",
              "      <td>113803</td>\n",
              "      <td>53.1000</td>\n",
              "      <td>C123</td>\n",
              "      <td>S</td>\n",
              "    </tr>\n",
              "    <tr>\n",
              "      <th>6</th>\n",
              "      <td>7</td>\n",
              "      <td>0</td>\n",
              "      <td>1</td>\n",
              "      <td>McCarthy, Mr. Timothy J</td>\n",
              "      <td>1</td>\n",
              "      <td>54.0</td>\n",
              "      <td>0</td>\n",
              "      <td>0</td>\n",
              "      <td>17463</td>\n",
              "      <td>51.8625</td>\n",
              "      <td>E46</td>\n",
              "      <td>S</td>\n",
              "    </tr>\n",
              "    <tr>\n",
              "      <th>10</th>\n",
              "      <td>11</td>\n",
              "      <td>1</td>\n",
              "      <td>3</td>\n",
              "      <td>Sandstrom, Miss. Marguerite Rut</td>\n",
              "      <td>2</td>\n",
              "      <td>4.0</td>\n",
              "      <td>1</td>\n",
              "      <td>1</td>\n",
              "      <td>PP 9549</td>\n",
              "      <td>16.7000</td>\n",
              "      <td>G6</td>\n",
              "      <td>S</td>\n",
              "    </tr>\n",
              "    <tr>\n",
              "      <th>11</th>\n",
              "      <td>12</td>\n",
              "      <td>1</td>\n",
              "      <td>1</td>\n",
              "      <td>Bonnell, Miss. Elizabeth</td>\n",
              "      <td>2</td>\n",
              "      <td>58.0</td>\n",
              "      <td>0</td>\n",
              "      <td>0</td>\n",
              "      <td>113783</td>\n",
              "      <td>26.5500</td>\n",
              "      <td>C103</td>\n",
              "      <td>S</td>\n",
              "    </tr>\n",
              "    <tr>\n",
              "      <th>...</th>\n",
              "      <td>...</td>\n",
              "      <td>...</td>\n",
              "      <td>...</td>\n",
              "      <td>...</td>\n",
              "      <td>...</td>\n",
              "      <td>...</td>\n",
              "      <td>...</td>\n",
              "      <td>...</td>\n",
              "      <td>...</td>\n",
              "      <td>...</td>\n",
              "      <td>...</td>\n",
              "      <td>...</td>\n",
              "    </tr>\n",
              "    <tr>\n",
              "      <th>871</th>\n",
              "      <td>872</td>\n",
              "      <td>1</td>\n",
              "      <td>1</td>\n",
              "      <td>Beckwith, Mrs. Richard Leonard (Sallie Monypeny)</td>\n",
              "      <td>2</td>\n",
              "      <td>47.0</td>\n",
              "      <td>1</td>\n",
              "      <td>1</td>\n",
              "      <td>11751</td>\n",
              "      <td>52.5542</td>\n",
              "      <td>D35</td>\n",
              "      <td>S</td>\n",
              "    </tr>\n",
              "    <tr>\n",
              "      <th>872</th>\n",
              "      <td>873</td>\n",
              "      <td>0</td>\n",
              "      <td>1</td>\n",
              "      <td>Carlsson, Mr. Frans Olof</td>\n",
              "      <td>1</td>\n",
              "      <td>33.0</td>\n",
              "      <td>0</td>\n",
              "      <td>0</td>\n",
              "      <td>695</td>\n",
              "      <td>5.0000</td>\n",
              "      <td>B51 B53 B55</td>\n",
              "      <td>S</td>\n",
              "    </tr>\n",
              "    <tr>\n",
              "      <th>879</th>\n",
              "      <td>880</td>\n",
              "      <td>1</td>\n",
              "      <td>1</td>\n",
              "      <td>Potter, Mrs. Thomas Jr (Lily Alexenia Wilson)</td>\n",
              "      <td>2</td>\n",
              "      <td>56.0</td>\n",
              "      <td>0</td>\n",
              "      <td>1</td>\n",
              "      <td>11767</td>\n",
              "      <td>83.1583</td>\n",
              "      <td>C50</td>\n",
              "      <td>C</td>\n",
              "    </tr>\n",
              "    <tr>\n",
              "      <th>887</th>\n",
              "      <td>888</td>\n",
              "      <td>1</td>\n",
              "      <td>1</td>\n",
              "      <td>Graham, Miss. Margaret Edith</td>\n",
              "      <td>2</td>\n",
              "      <td>19.0</td>\n",
              "      <td>0</td>\n",
              "      <td>0</td>\n",
              "      <td>112053</td>\n",
              "      <td>30.0000</td>\n",
              "      <td>B42</td>\n",
              "      <td>S</td>\n",
              "    </tr>\n",
              "    <tr>\n",
              "      <th>889</th>\n",
              "      <td>890</td>\n",
              "      <td>1</td>\n",
              "      <td>1</td>\n",
              "      <td>Behr, Mr. Karl Howell</td>\n",
              "      <td>1</td>\n",
              "      <td>26.0</td>\n",
              "      <td>0</td>\n",
              "      <td>0</td>\n",
              "      <td>111369</td>\n",
              "      <td>30.0000</td>\n",
              "      <td>C148</td>\n",
              "      <td>C</td>\n",
              "    </tr>\n",
              "  </tbody>\n",
              "</table>\n",
              "<p>183 rows × 12 columns</p>\n",
              "</div>\n",
              "      <button class=\"colab-df-convert\" onclick=\"convertToInteractive('df-66594552-a066-4121-93d4-7b11d4bda90c')\"\n",
              "              title=\"Convert this dataframe to an interactive table.\"\n",
              "              style=\"display:none;\">\n",
              "        \n",
              "  <svg xmlns=\"http://www.w3.org/2000/svg\" height=\"24px\"viewBox=\"0 0 24 24\"\n",
              "       width=\"24px\">\n",
              "    <path d=\"M0 0h24v24H0V0z\" fill=\"none\"/>\n",
              "    <path d=\"M18.56 5.44l.94 2.06.94-2.06 2.06-.94-2.06-.94-.94-2.06-.94 2.06-2.06.94zm-11 1L8.5 8.5l.94-2.06 2.06-.94-2.06-.94L8.5 2.5l-.94 2.06-2.06.94zm10 10l.94 2.06.94-2.06 2.06-.94-2.06-.94-.94-2.06-.94 2.06-2.06.94z\"/><path d=\"M17.41 7.96l-1.37-1.37c-.4-.4-.92-.59-1.43-.59-.52 0-1.04.2-1.43.59L10.3 9.45l-7.72 7.72c-.78.78-.78 2.05 0 2.83L4 21.41c.39.39.9.59 1.41.59.51 0 1.02-.2 1.41-.59l7.78-7.78 2.81-2.81c.8-.78.8-2.07 0-2.86zM5.41 20L4 18.59l7.72-7.72 1.47 1.35L5.41 20z\"/>\n",
              "  </svg>\n",
              "      </button>\n",
              "      \n",
              "  <style>\n",
              "    .colab-df-container {\n",
              "      display:flex;\n",
              "      flex-wrap:wrap;\n",
              "      gap: 12px;\n",
              "    }\n",
              "\n",
              "    .colab-df-convert {\n",
              "      background-color: #E8F0FE;\n",
              "      border: none;\n",
              "      border-radius: 50%;\n",
              "      cursor: pointer;\n",
              "      display: none;\n",
              "      fill: #1967D2;\n",
              "      height: 32px;\n",
              "      padding: 0 0 0 0;\n",
              "      width: 32px;\n",
              "    }\n",
              "\n",
              "    .colab-df-convert:hover {\n",
              "      background-color: #E2EBFA;\n",
              "      box-shadow: 0px 1px 2px rgba(60, 64, 67, 0.3), 0px 1px 3px 1px rgba(60, 64, 67, 0.15);\n",
              "      fill: #174EA6;\n",
              "    }\n",
              "\n",
              "    [theme=dark] .colab-df-convert {\n",
              "      background-color: #3B4455;\n",
              "      fill: #D2E3FC;\n",
              "    }\n",
              "\n",
              "    [theme=dark] .colab-df-convert:hover {\n",
              "      background-color: #434B5C;\n",
              "      box-shadow: 0px 1px 3px 1px rgba(0, 0, 0, 0.15);\n",
              "      filter: drop-shadow(0px 1px 2px rgba(0, 0, 0, 0.3));\n",
              "      fill: #FFFFFF;\n",
              "    }\n",
              "  </style>\n",
              "\n",
              "      <script>\n",
              "        const buttonEl =\n",
              "          document.querySelector('#df-66594552-a066-4121-93d4-7b11d4bda90c button.colab-df-convert');\n",
              "        buttonEl.style.display =\n",
              "          google.colab.kernel.accessAllowed ? 'block' : 'none';\n",
              "\n",
              "        async function convertToInteractive(key) {\n",
              "          const element = document.querySelector('#df-66594552-a066-4121-93d4-7b11d4bda90c');\n",
              "          const dataTable =\n",
              "            await google.colab.kernel.invokeFunction('convertToInteractive',\n",
              "                                                     [key], {});\n",
              "          if (!dataTable) return;\n",
              "\n",
              "          const docLinkHtml = 'Like what you see? Visit the ' +\n",
              "            '<a target=\"_blank\" href=https://colab.research.google.com/notebooks/data_table.ipynb>data table notebook</a>'\n",
              "            + ' to learn more about interactive tables.';\n",
              "          element.innerHTML = '';\n",
              "          dataTable['output_type'] = 'display_data';\n",
              "          await google.colab.output.renderOutput(dataTable, element);\n",
              "          const docLink = document.createElement('div');\n",
              "          docLink.innerHTML = docLinkHtml;\n",
              "          element.appendChild(docLink);\n",
              "        }\n",
              "      </script>\n",
              "    </div>\n",
              "  </div>\n",
              "  "
            ]
          },
          "metadata": {},
          "execution_count": 175
        }
      ]
    },
    {
      "cell_type": "code",
      "source": [
        "df = df.drop(['PassengerId','Survived','Name','Ticket','Fare','Cabin','Embarked'], axis=1)"
      ],
      "metadata": {
        "id": "XLC-iKVV_msX"
      },
      "execution_count": null,
      "outputs": []
    },
    {
      "cell_type": "code",
      "source": [
        "df"
      ],
      "metadata": {
        "colab": {
          "base_uri": "https://localhost:8080/",
          "height": 424
        },
        "id": "eZ8V6P2r_o3_",
        "outputId": "ac6e39c3-cd08-481d-c750-f05e3d130e4b"
      },
      "execution_count": null,
      "outputs": [
        {
          "output_type": "execute_result",
          "data": {
            "text/plain": [
              "     Pclass  Sex   Age  SibSp  Parch\n",
              "1         1    2  38.0      1      0\n",
              "3         1    2  35.0      1      0\n",
              "6         1    1  54.0      0      0\n",
              "10        3    2   4.0      1      1\n",
              "11        1    2  58.0      0      0\n",
              "..      ...  ...   ...    ...    ...\n",
              "871       1    2  47.0      1      1\n",
              "872       1    1  33.0      0      0\n",
              "879       1    2  56.0      0      1\n",
              "887       1    2  19.0      0      0\n",
              "889       1    1  26.0      0      0\n",
              "\n",
              "[183 rows x 5 columns]"
            ],
            "text/html": [
              "\n",
              "  <div id=\"df-f751bdd9-8c1b-4806-bde9-2e33db9b178f\">\n",
              "    <div class=\"colab-df-container\">\n",
              "      <div>\n",
              "<style scoped>\n",
              "    .dataframe tbody tr th:only-of-type {\n",
              "        vertical-align: middle;\n",
              "    }\n",
              "\n",
              "    .dataframe tbody tr th {\n",
              "        vertical-align: top;\n",
              "    }\n",
              "\n",
              "    .dataframe thead th {\n",
              "        text-align: right;\n",
              "    }\n",
              "</style>\n",
              "<table border=\"1\" class=\"dataframe\">\n",
              "  <thead>\n",
              "    <tr style=\"text-align: right;\">\n",
              "      <th></th>\n",
              "      <th>Pclass</th>\n",
              "      <th>Sex</th>\n",
              "      <th>Age</th>\n",
              "      <th>SibSp</th>\n",
              "      <th>Parch</th>\n",
              "    </tr>\n",
              "  </thead>\n",
              "  <tbody>\n",
              "    <tr>\n",
              "      <th>1</th>\n",
              "      <td>1</td>\n",
              "      <td>2</td>\n",
              "      <td>38.0</td>\n",
              "      <td>1</td>\n",
              "      <td>0</td>\n",
              "    </tr>\n",
              "    <tr>\n",
              "      <th>3</th>\n",
              "      <td>1</td>\n",
              "      <td>2</td>\n",
              "      <td>35.0</td>\n",
              "      <td>1</td>\n",
              "      <td>0</td>\n",
              "    </tr>\n",
              "    <tr>\n",
              "      <th>6</th>\n",
              "      <td>1</td>\n",
              "      <td>1</td>\n",
              "      <td>54.0</td>\n",
              "      <td>0</td>\n",
              "      <td>0</td>\n",
              "    </tr>\n",
              "    <tr>\n",
              "      <th>10</th>\n",
              "      <td>3</td>\n",
              "      <td>2</td>\n",
              "      <td>4.0</td>\n",
              "      <td>1</td>\n",
              "      <td>1</td>\n",
              "    </tr>\n",
              "    <tr>\n",
              "      <th>11</th>\n",
              "      <td>1</td>\n",
              "      <td>2</td>\n",
              "      <td>58.0</td>\n",
              "      <td>0</td>\n",
              "      <td>0</td>\n",
              "    </tr>\n",
              "    <tr>\n",
              "      <th>...</th>\n",
              "      <td>...</td>\n",
              "      <td>...</td>\n",
              "      <td>...</td>\n",
              "      <td>...</td>\n",
              "      <td>...</td>\n",
              "    </tr>\n",
              "    <tr>\n",
              "      <th>871</th>\n",
              "      <td>1</td>\n",
              "      <td>2</td>\n",
              "      <td>47.0</td>\n",
              "      <td>1</td>\n",
              "      <td>1</td>\n",
              "    </tr>\n",
              "    <tr>\n",
              "      <th>872</th>\n",
              "      <td>1</td>\n",
              "      <td>1</td>\n",
              "      <td>33.0</td>\n",
              "      <td>0</td>\n",
              "      <td>0</td>\n",
              "    </tr>\n",
              "    <tr>\n",
              "      <th>879</th>\n",
              "      <td>1</td>\n",
              "      <td>2</td>\n",
              "      <td>56.0</td>\n",
              "      <td>0</td>\n",
              "      <td>1</td>\n",
              "    </tr>\n",
              "    <tr>\n",
              "      <th>887</th>\n",
              "      <td>1</td>\n",
              "      <td>2</td>\n",
              "      <td>19.0</td>\n",
              "      <td>0</td>\n",
              "      <td>0</td>\n",
              "    </tr>\n",
              "    <tr>\n",
              "      <th>889</th>\n",
              "      <td>1</td>\n",
              "      <td>1</td>\n",
              "      <td>26.0</td>\n",
              "      <td>0</td>\n",
              "      <td>0</td>\n",
              "    </tr>\n",
              "  </tbody>\n",
              "</table>\n",
              "<p>183 rows × 5 columns</p>\n",
              "</div>\n",
              "      <button class=\"colab-df-convert\" onclick=\"convertToInteractive('df-f751bdd9-8c1b-4806-bde9-2e33db9b178f')\"\n",
              "              title=\"Convert this dataframe to an interactive table.\"\n",
              "              style=\"display:none;\">\n",
              "        \n",
              "  <svg xmlns=\"http://www.w3.org/2000/svg\" height=\"24px\"viewBox=\"0 0 24 24\"\n",
              "       width=\"24px\">\n",
              "    <path d=\"M0 0h24v24H0V0z\" fill=\"none\"/>\n",
              "    <path d=\"M18.56 5.44l.94 2.06.94-2.06 2.06-.94-2.06-.94-.94-2.06-.94 2.06-2.06.94zm-11 1L8.5 8.5l.94-2.06 2.06-.94-2.06-.94L8.5 2.5l-.94 2.06-2.06.94zm10 10l.94 2.06.94-2.06 2.06-.94-2.06-.94-.94-2.06-.94 2.06-2.06.94z\"/><path d=\"M17.41 7.96l-1.37-1.37c-.4-.4-.92-.59-1.43-.59-.52 0-1.04.2-1.43.59L10.3 9.45l-7.72 7.72c-.78.78-.78 2.05 0 2.83L4 21.41c.39.39.9.59 1.41.59.51 0 1.02-.2 1.41-.59l7.78-7.78 2.81-2.81c.8-.78.8-2.07 0-2.86zM5.41 20L4 18.59l7.72-7.72 1.47 1.35L5.41 20z\"/>\n",
              "  </svg>\n",
              "      </button>\n",
              "      \n",
              "  <style>\n",
              "    .colab-df-container {\n",
              "      display:flex;\n",
              "      flex-wrap:wrap;\n",
              "      gap: 12px;\n",
              "    }\n",
              "\n",
              "    .colab-df-convert {\n",
              "      background-color: #E8F0FE;\n",
              "      border: none;\n",
              "      border-radius: 50%;\n",
              "      cursor: pointer;\n",
              "      display: none;\n",
              "      fill: #1967D2;\n",
              "      height: 32px;\n",
              "      padding: 0 0 0 0;\n",
              "      width: 32px;\n",
              "    }\n",
              "\n",
              "    .colab-df-convert:hover {\n",
              "      background-color: #E2EBFA;\n",
              "      box-shadow: 0px 1px 2px rgba(60, 64, 67, 0.3), 0px 1px 3px 1px rgba(60, 64, 67, 0.15);\n",
              "      fill: #174EA6;\n",
              "    }\n",
              "\n",
              "    [theme=dark] .colab-df-convert {\n",
              "      background-color: #3B4455;\n",
              "      fill: #D2E3FC;\n",
              "    }\n",
              "\n",
              "    [theme=dark] .colab-df-convert:hover {\n",
              "      background-color: #434B5C;\n",
              "      box-shadow: 0px 1px 3px 1px rgba(0, 0, 0, 0.15);\n",
              "      filter: drop-shadow(0px 1px 2px rgba(0, 0, 0, 0.3));\n",
              "      fill: #FFFFFF;\n",
              "    }\n",
              "  </style>\n",
              "\n",
              "      <script>\n",
              "        const buttonEl =\n",
              "          document.querySelector('#df-f751bdd9-8c1b-4806-bde9-2e33db9b178f button.colab-df-convert');\n",
              "        buttonEl.style.display =\n",
              "          google.colab.kernel.accessAllowed ? 'block' : 'none';\n",
              "\n",
              "        async function convertToInteractive(key) {\n",
              "          const element = document.querySelector('#df-f751bdd9-8c1b-4806-bde9-2e33db9b178f');\n",
              "          const dataTable =\n",
              "            await google.colab.kernel.invokeFunction('convertToInteractive',\n",
              "                                                     [key], {});\n",
              "          if (!dataTable) return;\n",
              "\n",
              "          const docLinkHtml = 'Like what you see? Visit the ' +\n",
              "            '<a target=\"_blank\" href=https://colab.research.google.com/notebooks/data_table.ipynb>data table notebook</a>'\n",
              "            + ' to learn more about interactive tables.';\n",
              "          element.innerHTML = '';\n",
              "          dataTable['output_type'] = 'display_data';\n",
              "          await google.colab.output.renderOutput(dataTable, element);\n",
              "          const docLink = document.createElement('div');\n",
              "          docLink.innerHTML = docLinkHtml;\n",
              "          element.appendChild(docLink);\n",
              "        }\n",
              "      </script>\n",
              "    </div>\n",
              "  </div>\n",
              "  "
            ]
          },
          "metadata": {},
          "execution_count": 178
        }
      ]
    },
    {
      "cell_type": "code",
      "source": [
        "import numpy as np\n",
        "\n",
        "dfnp = df.to_numpy()\n",
        "x=df.drop(['PassengerId','Survived','Name','Ticket','Fare','Cabin','Embarked'], axis=1).to_numpy() # prendiamo tutti i dati tranne l'ultima colonna -> variabili indipendenti, osservazioni\n",
        "y=df.to_numpy()[:,1] # prendiamo solo l'ultima colonna -> variabile dipendente, target\n",
        "y = y.astype(int)"
      ],
      "metadata": {
        "id": "Ui0UuGjB3FjE"
      },
      "execution_count": null,
      "outputs": []
    },
    {
      "cell_type": "code",
      "source": [
        "x"
      ],
      "metadata": {
        "colab": {
          "base_uri": "https://localhost:8080/"
        },
        "id": "fC1WTBVo_K4n",
        "outputId": "7701914c-7fcf-47da-93ef-f09d3b23583b"
      },
      "execution_count": null,
      "outputs": [
        {
          "output_type": "execute_result",
          "data": {
            "text/plain": [
              "array([[ 1.  ,  2.  , 38.  ,  1.  ,  0.  ],\n",
              "       [ 1.  ,  2.  , 35.  ,  1.  ,  0.  ],\n",
              "       [ 1.  ,  1.  , 54.  ,  0.  ,  0.  ],\n",
              "       [ 3.  ,  2.  ,  4.  ,  1.  ,  1.  ],\n",
              "       [ 1.  ,  2.  , 58.  ,  0.  ,  0.  ],\n",
              "       [ 2.  ,  1.  , 34.  ,  0.  ,  0.  ],\n",
              "       [ 1.  ,  1.  , 28.  ,  0.  ,  0.  ],\n",
              "       [ 1.  ,  1.  , 19.  ,  3.  ,  2.  ],\n",
              "       [ 1.  ,  2.  , 49.  ,  1.  ,  0.  ],\n",
              "       [ 1.  ,  1.  , 65.  ,  0.  ,  1.  ],\n",
              "       [ 1.  ,  1.  , 45.  ,  1.  ,  0.  ],\n",
              "       [ 2.  ,  2.  , 29.  ,  0.  ,  0.  ],\n",
              "       [ 3.  ,  1.  , 25.  ,  0.  ,  0.  ],\n",
              "       [ 1.  ,  2.  , 23.  ,  3.  ,  2.  ],\n",
              "       [ 1.  ,  1.  , 46.  ,  1.  ,  0.  ],\n",
              "       [ 1.  ,  1.  , 71.  ,  0.  ,  0.  ],\n",
              "       [ 1.  ,  1.  , 23.  ,  0.  ,  1.  ],\n",
              "       [ 1.  ,  1.  , 21.  ,  0.  ,  1.  ],\n",
              "       [ 1.  ,  1.  , 47.  ,  0.  ,  0.  ],\n",
              "       [ 1.  ,  1.  , 24.  ,  0.  ,  1.  ],\n",
              "       [ 2.  ,  2.  , 32.5 ,  0.  ,  0.  ],\n",
              "       [ 1.  ,  1.  , 54.  ,  0.  ,  1.  ],\n",
              "       [ 1.  ,  2.  , 19.  ,  0.  ,  2.  ],\n",
              "       [ 1.  ,  1.  , 37.  ,  1.  ,  0.  ],\n",
              "       [ 1.  ,  1.  , 24.  ,  0.  ,  0.  ],\n",
              "       [ 2.  ,  1.  , 36.5 ,  0.  ,  2.  ],\n",
              "       [ 1.  ,  2.  , 22.  ,  1.  ,  0.  ],\n",
              "       [ 1.  ,  1.  , 61.  ,  0.  ,  0.  ],\n",
              "       [ 1.  ,  1.  , 56.  ,  0.  ,  0.  ],\n",
              "       [ 1.  ,  2.  , 50.  ,  0.  ,  0.  ],\n",
              "       [ 2.  ,  1.  ,  1.  ,  2.  ,  1.  ],\n",
              "       [ 2.  ,  1.  ,  3.  ,  1.  ,  1.  ],\n",
              "       [ 1.  ,  2.  , 44.  ,  0.  ,  0.  ],\n",
              "       [ 1.  ,  2.  , 58.  ,  0.  ,  0.  ],\n",
              "       [ 3.  ,  2.  ,  2.  ,  0.  ,  1.  ],\n",
              "       [ 1.  ,  1.  , 40.  ,  0.  ,  0.  ],\n",
              "       [ 1.  ,  2.  , 31.  ,  1.  ,  0.  ],\n",
              "       [ 1.  ,  2.  , 32.  ,  0.  ,  0.  ],\n",
              "       [ 1.  ,  1.  , 38.  ,  1.  ,  0.  ],\n",
              "       [ 1.  ,  2.  , 35.  ,  1.  ,  0.  ],\n",
              "       [ 1.  ,  1.  , 44.  ,  2.  ,  0.  ],\n",
              "       [ 1.  ,  1.  , 37.  ,  1.  ,  1.  ],\n",
              "       [ 3.  ,  2.  , 29.  ,  1.  ,  1.  ],\n",
              "       [ 1.  ,  1.  , 62.  ,  0.  ,  0.  ],\n",
              "       [ 1.  ,  2.  , 30.  ,  0.  ,  0.  ],\n",
              "       [ 1.  ,  1.  , 52.  ,  1.  ,  1.  ],\n",
              "       [ 1.  ,  1.  , 40.  ,  0.  ,  0.  ],\n",
              "       [ 1.  ,  2.  , 58.  ,  0.  ,  1.  ],\n",
              "       [ 1.  ,  2.  , 35.  ,  0.  ,  0.  ],\n",
              "       [ 1.  ,  1.  , 37.  ,  0.  ,  1.  ],\n",
              "       [ 1.  ,  2.  , 63.  ,  1.  ,  0.  ],\n",
              "       [ 1.  ,  2.  , 19.  ,  1.  ,  0.  ],\n",
              "       [ 2.  ,  1.  , 36.  ,  0.  ,  0.  ],\n",
              "       [ 1.  ,  2.  ,  2.  ,  1.  ,  2.  ],\n",
              "       [ 1.  ,  2.  , 50.  ,  0.  ,  1.  ],\n",
              "       [ 1.  ,  1.  ,  0.92,  1.  ,  2.  ],\n",
              "       [ 1.  ,  2.  , 17.  ,  1.  ,  0.  ],\n",
              "       [ 1.  ,  2.  , 30.  ,  0.  ,  0.  ],\n",
              "       [ 1.  ,  2.  , 24.  ,  0.  ,  0.  ],\n",
              "       [ 1.  ,  2.  , 18.  ,  2.  ,  2.  ],\n",
              "       [ 1.  ,  2.  , 31.  ,  0.  ,  2.  ],\n",
              "       [ 1.  ,  2.  , 40.  ,  1.  ,  1.  ],\n",
              "       [ 1.  ,  2.  , 36.  ,  0.  ,  0.  ],\n",
              "       [ 2.  ,  2.  , 36.  ,  0.  ,  0.  ],\n",
              "       [ 1.  ,  2.  , 16.  ,  0.  ,  1.  ],\n",
              "       [ 1.  ,  1.  , 45.5 ,  0.  ,  0.  ],\n",
              "       [ 1.  ,  1.  , 38.  ,  0.  ,  1.  ],\n",
              "       [ 1.  ,  1.  , 29.  ,  1.  ,  0.  ],\n",
              "       [ 1.  ,  2.  , 41.  ,  0.  ,  0.  ],\n",
              "       [ 1.  ,  1.  , 45.  ,  0.  ,  0.  ],\n",
              "       [ 2.  ,  1.  ,  2.  ,  1.  ,  1.  ],\n",
              "       [ 1.  ,  2.  , 24.  ,  3.  ,  2.  ],\n",
              "       [ 2.  ,  2.  , 24.  ,  0.  ,  0.  ],\n",
              "       [ 1.  ,  2.  , 22.  ,  0.  ,  1.  ],\n",
              "       [ 1.  ,  2.  , 60.  ,  1.  ,  0.  ],\n",
              "       [ 1.  ,  2.  , 24.  ,  0.  ,  0.  ],\n",
              "       [ 1.  ,  1.  , 25.  ,  1.  ,  0.  ],\n",
              "       [ 1.  ,  1.  , 27.  ,  0.  ,  2.  ],\n",
              "       [ 1.  ,  1.  , 36.  ,  1.  ,  2.  ],\n",
              "       [ 1.  ,  2.  , 23.  ,  1.  ,  0.  ],\n",
              "       [ 3.  ,  2.  , 24.  ,  0.  ,  2.  ],\n",
              "       [ 1.  ,  2.  , 33.  ,  1.  ,  0.  ],\n",
              "       [ 3.  ,  1.  , 32.  ,  0.  ,  0.  ],\n",
              "       [ 1.  ,  1.  , 28.  ,  0.  ,  0.  ],\n",
              "       [ 1.  ,  1.  , 50.  ,  1.  ,  0.  ],\n",
              "       [ 1.  ,  2.  , 14.  ,  1.  ,  2.  ],\n",
              "       [ 1.  ,  1.  , 64.  ,  1.  ,  4.  ],\n",
              "       [ 1.  ,  1.  ,  4.  ,  0.  ,  2.  ],\n",
              "       [ 1.  ,  1.  , 52.  ,  0.  ,  0.  ],\n",
              "       [ 1.  ,  1.  , 30.  ,  0.  ,  0.  ],\n",
              "       [ 1.  ,  1.  , 49.  ,  1.  ,  0.  ],\n",
              "       [ 1.  ,  1.  , 65.  ,  0.  ,  0.  ],\n",
              "       [ 1.  ,  1.  , 48.  ,  0.  ,  0.  ],\n",
              "       [ 1.  ,  1.  , 47.  ,  0.  ,  0.  ],\n",
              "       [ 2.  ,  2.  , 23.  ,  0.  ,  0.  ],\n",
              "       [ 1.  ,  1.  , 25.  ,  1.  ,  0.  ],\n",
              "       [ 1.  ,  2.  , 35.  ,  1.  ,  0.  ],\n",
              "       [ 1.  ,  1.  , 58.  ,  0.  ,  0.  ],\n",
              "       [ 1.  ,  1.  , 55.  ,  0.  ,  0.  ],\n",
              "       [ 1.  ,  2.  , 54.  ,  1.  ,  0.  ],\n",
              "       [ 1.  ,  2.  , 25.  ,  1.  ,  2.  ],\n",
              "       [ 1.  ,  2.  , 16.  ,  0.  ,  0.  ],\n",
              "       [ 1.  ,  1.  , 18.  ,  1.  ,  0.  ],\n",
              "       [ 1.  ,  1.  , 36.  ,  0.  ,  0.  ],\n",
              "       [ 1.  ,  1.  , 47.  ,  0.  ,  0.  ],\n",
              "       [ 2.  ,  2.  , 34.  ,  0.  ,  0.  ],\n",
              "       [ 1.  ,  2.  , 30.  ,  0.  ,  0.  ],\n",
              "       [ 1.  ,  2.  , 44.  ,  0.  ,  1.  ],\n",
              "       [ 1.  ,  1.  , 45.  ,  0.  ,  0.  ],\n",
              "       [ 1.  ,  2.  , 22.  ,  0.  ,  2.  ],\n",
              "       [ 1.  ,  2.  , 36.  ,  0.  ,  2.  ],\n",
              "       [ 1.  ,  1.  , 50.  ,  1.  ,  0.  ],\n",
              "       [ 1.  ,  1.  , 17.  ,  0.  ,  2.  ],\n",
              "       [ 1.  ,  2.  , 48.  ,  1.  ,  0.  ],\n",
              "       [ 1.  ,  2.  , 39.  ,  1.  ,  1.  ],\n",
              "       [ 1.  ,  2.  , 53.  ,  2.  ,  0.  ],\n",
              "       [ 1.  ,  1.  , 36.  ,  0.  ,  0.  ],\n",
              "       [ 1.  ,  2.  , 39.  ,  1.  ,  0.  ],\n",
              "       [ 1.  ,  2.  , 39.  ,  1.  ,  1.  ],\n",
              "       [ 1.  ,  1.  , 36.  ,  0.  ,  0.  ],\n",
              "       [ 1.  ,  2.  , 18.  ,  0.  ,  2.  ],\n",
              "       [ 1.  ,  1.  , 60.  ,  1.  ,  1.  ],\n",
              "       [ 1.  ,  2.  , 52.  ,  1.  ,  0.  ],\n",
              "       [ 1.  ,  1.  , 49.  ,  1.  ,  0.  ],\n",
              "       [ 1.  ,  2.  , 40.  ,  0.  ,  0.  ],\n",
              "       [ 2.  ,  2.  ,  4.  ,  2.  ,  1.  ],\n",
              "       [ 1.  ,  1.  , 42.  ,  1.  ,  0.  ],\n",
              "       [ 1.  ,  1.  , 61.  ,  0.  ,  0.  ],\n",
              "       [ 1.  ,  2.  , 21.  ,  0.  ,  0.  ],\n",
              "       [ 1.  ,  1.  , 80.  ,  0.  ,  0.  ],\n",
              "       [ 1.  ,  1.  , 32.  ,  0.  ,  0.  ],\n",
              "       [ 1.  ,  2.  , 24.  ,  0.  ,  0.  ],\n",
              "       [ 1.  ,  1.  , 48.  ,  1.  ,  0.  ],\n",
              "       [ 1.  ,  1.  , 56.  ,  0.  ,  0.  ],\n",
              "       [ 1.  ,  1.  , 58.  ,  0.  ,  2.  ],\n",
              "       [ 1.  ,  1.  , 47.  ,  0.  ,  0.  ],\n",
              "       [ 1.  ,  1.  , 31.  ,  1.  ,  0.  ],\n",
              "       [ 1.  ,  1.  , 36.  ,  0.  ,  1.  ],\n",
              "       [ 1.  ,  1.  , 27.  ,  0.  ,  0.  ],\n",
              "       [ 1.  ,  2.  , 15.  ,  0.  ,  1.  ],\n",
              "       [ 1.  ,  1.  , 31.  ,  1.  ,  0.  ],\n",
              "       [ 1.  ,  1.  , 49.  ,  1.  ,  1.  ],\n",
              "       [ 3.  ,  1.  , 42.  ,  0.  ,  0.  ],\n",
              "       [ 1.  ,  2.  , 18.  ,  1.  ,  0.  ],\n",
              "       [ 1.  ,  1.  , 35.  ,  0.  ,  0.  ],\n",
              "       [ 1.  ,  1.  , 42.  ,  0.  ,  0.  ],\n",
              "       [ 1.  ,  2.  , 24.  ,  0.  ,  0.  ],\n",
              "       [ 1.  ,  1.  , 48.  ,  1.  ,  0.  ],\n",
              "       [ 3.  ,  1.  , 19.  ,  0.  ,  0.  ],\n",
              "       [ 1.  ,  2.  , 38.  ,  0.  ,  0.  ],\n",
              "       [ 2.  ,  2.  , 27.  ,  0.  ,  0.  ],\n",
              "       [ 1.  ,  1.  , 27.  ,  1.  ,  0.  ],\n",
              "       [ 1.  ,  2.  , 29.  ,  0.  ,  0.  ],\n",
              "       [ 1.  ,  1.  , 35.  ,  0.  ,  0.  ],\n",
              "       [ 1.  ,  1.  , 36.  ,  1.  ,  0.  ],\n",
              "       [ 1.  ,  2.  , 21.  ,  2.  ,  2.  ],\n",
              "       [ 1.  ,  1.  , 70.  ,  1.  ,  1.  ],\n",
              "       [ 1.  ,  1.  , 19.  ,  1.  ,  0.  ],\n",
              "       [ 3.  ,  1.  ,  6.  ,  0.  ,  1.  ],\n",
              "       [ 1.  ,  2.  , 33.  ,  0.  ,  0.  ],\n",
              "       [ 1.  ,  2.  , 36.  ,  1.  ,  2.  ],\n",
              "       [ 1.  ,  2.  , 51.  ,  1.  ,  0.  ],\n",
              "       [ 2.  ,  2.  , 57.  ,  0.  ,  0.  ],\n",
              "       [ 1.  ,  2.  , 43.  ,  0.  ,  1.  ],\n",
              "       [ 1.  ,  2.  , 17.  ,  1.  ,  0.  ],\n",
              "       [ 1.  ,  1.  , 29.  ,  0.  ,  0.  ],\n",
              "       [ 1.  ,  1.  , 46.  ,  0.  ,  0.  ],\n",
              "       [ 1.  ,  2.  , 49.  ,  0.  ,  0.  ],\n",
              "       [ 1.  ,  1.  , 11.  ,  1.  ,  2.  ],\n",
              "       [ 1.  ,  1.  , 39.  ,  0.  ,  0.  ],\n",
              "       [ 1.  ,  2.  , 33.  ,  1.  ,  0.  ],\n",
              "       [ 1.  ,  2.  , 52.  ,  1.  ,  1.  ],\n",
              "       [ 3.  ,  2.  , 27.  ,  0.  ,  1.  ],\n",
              "       [ 1.  ,  2.  , 39.  ,  1.  ,  1.  ],\n",
              "       [ 1.  ,  2.  , 16.  ,  0.  ,  1.  ],\n",
              "       [ 1.  ,  1.  , 51.  ,  0.  ,  0.  ],\n",
              "       [ 1.  ,  2.  , 48.  ,  0.  ,  0.  ],\n",
              "       [ 1.  ,  1.  , 31.  ,  0.  ,  0.  ],\n",
              "       [ 1.  ,  2.  , 47.  ,  1.  ,  1.  ],\n",
              "       [ 1.  ,  1.  , 33.  ,  0.  ,  0.  ],\n",
              "       [ 1.  ,  2.  , 56.  ,  0.  ,  1.  ],\n",
              "       [ 1.  ,  2.  , 19.  ,  0.  ,  0.  ],\n",
              "       [ 1.  ,  1.  , 26.  ,  0.  ,  0.  ]])"
            ]
          },
          "metadata": {},
          "execution_count": 176
        }
      ]
    },
    {
      "cell_type": "code",
      "source": [
        "y"
      ],
      "metadata": {
        "colab": {
          "base_uri": "https://localhost:8080/"
        },
        "id": "1nWW1WXT8zQw",
        "outputId": "b73517eb-41f5-4183-aff9-45eccdb4dfd1"
      },
      "execution_count": null,
      "outputs": [
        {
          "output_type": "execute_result",
          "data": {
            "text/plain": [
              "array([1, 1, 0, 1, 1, 1, 1, 0, 1, 0, 0, 1, 0, 1, 0, 0, 1, 0, 0, 0, 1, 0,\n",
              "       1, 0, 0, 0, 1, 0, 0, 0, 1, 1, 1, 1, 0, 1, 1, 1, 1, 1, 0, 1, 0, 0,\n",
              "       1, 0, 0, 1, 1, 0, 1, 1, 0, 0, 1, 1, 1, 1, 1, 1, 1, 1, 1, 1, 1, 0,\n",
              "       0, 0, 1, 0, 1, 1, 1, 1, 1, 1, 1, 0, 1, 1, 1, 1, 1, 1, 0, 1, 0, 1,\n",
              "       1, 0, 1, 0, 1, 0, 1, 1, 1, 0, 0, 1, 0, 1, 0, 1, 0, 1, 1, 1, 0, 1,\n",
              "       1, 0, 1, 1, 1, 1, 1, 1, 1, 0, 1, 1, 1, 1, 1, 1, 1, 0, 1, 1, 1, 1,\n",
              "       1, 1, 0, 0, 0, 1, 1, 1, 1, 0, 0, 1, 1, 1, 1, 1, 0, 1, 1, 1, 1, 1,\n",
              "       0, 1, 0, 0, 1, 1, 1, 1, 0, 1, 1, 0, 0, 1, 1, 0, 1, 1, 1, 1, 1, 1,\n",
              "       1, 0, 1, 0, 1, 1, 1])"
            ]
          },
          "metadata": {},
          "execution_count": 167
        }
      ]
    },
    {
      "cell_type": "code",
      "source": [
        "# split data into training/test set\n",
        "from sklearn.model_selection import train_test_split\n",
        "\n",
        "X_train, X_test, y_train, y_test = train_test_split(x, y, \n",
        "                                                    test_size =0.33, #by default is 75%-25%\n",
        "                                                    #shuffle is set True by default,\n",
        "                                                    stratify=y,\n",
        "                                                    random_state= 123) #fix random seed for replicability"
      ],
      "metadata": {
        "id": "ChqZywed3k7w"
      },
      "execution_count": null,
      "outputs": []
    },
    {
      "cell_type": "code",
      "source": [
        "X_train.shape,y_train.shape,X_test.shape,y_test.shape"
      ],
      "metadata": {
        "colab": {
          "base_uri": "https://localhost:8080/"
        },
        "id": "GkqTRNVz4T5Q",
        "outputId": "109b1773-86a9-4d8f-f097-2624efa20d44"
      },
      "execution_count": null,
      "outputs": [
        {
          "output_type": "execute_result",
          "data": {
            "text/plain": [
              "((122, 5), (122,), (61, 5), (61,))"
            ]
          },
          "metadata": {},
          "execution_count": 169
        }
      ]
    },
    {
      "cell_type": "code",
      "source": [
        "# importiamo il metodo che vogliamo utilizzara (tra i tanti disponibili...)\n",
        "from sklearn import tree\n",
        "\n",
        "# impostiamo i parametri del metodo\n",
        "# https://scikit-learn.org/stable/modules/generated/sklearn.tree.DecisionTreeClassifier.html\n",
        "tree_clf = tree.DecisionTreeClassifier(criterion=\"gini\", # criteri per stabilire come splittare\n",
        "                                       max_depth=4, # profondità dell'albero per evitare l'overfitting\n",
        "                                       min_samples_split=30, # dimensione minima del sottogruppo a cui fermarsi (no more split)\n",
        "                                       max_leaf_nodes=6, # numero dei nodi foglia\n",
        "                                       min_samples_leaf=4 # numero di campioni per essere una foglia\n",
        "                                      )\n",
        "\n",
        "# prima parte: dobbiamo fare in modo che il metodo impari dalle informazioni a disposizione\n",
        "tree_clf.fit(X_train,y_train)\n",
        "\n",
        "# seconda parte: vediamo se il metodo ha imparato bene facendogli prevedere i risultati \n",
        "predict = tree_clf.predict(X_test)\n",
        "\n",
        "# visualizziamo il risultato (solo i primi dieci pazienti)\n",
        "print(f'dati predetti dal metodo =                {predict[:10]}') # dati predetti dal metodo\n",
        "print(f'dati reali presenti nel dataset di test = {y_test[:10]}') # dati effettivi presenti nel test set"
      ],
      "metadata": {
        "colab": {
          "base_uri": "https://localhost:8080/"
        },
        "id": "OrQYHtLt4Xeh",
        "outputId": "d4e4644b-0d85-4e88-f8b7-49e30a95aff1"
      },
      "execution_count": null,
      "outputs": [
        {
          "output_type": "stream",
          "name": "stdout",
          "text": [
            "dati predetti dal metodo =                [1 1 1 1 0 1 1 0 0 1]\n",
            "dati reali presenti nel dataset di test = [1 0 1 0 1 0 1 0 0 1]\n"
          ]
        }
      ]
    },
    {
      "cell_type": "code",
      "source": [
        "#plots IMPORTS\n",
        "from mlxtend.plotting import plot_confusion_matrix\n",
        "from matplotlib import pyplot as plt\n",
        "from sklearn.metrics import confusion_matrix, classification_report\n",
        "\n",
        "plot_confusion_matrix(confusion_matrix(y_test, predict))\n",
        "plt.show()"
      ],
      "metadata": {
        "colab": {
          "base_uri": "https://localhost:8080/",
          "height": 279
        },
        "id": "8es59Yf-7nDH",
        "outputId": "7891588f-d46a-411e-83a2-99a23b978809"
      },
      "execution_count": null,
      "outputs": [
        {
          "output_type": "display_data",
          "data": {
            "text/plain": [
              "<Figure size 432x288 with 1 Axes>"
            ],
            "image/png": "[encoded data removed]"
          },
          "metadata": {
            "needs_background": "light"
          }
        }
      ]
    },
    {
      "cell_type": "code",
      "source": [
        "print(classification_report(y_test, predict))"
      ],
      "metadata": {
        "colab": {
          "base_uri": "https://localhost:8080/"
        },
        "id": "w215QbHE9SKP",
        "outputId": "038550ba-2465-424a-a67e-79ab207a2ca8"
      },
      "execution_count": null,
      "outputs": [
        {
          "output_type": "stream",
          "name": "stdout",
          "text": [
            "              precision    recall  f1-score   support\n",
            "\n",
            "           0       0.67      0.50      0.57        20\n",
            "           1       0.78      0.88      0.83        41\n",
            "\n",
            "    accuracy                           0.75        61\n",
            "   macro avg       0.72      0.69      0.70        61\n",
            "weighted avg       0.74      0.75      0.74        61\n",
            "\n"
          ]
        }
      ]
    },
    {
      "cell_type": "code",
      "source": [
        "#save the feature list into a vector (sono i nomi delle colonne del dataset)\n",
        "features=list(df.columns.values)\n",
        "\n",
        "import graphviz\n",
        "dot_data = tree.export_graphviz(tree_clf, out_file=None, \n",
        "                     feature_names=features[0:5],  \n",
        "                     class_names=['0','1'],  \n",
        "                     filled=True, rounded=True,  \n",
        "                     special_characters=True)  \n",
        "graph = graphviz.Source(dot_data)\n",
        "graph.render('survived')\n",
        "graph"
      ],
      "metadata": {
        "colab": {
          "base_uri": "https://localhost:8080/",
          "height": 757
        },
        "id": "EFlgn4zp9Y-_",
        "outputId": "e536e22c-82c5-4d3d-a231-c3a676a713e6"
      },
      "execution_count": null,
      "outputs": [
        {
          "output_type": "execute_result",
          "data": {
            "text/plain": [
              "<graphviz.files.Source at 0x7f47f64169d0>"
            ],
            "image/svg+xml": "<?xml version=\"1.0\" encoding=\"UTF-8\" standalone=\"no\"?>\n<!DOCTYPE svg PUBLIC \"-//W3C//DTD SVG 1.1//EN\"\n \"http://www.w3.org/Graphics/SVG/1.1/DTD/svg11.dtd\">\n<!-- Generated by graphviz version 2.43.0 (0)\n -->\n<!-- Title: Tree Pages: 1 -->\n<svg width=\"529pt\" height=\"552pt\"\n viewBox=\"0.00 0.00 528.50 552.00\" xmlns=\"http://www.w3.org/2000/svg\" xmlns:xlink=\"http://www.w3.org/1999/xlink\">\n<g id=\"graph0\" class=\"graph\" transform=\"scale(1 1) rotate(0) translate(4 548)\">\n<title>Tree</title>\n<polygon fill=\"white\" stroke=\"transparent\" points=\"-4,4 -4,-548 524.5,-548 524.5,4 -4,4\"/>\n<!-- 0 -->\n<g id=\"node1\" class=\"node\">\n<title>0</title>\n<path fill=\"#9acdf2\" stroke=\"black\" d=\"M335.5,-544C335.5,-544 249.5,-544 249.5,-544 243.5,-544 237.5,-538 237.5,-532 237.5,-532 237.5,-473 237.5,-473 237.5,-467 243.5,-461 249.5,-461 249.5,-461 335.5,-461 335.5,-461 341.5,-461 347.5,-467 347.5,-473 347.5,-473 347.5,-532 347.5,-532 347.5,-538 341.5,-544 335.5,-544\"/>\n<text text-anchor=\"start\" x=\"263.5\" y=\"-528.8\" font-family=\"Helvetica,sans-Serif\" font-size=\"14.00\">Sex ≤ 1.5</text>\n<text text-anchor=\"start\" x=\"257\" y=\"-513.8\" font-family=\"Helvetica,sans-Serif\" font-size=\"14.00\">gini = 0.441</text>\n<text text-anchor=\"start\" x=\"247.5\" y=\"-498.8\" font-family=\"Helvetica,sans-Serif\" font-size=\"14.00\">samples = 122</text>\n<text text-anchor=\"start\" x=\"245.5\" y=\"-483.8\" font-family=\"Helvetica,sans-Serif\" font-size=\"14.00\">value = [40, 82]</text>\n<text text-anchor=\"start\" x=\"265\" y=\"-468.8\" font-family=\"Helvetica,sans-Serif\" font-size=\"14.00\">class = 1</text>\n</g>\n<!-- 1 -->\n<g id=\"node2\" class=\"node\">\n<title>1</title>\n<path fill=\"#fae4d5\" stroke=\"black\" d=\"M273.5,-425C273.5,-425 187.5,-425 187.5,-425 181.5,-425 175.5,-419 175.5,-413 175.5,-413 175.5,-354 175.5,-354 175.5,-348 181.5,-342 187.5,-342 187.5,-342 273.5,-342 273.5,-342 279.5,-342 285.5,-348 285.5,-354 285.5,-354 285.5,-413 285.5,-413 285.5,-419 279.5,-425 273.5,-425\"/>\n<text text-anchor=\"start\" x=\"197.5\" y=\"-409.8\" font-family=\"Helvetica,sans-Serif\" font-size=\"14.00\">Age ≤ 43.0</text>\n<text text-anchor=\"start\" x=\"195\" y=\"-394.8\" font-family=\"Helvetica,sans-Serif\" font-size=\"14.00\">gini = 0.493</text>\n<text text-anchor=\"start\" x=\"189.5\" y=\"-379.8\" font-family=\"Helvetica,sans-Serif\" font-size=\"14.00\">samples = 68</text>\n<text text-anchor=\"start\" x=\"183.5\" y=\"-364.8\" font-family=\"Helvetica,sans-Serif\" font-size=\"14.00\">value = [38, 30]</text>\n<text text-anchor=\"start\" x=\"203\" y=\"-349.8\" font-family=\"Helvetica,sans-Serif\" font-size=\"14.00\">class = 0</text>\n</g>\n<!-- 0&#45;&gt;1 -->\n<g id=\"edge1\" class=\"edge\">\n<title>0&#45;&gt;1</title>\n<path fill=\"none\" stroke=\"black\" d=\"M270.99,-460.91C266.37,-452.2 261.45,-442.9 256.67,-433.89\"/>\n<polygon fill=\"black\" stroke=\"black\" points=\"259.75,-432.22 251.97,-425.02 253.56,-435.5 259.75,-432.22\"/>\n<text text-anchor=\"middle\" x=\"244.63\" y=\"-445.22\" font-family=\"Helvetica,sans-Serif\" font-size=\"14.00\">True</text>\n</g>\n<!-- 2 -->\n<g id=\"node9\" class=\"node\">\n<title>2</title>\n<path fill=\"#41a1e6\" stroke=\"black\" d=\"M393.5,-425C393.5,-425 315.5,-425 315.5,-425 309.5,-425 303.5,-419 303.5,-413 303.5,-413 303.5,-354 303.5,-354 303.5,-348 309.5,-342 315.5,-342 315.5,-342 393.5,-342 393.5,-342 399.5,-342 405.5,-348 405.5,-354 405.5,-354 405.5,-413 405.5,-413 405.5,-419 399.5,-425 393.5,-425\"/>\n<text text-anchor=\"start\" x=\"321.5\" y=\"-409.8\" font-family=\"Helvetica,sans-Serif\" font-size=\"14.00\">Age ≤ 49.5</text>\n<text text-anchor=\"start\" x=\"319\" y=\"-394.8\" font-family=\"Helvetica,sans-Serif\" font-size=\"14.00\">gini = 0.071</text>\n<text text-anchor=\"start\" x=\"313.5\" y=\"-379.8\" font-family=\"Helvetica,sans-Serif\" font-size=\"14.00\">samples = 54</text>\n<text text-anchor=\"start\" x=\"311.5\" y=\"-364.8\" font-family=\"Helvetica,sans-Serif\" font-size=\"14.00\">value = [2, 52]</text>\n<text text-anchor=\"start\" x=\"327\" y=\"-349.8\" font-family=\"Helvetica,sans-Serif\" font-size=\"14.00\">class = 1</text>\n</g>\n<!-- 0&#45;&gt;2 -->\n<g id=\"edge8\" class=\"edge\">\n<title>0&#45;&gt;2</title>\n<path fill=\"none\" stroke=\"black\" d=\"M314.01,-460.91C318.63,-452.2 323.55,-442.9 328.33,-433.89\"/>\n<polygon fill=\"black\" stroke=\"black\" points=\"331.44,-435.5 333.03,-425.02 325.25,-432.22 331.44,-435.5\"/>\n<text text-anchor=\"middle\" x=\"340.37\" y=\"-445.22\" font-family=\"Helvetica,sans-Serif\" font-size=\"14.00\">False</text>\n</g>\n<!-- 3 -->\n<g id=\"node3\" class=\"node\">\n<title>3</title>\n<path fill=\"#c5e2f7\" stroke=\"black\" d=\"M150.5,-306C150.5,-306 64.5,-306 64.5,-306 58.5,-306 52.5,-300 52.5,-294 52.5,-294 52.5,-235 52.5,-235 52.5,-229 58.5,-223 64.5,-223 64.5,-223 150.5,-223 150.5,-223 156.5,-223 162.5,-229 162.5,-235 162.5,-235 162.5,-294 162.5,-294 162.5,-300 156.5,-306 150.5,-306\"/>\n<text text-anchor=\"start\" x=\"74.5\" y=\"-290.8\" font-family=\"Helvetica,sans-Serif\" font-size=\"14.00\">Age ≤ 17.5</text>\n<text text-anchor=\"start\" x=\"72\" y=\"-275.8\" font-family=\"Helvetica,sans-Serif\" font-size=\"14.00\">gini = 0.485</text>\n<text text-anchor=\"start\" x=\"66.5\" y=\"-260.8\" font-family=\"Helvetica,sans-Serif\" font-size=\"14.00\">samples = 41</text>\n<text text-anchor=\"start\" x=\"60.5\" y=\"-245.8\" font-family=\"Helvetica,sans-Serif\" font-size=\"14.00\">value = [17, 24]</text>\n<text text-anchor=\"start\" x=\"80\" y=\"-230.8\" font-family=\"Helvetica,sans-Serif\" font-size=\"14.00\">class = 1</text>\n</g>\n<!-- 1&#45;&gt;3 -->\n<g id=\"edge2\" class=\"edge\">\n<title>1&#45;&gt;3</title>\n<path fill=\"none\" stroke=\"black\" d=\"M187.83,-341.91C178,-332.56 167.46,-322.54 157.36,-312.93\"/>\n<polygon fill=\"black\" stroke=\"black\" points=\"159.76,-310.38 150.1,-306.02 154.93,-315.45 159.76,-310.38\"/>\n</g>\n<!-- 4 -->\n<g id=\"node8\" class=\"node\">\n<title>4</title>\n<path fill=\"#eca572\" stroke=\"black\" d=\"M270.5,-298.5C270.5,-298.5 192.5,-298.5 192.5,-298.5 186.5,-298.5 180.5,-292.5 180.5,-286.5 180.5,-286.5 180.5,-242.5 180.5,-242.5 180.5,-236.5 186.5,-230.5 192.5,-230.5 192.5,-230.5 270.5,-230.5 270.5,-230.5 276.5,-230.5 282.5,-236.5 282.5,-242.5 282.5,-242.5 282.5,-286.5 282.5,-286.5 282.5,-292.5 276.5,-298.5 270.5,-298.5\"/>\n<text text-anchor=\"start\" x=\"196\" y=\"-283.3\" font-family=\"Helvetica,sans-Serif\" font-size=\"14.00\">gini = 0.346</text>\n<text text-anchor=\"start\" x=\"190.5\" y=\"-268.3\" font-family=\"Helvetica,sans-Serif\" font-size=\"14.00\">samples = 27</text>\n<text text-anchor=\"start\" x=\"188.5\" y=\"-253.3\" font-family=\"Helvetica,sans-Serif\" font-size=\"14.00\">value = [21, 6]</text>\n<text text-anchor=\"start\" x=\"204\" y=\"-238.3\" font-family=\"Helvetica,sans-Serif\" font-size=\"14.00\">class = 0</text>\n</g>\n<!-- 1&#45;&gt;4 -->\n<g id=\"edge7\" class=\"edge\">\n<title>1&#45;&gt;4</title>\n<path fill=\"none\" stroke=\"black\" d=\"M230.85,-341.91C230.94,-331.2 231.04,-319.62 231.13,-308.78\"/>\n<polygon fill=\"black\" stroke=\"black\" points=\"234.63,-308.7 231.22,-298.67 227.63,-308.64 234.63,-308.7\"/>\n</g>\n<!-- 5 -->\n<g id=\"node4\" class=\"node\">\n<title>5</title>\n<path fill=\"#399de5\" stroke=\"black\" d=\"M83,-179.5C83,-179.5 12,-179.5 12,-179.5 6,-179.5 0,-173.5 0,-167.5 0,-167.5 0,-123.5 0,-123.5 0,-117.5 6,-111.5 12,-111.5 12,-111.5 83,-111.5 83,-111.5 89,-111.5 95,-117.5 95,-123.5 95,-123.5 95,-167.5 95,-167.5 95,-173.5 89,-179.5 83,-179.5\"/>\n<text text-anchor=\"start\" x=\"19.5\" y=\"-164.3\" font-family=\"Helvetica,sans-Serif\" font-size=\"14.00\">gini = 0.0</text>\n<text text-anchor=\"start\" x=\"10\" y=\"-149.3\" font-family=\"Helvetica,sans-Serif\" font-size=\"14.00\">samples = 5</text>\n<text text-anchor=\"start\" x=\"8\" y=\"-134.3\" font-family=\"Helvetica,sans-Serif\" font-size=\"14.00\">value = [0, 5]</text>\n<text text-anchor=\"start\" x=\"20\" y=\"-119.3\" font-family=\"Helvetica,sans-Serif\" font-size=\"14.00\">class = 1</text>\n</g>\n<!-- 3&#45;&gt;5 -->\n<g id=\"edge3\" class=\"edge\">\n<title>3&#45;&gt;5</title>\n<path fill=\"none\" stroke=\"black\" d=\"M86.68,-222.91C81.02,-211.87 74.88,-199.9 69.18,-188.77\"/>\n<polygon fill=\"black\" stroke=\"black\" points=\"72.19,-186.97 64.51,-179.67 65.96,-190.16 72.19,-186.97\"/>\n</g>\n<!-- 6 -->\n<g id=\"node5\" class=\"node\">\n<title>6</title>\n<path fill=\"#eaf5fc\" stroke=\"black\" d=\"M211.5,-187C211.5,-187 125.5,-187 125.5,-187 119.5,-187 113.5,-181 113.5,-175 113.5,-175 113.5,-116 113.5,-116 113.5,-110 119.5,-104 125.5,-104 125.5,-104 211.5,-104 211.5,-104 217.5,-104 223.5,-110 223.5,-116 223.5,-116 223.5,-175 223.5,-175 223.5,-181 217.5,-187 211.5,-187\"/>\n<text text-anchor=\"start\" x=\"135.5\" y=\"-171.8\" font-family=\"Helvetica,sans-Serif\" font-size=\"14.00\">Age ≤ 24.5</text>\n<text text-anchor=\"start\" x=\"133\" y=\"-156.8\" font-family=\"Helvetica,sans-Serif\" font-size=\"14.00\">gini = 0.498</text>\n<text text-anchor=\"start\" x=\"127.5\" y=\"-141.8\" font-family=\"Helvetica,sans-Serif\" font-size=\"14.00\">samples = 36</text>\n<text text-anchor=\"start\" x=\"121.5\" y=\"-126.8\" font-family=\"Helvetica,sans-Serif\" font-size=\"14.00\">value = [17, 19]</text>\n<text text-anchor=\"start\" x=\"141\" y=\"-111.8\" font-family=\"Helvetica,sans-Serif\" font-size=\"14.00\">class = 1</text>\n</g>\n<!-- 3&#45;&gt;6 -->\n<g id=\"edge4\" class=\"edge\">\n<title>3&#45;&gt;6</title>\n<path fill=\"none\" stroke=\"black\" d=\"M128.66,-222.91C133.21,-214.2 138.05,-204.9 142.75,-195.89\"/>\n<polygon fill=\"black\" stroke=\"black\" points=\"145.85,-197.51 147.37,-187.02 139.65,-194.27 145.85,-197.51\"/>\n</g>\n<!-- 7 -->\n<g id=\"node6\" class=\"node\">\n<title>7</title>\n<path fill=\"#e58139\" stroke=\"black\" d=\"M144,-68C144,-68 73,-68 73,-68 67,-68 61,-62 61,-56 61,-56 61,-12 61,-12 61,-6 67,0 73,0 73,0 144,0 144,0 150,0 156,-6 156,-12 156,-12 156,-56 156,-56 156,-62 150,-68 144,-68\"/>\n<text text-anchor=\"start\" x=\"80.5\" y=\"-52.8\" font-family=\"Helvetica,sans-Serif\" font-size=\"14.00\">gini = 0.0</text>\n<text text-anchor=\"start\" x=\"71\" y=\"-37.8\" font-family=\"Helvetica,sans-Serif\" font-size=\"14.00\">samples = 5</text>\n<text text-anchor=\"start\" x=\"69\" y=\"-22.8\" font-family=\"Helvetica,sans-Serif\" font-size=\"14.00\">value = [5, 0]</text>\n<text text-anchor=\"start\" x=\"81\" y=\"-7.8\" font-family=\"Helvetica,sans-Serif\" font-size=\"14.00\">class = 0</text>\n</g>\n<!-- 6&#45;&gt;7 -->\n<g id=\"edge5\" class=\"edge\">\n<title>6&#45;&gt;7</title>\n<path fill=\"none\" stroke=\"black\" d=\"M146.16,-103.73C141.41,-95.06 136.39,-85.9 131.61,-77.18\"/>\n<polygon fill=\"black\" stroke=\"black\" points=\"134.62,-75.39 126.75,-68.3 128.48,-78.75 134.62,-75.39\"/>\n</g>\n<!-- 8 -->\n<g id=\"node7\" class=\"node\">\n<title>8</title>\n<path fill=\"#b6dbf5\" stroke=\"black\" d=\"M272.5,-68C272.5,-68 186.5,-68 186.5,-68 180.5,-68 174.5,-62 174.5,-56 174.5,-56 174.5,-12 174.5,-12 174.5,-6 180.5,0 186.5,0 186.5,0 272.5,0 272.5,0 278.5,0 284.5,-6 284.5,-12 284.5,-12 284.5,-56 284.5,-56 284.5,-62 278.5,-68 272.5,-68\"/>\n<text text-anchor=\"start\" x=\"194\" y=\"-52.8\" font-family=\"Helvetica,sans-Serif\" font-size=\"14.00\">gini = 0.475</text>\n<text text-anchor=\"start\" x=\"188.5\" y=\"-37.8\" font-family=\"Helvetica,sans-Serif\" font-size=\"14.00\">samples = 31</text>\n<text text-anchor=\"start\" x=\"182.5\" y=\"-22.8\" font-family=\"Helvetica,sans-Serif\" font-size=\"14.00\">value = [12, 19]</text>\n<text text-anchor=\"start\" x=\"202\" y=\"-7.8\" font-family=\"Helvetica,sans-Serif\" font-size=\"14.00\">class = 1</text>\n</g>\n<!-- 6&#45;&gt;8 -->\n<g id=\"edge6\" class=\"edge\">\n<title>6&#45;&gt;8</title>\n<path fill=\"none\" stroke=\"black\" d=\"M191.21,-103.73C196.04,-95.06 201.15,-85.9 206,-77.18\"/>\n<polygon fill=\"black\" stroke=\"black\" points=\"209.14,-78.74 210.95,-68.3 203.03,-75.33 209.14,-78.74\"/>\n</g>\n<!-- 9 -->\n<g id=\"node10\" class=\"node\">\n<title>9</title>\n<path fill=\"#399de5\" stroke=\"black\" d=\"M392.5,-298.5C392.5,-298.5 314.5,-298.5 314.5,-298.5 308.5,-298.5 302.5,-292.5 302.5,-286.5 302.5,-286.5 302.5,-242.5 302.5,-242.5 302.5,-236.5 308.5,-230.5 314.5,-230.5 314.5,-230.5 392.5,-230.5 392.5,-230.5 398.5,-230.5 404.5,-236.5 404.5,-242.5 404.5,-242.5 404.5,-286.5 404.5,-286.5 404.5,-292.5 398.5,-298.5 392.5,-298.5\"/>\n<text text-anchor=\"start\" x=\"325.5\" y=\"-283.3\" font-family=\"Helvetica,sans-Serif\" font-size=\"14.00\">gini = 0.0</text>\n<text text-anchor=\"start\" x=\"312.5\" y=\"-268.3\" font-family=\"Helvetica,sans-Serif\" font-size=\"14.00\">samples = 43</text>\n<text text-anchor=\"start\" x=\"310.5\" y=\"-253.3\" font-family=\"Helvetica,sans-Serif\" font-size=\"14.00\">value = [0, 43]</text>\n<text text-anchor=\"start\" x=\"326\" y=\"-238.3\" font-family=\"Helvetica,sans-Serif\" font-size=\"14.00\">class = 1</text>\n</g>\n<!-- 2&#45;&gt;9 -->\n<g id=\"edge9\" class=\"edge\">\n<title>2&#45;&gt;9</title>\n<path fill=\"none\" stroke=\"black\" d=\"M354.15,-341.91C354.06,-331.2 353.96,-319.62 353.87,-308.78\"/>\n<polygon fill=\"black\" stroke=\"black\" points=\"357.37,-308.64 353.78,-298.67 350.37,-308.7 357.37,-308.64\"/>\n</g>\n<!-- 10 -->\n<g id=\"node11\" class=\"node\">\n<title>10</title>\n<path fill=\"#65b3eb\" stroke=\"black\" d=\"M508.5,-298.5C508.5,-298.5 434.5,-298.5 434.5,-298.5 428.5,-298.5 422.5,-292.5 422.5,-286.5 422.5,-286.5 422.5,-242.5 422.5,-242.5 422.5,-236.5 428.5,-230.5 434.5,-230.5 434.5,-230.5 508.5,-230.5 508.5,-230.5 514.5,-230.5 520.5,-236.5 520.5,-242.5 520.5,-242.5 520.5,-286.5 520.5,-286.5 520.5,-292.5 514.5,-298.5 508.5,-298.5\"/>\n<text text-anchor=\"start\" x=\"436\" y=\"-283.3\" font-family=\"Helvetica,sans-Serif\" font-size=\"14.00\">gini = 0.298</text>\n<text text-anchor=\"start\" x=\"430.5\" y=\"-268.3\" font-family=\"Helvetica,sans-Serif\" font-size=\"14.00\">samples = 11</text>\n<text text-anchor=\"start\" x=\"432\" y=\"-253.3\" font-family=\"Helvetica,sans-Serif\" font-size=\"14.00\">value = [2, 9]</text>\n<text text-anchor=\"start\" x=\"444\" y=\"-238.3\" font-family=\"Helvetica,sans-Serif\" font-size=\"14.00\">class = 1</text>\n</g>\n<!-- 2&#45;&gt;10 -->\n<g id=\"edge10\" class=\"edge\">\n<title>2&#45;&gt;10</title>\n<path fill=\"none\" stroke=\"black\" d=\"M395.09,-341.91C406.79,-330.21 419.54,-317.46 431.22,-305.78\"/>\n<polygon fill=\"black\" stroke=\"black\" points=\"433.74,-308.21 438.33,-298.67 428.79,-303.26 433.74,-308.21\"/>\n</g>\n</g>\n</svg>\n"
          },
          "metadata": {},
          "execution_count": 182
        }
      ]
    },
    {
      "cell_type": "markdown",
      "source": [
        "valutazione finale: per trovare i deceduti con più accuratezza, usiamo il KNN (.74 di f1-score), per i soppravvissuti invece è più accurato usare dTree(.83)"
      ],
      "metadata": {
        "id": "f24XI9p1Aaip"
      }
    }
  ],
  "metadata": {
    "kernelspec": {
      "display_name": "Python 3",
      "language": "python",
      "name": "python3"
    },
    "language_info": {
      "codemirror_mode": {
        "name": "ipython",
        "version": 3
      },
      "file_extension": ".py",
      "mimetype": "text/x-python",
      "name": "python",
      "nbconvert_exporter": "python",
      "pygments_lexer": "ipython3",
      "version": "3.7.6"
    },
    "colab": {
      "provenance": []
    }
  },
  "nbformat": 4,
  "nbformat_minor": 0
}