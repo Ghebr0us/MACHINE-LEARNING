{
  "cells": [
    {
      "cell_type": "code",
      "source": [
        "from google.colab import drive\n",
        "drive.mount('/content/drive')"
      ],
      "metadata": {
        "colab": {
          "base_uri": "https://localhost:8080/"
        },
        "id": "QQeZpDYE2pdQ",
        "outputId": "a1c4c275-cdf3-46de-d4f2-5987cb2cc45b"
      },
      "execution_count": null,
      "outputs": [
        {
          "output_type": "stream",
          "name": "stdout",
          "text": [
            "Mounted at /content/drive\n"
          ]
        }
      ]
    },
    {
      "cell_type": "code",
      "execution_count": null,
      "metadata": {
        "id": "no9wScjfv79q"
      },
      "outputs": [],
      "source": [
        "import pandas as pd\n",
        "df = pd.read_csv('/content/drive/MyDrive/Colab Notebooks/ML 101.1/data/diabetes.txt')"
      ]
    },
    {
      "cell_type": "code",
      "execution_count": null,
      "metadata": {
        "colab": {
          "base_uri": "https://localhost:8080/"
        },
        "id": "UGxty8yZv79u",
        "outputId": "811f45c3-61db-49ea-8aff-c1e62a38daa8"
      },
      "outputs": [
        {
          "output_type": "execute_result",
          "data": {
            "text/plain": [
              "     timespreg  gluctol  diaspb  triceps  insulin  massindex  pedigree  age  \\\n",
              "0            6      148      72       35        0       33.6     0.627   50   \n",
              "1            1       85      66       29        0       26.6     0.351   31   \n",
              "2            8      183      64        0        0       23.3     0.672   32   \n",
              "3            1       89      66       23       94       28.1     0.167   21   \n",
              "4            0      137      40       35      168       43.1     2.288   33   \n",
              "..         ...      ...     ...      ...      ...        ...       ...  ...   \n",
              "763         10      101      76       48      180       32.9     0.171   63   \n",
              "764          2      122      70       27        0       36.8     0.340   27   \n",
              "765          5      121      72       23      112       26.2     0.245   30   \n",
              "766          1      126      60        0        0       30.1     0.349   47   \n",
              "767          1       93      70       31        0       30.4     0.315   23   \n",
              "\n",
              "     target  \n",
              "0         1  \n",
              "1         0  \n",
              "2         1  \n",
              "3         0  \n",
              "4         1  \n",
              "..      ...  \n",
              "763       0  \n",
              "764       0  \n",
              "765       0  \n",
              "766       1  \n",
              "767       0  \n",
              "\n",
              "[768 rows x 9 columns]"
            ],
            "text/html": [
              "\n",
              "  <div id=\"df-4ea5458e-6268-41be-a9ab-c57fc2117a14\">\n",
              "    <div class=\"colab-df-container\">\n",
              "      <div>\n",
              "<style scoped>\n",
              "    .dataframe tbody tr th:only-of-type {\n",
              "        vertical-align: middle;\n",
              "    }\n",
              "\n",
              "    .dataframe tbody tr th {\n",
              "        vertical-align: top;\n",
              "    }\n",
              "\n",
              "    .dataframe thead th {\n",
              "        text-align: right;\n",
              "    }\n",
              "</style>\n",
              "<table border=\"1\" class=\"dataframe\">\n",
              "  <thead>\n",
              "    <tr style=\"text-align: right;\">\n",
              "      <th></th>\n",
              "      <th>timespreg</th>\n",
              "      <th>gluctol</th>\n",
              "      <th>diaspb</th>\n",
              "      <th>triceps</th>\n",
              "      <th>insulin</th>\n",
              "      <th>massindex</th>\n",
              "      <th>pedigree</th>\n",
              "      <th>age</th>\n",
              "      <th>target</th>\n",
              "    </tr>\n",
              "  </thead>\n",
              "  <tbody>\n",
              "    <tr>\n",
              "      <th>0</th>\n",
              "      <td>6</td>\n",
              "      <td>148</td>\n",
              "      <td>72</td>\n",
              "      <td>35</td>\n",
              "      <td>0</td>\n",
              "      <td>33.6</td>\n",
              "      <td>0.627</td>\n",
              "      <td>50</td>\n",
              "      <td>1</td>\n",
              "    </tr>\n",
              "    <tr>\n",
              "      <th>1</th>\n",
              "      <td>1</td>\n",
              "      <td>85</td>\n",
              "      <td>66</td>\n",
              "      <td>29</td>\n",
              "      <td>0</td>\n",
              "      <td>26.6</td>\n",
              "      <td>0.351</td>\n",
              "      <td>31</td>\n",
              "      <td>0</td>\n",
              "    </tr>\n",
              "    <tr>\n",
              "      <th>2</th>\n",
              "      <td>8</td>\n",
              "      <td>183</td>\n",
              "      <td>64</td>\n",
              "      <td>0</td>\n",
              "      <td>0</td>\n",
              "      <td>23.3</td>\n",
              "      <td>0.672</td>\n",
              "      <td>32</td>\n",
              "      <td>1</td>\n",
              "    </tr>\n",
              "    <tr>\n",
              "      <th>3</th>\n",
              "      <td>1</td>\n",
              "      <td>89</td>\n",
              "      <td>66</td>\n",
              "      <td>23</td>\n",
              "      <td>94</td>\n",
              "      <td>28.1</td>\n",
              "      <td>0.167</td>\n",
              "      <td>21</td>\n",
              "      <td>0</td>\n",
              "    </tr>\n",
              "    <tr>\n",
              "      <th>4</th>\n",
              "      <td>0</td>\n",
              "      <td>137</td>\n",
              "      <td>40</td>\n",
              "      <td>35</td>\n",
              "      <td>168</td>\n",
              "      <td>43.1</td>\n",
              "      <td>2.288</td>\n",
              "      <td>33</td>\n",
              "      <td>1</td>\n",
              "    </tr>\n",
              "    <tr>\n",
              "      <th>...</th>\n",
              "      <td>...</td>\n",
              "      <td>...</td>\n",
              "      <td>...</td>\n",
              "      <td>...</td>\n",
              "      <td>...</td>\n",
              "      <td>...</td>\n",
              "      <td>...</td>\n",
              "      <td>...</td>\n",
              "      <td>...</td>\n",
              "    </tr>\n",
              "    <tr>\n",
              "      <th>763</th>\n",
              "      <td>10</td>\n",
              "      <td>101</td>\n",
              "      <td>76</td>\n",
              "      <td>48</td>\n",
              "      <td>180</td>\n",
              "      <td>32.9</td>\n",
              "      <td>0.171</td>\n",
              "      <td>63</td>\n",
              "      <td>0</td>\n",
              "    </tr>\n",
              "    <tr>\n",
              "      <th>764</th>\n",
              "      <td>2</td>\n",
              "      <td>122</td>\n",
              "      <td>70</td>\n",
              "      <td>27</td>\n",
              "      <td>0</td>\n",
              "      <td>36.8</td>\n",
              "      <td>0.340</td>\n",
              "      <td>27</td>\n",
              "      <td>0</td>\n",
              "    </tr>\n",
              "    <tr>\n",
              "      <th>765</th>\n",
              "      <td>5</td>\n",
              "      <td>121</td>\n",
              "      <td>72</td>\n",
              "      <td>23</td>\n",
              "      <td>112</td>\n",
              "      <td>26.2</td>\n",
              "      <td>0.245</td>\n",
              "      <td>30</td>\n",
              "      <td>0</td>\n",
              "    </tr>\n",
              "    <tr>\n",
              "      <th>766</th>\n",
              "      <td>1</td>\n",
              "      <td>126</td>\n",
              "      <td>60</td>\n",
              "      <td>0</td>\n",
              "      <td>0</td>\n",
              "      <td>30.1</td>\n",
              "      <td>0.349</td>\n",
              "      <td>47</td>\n",
              "      <td>1</td>\n",
              "    </tr>\n",
              "    <tr>\n",
              "      <th>767</th>\n",
              "      <td>1</td>\n",
              "      <td>93</td>\n",
              "      <td>70</td>\n",
              "      <td>31</td>\n",
              "      <td>0</td>\n",
              "      <td>30.4</td>\n",
              "      <td>0.315</td>\n",
              "      <td>23</td>\n",
              "      <td>0</td>\n",
              "    </tr>\n",
              "  </tbody>\n",
              "</table>\n",
              "<p>768 rows × 9 columns</p>\n",
              "</div>\n",
              "      <button class=\"colab-df-convert\" onclick=\"convertToInteractive('df-4ea5458e-6268-41be-a9ab-c57fc2117a14')\"\n",
              "              title=\"Convert this dataframe to an interactive table.\"\n",
              "              style=\"display:none;\">\n",
              "        \n",
              "  <svg xmlns=\"http://www.w3.org/2000/svg\" height=\"24px\"viewBox=\"0 0 24 24\"\n",
              "       width=\"24px\">\n",
              "    <path d=\"M0 0h24v24H0V0z\" fill=\"none\"/>\n",
              "    <path d=\"M18.56 5.44l.94 2.06.94-2.06 2.06-.94-2.06-.94-.94-2.06-.94 2.06-2.06.94zm-11 1L8.5 8.5l.94-2.06 2.06-.94-2.06-.94L8.5 2.5l-.94 2.06-2.06.94zm10 10l.94 2.06.94-2.06 2.06-.94-2.06-.94-.94-2.06-.94 2.06-2.06.94z\"/><path d=\"M17.41 7.96l-1.37-1.37c-.4-.4-.92-.59-1.43-.59-.52 0-1.04.2-1.43.59L10.3 9.45l-7.72 7.72c-.78.78-.78 2.05 0 2.83L4 21.41c.39.39.9.59 1.41.59.51 0 1.02-.2 1.41-.59l7.78-7.78 2.81-2.81c.8-.78.8-2.07 0-2.86zM5.41 20L4 18.59l7.72-7.72 1.47 1.35L5.41 20z\"/>\n",
              "  </svg>\n",
              "      </button>\n",
              "      \n",
              "  <style>\n",
              "    .colab-df-container {\n",
              "      display:flex;\n",
              "      flex-wrap:wrap;\n",
              "      gap: 12px;\n",
              "    }\n",
              "\n",
              "    .colab-df-convert {\n",
              "      background-color: #E8F0FE;\n",
              "      border: none;\n",
              "      border-radius: 50%;\n",
              "      cursor: pointer;\n",
              "      display: none;\n",
              "      fill: #1967D2;\n",
              "      height: 32px;\n",
              "      padding: 0 0 0 0;\n",
              "      width: 32px;\n",
              "    }\n",
              "\n",
              "    .colab-df-convert:hover {\n",
              "      background-color: #E2EBFA;\n",
              "      box-shadow: 0px 1px 2px rgba(60, 64, 67, 0.3), 0px 1px 3px 1px rgba(60, 64, 67, 0.15);\n",
              "      fill: #174EA6;\n",
              "    }\n",
              "\n",
              "    [theme=dark] .colab-df-convert {\n",
              "      background-color: #3B4455;\n",
              "      fill: #D2E3FC;\n",
              "    }\n",
              "\n",
              "    [theme=dark] .colab-df-convert:hover {\n",
              "      background-color: #434B5C;\n",
              "      box-shadow: 0px 1px 3px 1px rgba(0, 0, 0, 0.15);\n",
              "      filter: drop-shadow(0px 1px 2px rgba(0, 0, 0, 0.3));\n",
              "      fill: #FFFFFF;\n",
              "    }\n",
              "  </style>\n",
              "\n",
              "      <script>\n",
              "        const buttonEl =\n",
              "          document.querySelector('#df-4ea5458e-6268-41be-a9ab-c57fc2117a14 button.colab-df-convert');\n",
              "        buttonEl.style.display =\n",
              "          google.colab.kernel.accessAllowed ? 'block' : 'none';\n",
              "\n",
              "        async function convertToInteractive(key) {\n",
              "          const element = document.querySelector('#df-4ea5458e-6268-41be-a9ab-c57fc2117a14');\n",
              "          const dataTable =\n",
              "            await google.colab.kernel.invokeFunction('convertToInteractive',\n",
              "                                                     [key], {});\n",
              "          if (!dataTable) return;\n",
              "\n",
              "          const docLinkHtml = 'Like what you see? Visit the ' +\n",
              "            '<a target=\"_blank\" href=https://colab.research.google.com/notebooks/data_table.ipynb>data table notebook</a>'\n",
              "            + ' to learn more about interactive tables.';\n",
              "          element.innerHTML = '';\n",
              "          dataTable['output_type'] = 'display_data';\n",
              "          await google.colab.output.renderOutput(dataTable, element);\n",
              "          const docLink = document.createElement('div');\n",
              "          docLink.innerHTML = docLinkHtml;\n",
              "          element.appendChild(docLink);\n",
              "        }\n",
              "      </script>\n",
              "    </div>\n",
              "  </div>\n",
              "  "
            ]
          },
          "metadata": {},
          "execution_count": 3
        }
      ],
      "source": [
        "df"
      ]
    },
    {
      "cell_type": "markdown",
      "metadata": {
        "id": "KSjGqwUTv792"
      },
      "source": [
        "Print class frequencies through pandas \n",
        "(Tenere presente che target = 1 vuol dire che il paziente ha il diabete, 0 che non lo ha)"
      ]
    },
    {
      "cell_type": "code",
      "execution_count": null,
      "metadata": {
        "colab": {
          "base_uri": "https://localhost:8080/"
        },
        "id": "wYjA_j8vv796",
        "outputId": "7b71f9dc-1260-4882-864f-37de5b80c7b3"
      },
      "outputs": [
        {
          "output_type": "stream",
          "name": "stdout",
          "text": [
            "target\n",
            "0    500\n",
            "1    268\n",
            "dtype: int64\n"
          ]
        }
      ],
      "source": [
        "print(df.groupby('target').size())"
      ]
    },
    {
      "cell_type": "markdown",
      "metadata": {
        "id": "G0Znim3rv799"
      },
      "source": [
        "Bar plot for the target variable"
      ]
    },
    {
      "cell_type": "code",
      "execution_count": null,
      "metadata": {
        "colab": {
          "base_uri": "https://localhost:8080/"
        },
        "id": "qj0qDcZwv7-A",
        "outputId": "322f5aa0-6f24-408f-f2da-6ca12e0603d6"
      },
      "outputs": [
        {
          "output_type": "display_data",
          "data": {
            "text/plain": [
              "<Figure size 432x288 with 1 Axes>"
            ],
            "image/png": "[encoded data removed]"
          },
          "metadata": {
            "needs_background": "light"
          }
        }
      ],
      "source": [
        "%matplotlib inline\n",
        "import seaborn as sns\n",
        "import matplotlib.pyplot as plt\n",
        "\n",
        "\n",
        "sns.countplot(x=\"target\", data=df)\n",
        "plt.title(\"Diabetes Dataset\")\n",
        "plt.xlabel(\"Classes\")\n",
        "plt.ylabel(\"Counts\")\n",
        "plt.show()"
      ]
    },
    {
      "cell_type": "markdown",
      "metadata": {
        "id": "WDSTVR-rv7-C"
      },
      "source": [
        "Transform the dataframe into a numpy matrix (numpy is the python package for scientific computing)"
      ]
    },
    {
      "cell_type": "code",
      "execution_count": null,
      "metadata": {
        "colab": {
          "base_uri": "https://localhost:8080/"
        },
        "id": "gO_dt1TCv7-E",
        "outputId": "1288a0a5-7aeb-4c41-81f2-7858c45539e3"
      },
      "outputs": [
        {
          "output_type": "execute_result",
          "data": {
            "text/plain": [
              "Counter({1.0: 268, 0.0: 500})"
            ]
          },
          "metadata": {},
          "execution_count": 6
        }
      ],
      "source": [
        "import numpy as np\n",
        "df = df.to_numpy()\n",
        "x=df[:,0:-1] # prendiamo tutti i dati tranne l'ultima colonna -> variabili indipendenti, osservazioni\n",
        "y=df[:,-1] # prendiamo solo l'ultima colonna -> variabile dipendente, target\n",
        "\n",
        "#Print class frequencies through collections counter\n",
        "import collections\n",
        "collections.Counter(y)"
      ]
    },
    {
      "cell_type": "code",
      "execution_count": null,
      "metadata": {
        "colab": {
          "base_uri": "https://localhost:8080/"
        },
        "id": "ACmUgGMvv7-G",
        "outputId": "e043ea49-f9ef-4232-8d1d-8c52a8c094ee"
      },
      "outputs": [
        {
          "output_type": "stream",
          "name": "stdout",
          "text": [
            "[[6.000e+00 1.480e+02 7.200e+01 3.500e+01 0.000e+00 3.360e+01 6.270e-01\n",
            "  5.000e+01]\n",
            " [1.000e+00 8.500e+01 6.600e+01 2.900e+01 0.000e+00 2.660e+01 3.510e-01\n",
            "  3.100e+01]\n",
            " [8.000e+00 1.830e+02 6.400e+01 0.000e+00 0.000e+00 2.330e+01 6.720e-01\n",
            "  3.200e+01]\n",
            " [1.000e+00 8.900e+01 6.600e+01 2.300e+01 9.400e+01 2.810e+01 1.670e-01\n",
            "  2.100e+01]\n",
            " [0.000e+00 1.370e+02 4.000e+01 3.500e+01 1.680e+02 4.310e+01 2.288e+00\n",
            "  3.300e+01]\n",
            " [5.000e+00 1.160e+02 7.400e+01 0.000e+00 0.000e+00 2.560e+01 2.010e-01\n",
            "  3.000e+01]\n",
            " [3.000e+00 7.800e+01 5.000e+01 3.200e+01 8.800e+01 3.100e+01 2.480e-01\n",
            "  2.600e+01]\n",
            " [1.000e+01 1.150e+02 0.000e+00 0.000e+00 0.000e+00 3.530e+01 1.340e-01\n",
            "  2.900e+01]\n",
            " [2.000e+00 1.970e+02 7.000e+01 4.500e+01 5.430e+02 3.050e+01 1.580e-01\n",
            "  5.300e+01]\n",
            " [8.000e+00 1.250e+02 9.600e+01 0.000e+00 0.000e+00 0.000e+00 2.320e-01\n",
            "  5.400e+01]]\n",
            "y = [1. 0. 1. 0. 1. 0. 1. 0. 1. 1.]\n"
          ]
        }
      ],
      "source": [
        "print(x[:10])\n",
        "print(f'y = {y[:10]}')"
      ]
    },
    {
      "cell_type": "code",
      "execution_count": null,
      "metadata": {
        "colab": {
          "base_uri": "https://localhost:8080/"
        },
        "id": "qzSfHM6Rv7-H",
        "outputId": "969dce9d-3728-464f-a371-551a01bfe2ae"
      },
      "outputs": [
        {
          "output_type": "stream",
          "name": "stdout",
          "text": [
            "[[  6.    148.     72.     35.      0.     33.6     0.627  50.   ]\n",
            " [  1.     85.     66.     29.      0.     26.6     0.351  31.   ]\n",
            " [  8.    183.     64.      0.      0.     23.3     0.672  32.   ]\n",
            " [  1.     89.     66.     23.     94.     28.1     0.167  21.   ]\n",
            " [  0.    137.     40.     35.    168.     43.1     2.288  33.   ]\n",
            " [  5.    116.     74.      0.      0.     25.6     0.201  30.   ]\n",
            " [  3.     78.     50.     32.     88.     31.      0.248  26.   ]\n",
            " [ 10.    115.      0.      0.      0.     35.3     0.134  29.   ]\n",
            " [  2.    197.     70.     45.    543.     30.5     0.158  53.   ]\n",
            " [  8.    125.     96.      0.      0.      0.      0.232  54.   ]]\n",
            "y = [1. 0. 1. 0. 1. 0. 1. 0. 1. 1.]\n"
          ]
        }
      ],
      "source": [
        "# suppress scientific notation\n",
        "np.set_printoptions(suppress=True)\n",
        "print(x[:10])\n",
        "print(f'y = {y[:10]}')"
      ]
    },
    {
      "cell_type": "code",
      "execution_count": null,
      "metadata": {
        "id": "lbeT9Dfvv7-K",
        "colab": {
          "base_uri": "https://localhost:8080/"
        },
        "outputId": "4f3b8075-e583-470c-d17b-79e3caf78bf1"
      },
      "outputs": [
        {
          "output_type": "stream",
          "name": "stdout",
          "text": [
            "Looking in indexes: https://pypi.org/simple, https://us-python.pkg.dev/colab-wheels/public/simple/\n",
            "Collecting sklearn\n",
            "  Downloading sklearn-0.0.post1.tar.gz (3.6 kB)\n",
            "  Preparing metadata (setup.py) ... \u001b[?25l\u001b[?25hdone\n",
            "Building wheels for collected packages: sklearn\n",
            "  Building wheel for sklearn (setup.py) ... \u001b[?25l\u001b[?25hdone\n",
            "  Created wheel for sklearn: filename=sklearn-0.0.post1-py3-none-any.whl size=2344 sha256=be78f833f949f02a3df7700e2a9e2cfd6ca7546113ae5c236f35eb5ec4f8730a\n",
            "  Stored in directory: /root/.cache/pip/wheels/14/25/f7/1cc0956978ae479e75140219088deb7a36f60459df242b1a72\n",
            "Successfully built sklearn\n",
            "Installing collected packages: sklearn\n",
            "Successfully installed sklearn-0.0.post1\n"
          ]
        }
      ],
      "source": [
        "!pip install sklearn"
      ]
    },
    {
      "cell_type": "code",
      "execution_count": null,
      "metadata": {
        "id": "Fdznm27cv7-L"
      },
      "outputs": [],
      "source": [
        "# https://scikit-learn.org/stable/ libreria per il Machine Learning in Python\n",
        "\n",
        "# come per altri metodi di ML, dobbiamo prendere i nostri valori delle osservazioni e splittarle in due insiemi:\n",
        "# training set: è il sottoinsieme delle osservazioni che serve al nostro metodo per imparare\n",
        "# test set: è il sottoinsieme delle osservazioni che serve al nostro metodo per capire se ha imparato bene\n",
        "\n",
        "from sklearn.model_selection import train_test_split # suddivide le osservazioni nei due insiemi\n",
        "\n",
        "X_train, X_test, y_train, y_test = train_test_split(x, y, \n",
        "                                                    test_size = 0.33, # by default is 75%-25%\n",
        "                                                    # shuffle is set True by default,\n",
        "                                                    stratify = y, # per mantenere le proporzioni che ci sono nei dati di partenza\n",
        "                                                    random_state = 123) # fix random seed for replicability"
      ]
    },
    {
      "cell_type": "code",
      "execution_count": null,
      "metadata": {
        "colab": {
          "base_uri": "https://localhost:8080/"
        },
        "id": "iDtFICucv7-M",
        "outputId": "0012516b-d90e-44c2-929c-04fbc730eceb"
      },
      "outputs": [
        {
          "output_type": "execute_result",
          "data": {
            "text/plain": [
              "((514, 8), (514,), (254, 8), (254,))"
            ]
          },
          "metadata": {},
          "execution_count": 11
        }
      ],
      "source": [
        "X_train.shape,y_train.shape,X_test.shape,y_test.shape"
      ]
    },
    {
      "cell_type": "code",
      "execution_count": null,
      "metadata": {
        "colab": {
          "base_uri": "https://localhost:8080/"
        },
        "id": "Lc39jcZXv7-N",
        "outputId": "15e05c7e-e93f-4b97-ec76-4366c7dc5483"
      },
      "outputs": [
        {
          "output_type": "stream",
          "name": "stdout",
          "text": [
            "[[  5.    123.     74.     40.     77.     34.1     0.269  28.   ]\n",
            " [  6.     80.     66.     30.      0.     26.2     0.313  41.   ]\n",
            " [ 10.     68.    106.     23.     49.     35.5     0.285  47.   ]\n",
            " [ 12.     84.     72.     31.      0.     29.7     0.297  46.   ]\n",
            " [  2.    106.     64.     35.    119.     30.5     1.4    34.   ]\n",
            " [  2.     92.     76.     20.      0.     24.2     1.698  28.   ]\n",
            " [  6.     85.     78.      0.      0.     31.2     0.382  42.   ]\n",
            " [  2.     81.     72.     15.     76.     30.1     0.547  25.   ]\n",
            " [  7.    133.     84.      0.      0.     40.2     0.696  37.   ]\n",
            " [  2.    108.     52.     26.     63.     32.5     0.318  22.   ]]\n",
            "y_train = [0. 0. 0. 1. 0. 0. 0. 0. 0. 0.]\n"
          ]
        }
      ],
      "source": [
        "print(X_train[:10])\n",
        "print(f'y_train = {y_train[:10]}')"
      ]
    },
    {
      "cell_type": "code",
      "execution_count": null,
      "metadata": {
        "colab": {
          "base_uri": "https://localhost:8080/"
        },
        "id": "YnDv2jgov7-S",
        "outputId": "2a74fd81-8113-4298-8bd4-f5f27b15af6f"
      },
      "outputs": [
        {
          "output_type": "stream",
          "name": "stdout",
          "text": [
            "dati predetti dal metodo =                [0. 1. 1. 0. 1. 0. 1. 0. 1. 1.]\n",
            "dati reali presenti nel dataset di test = [1. 0. 1. 0. 1. 0. 1. 0. 1. 0.]\n"
          ]
        }
      ],
      "source": [
        "# importiamo il metodo che vogliamo utilizzara (tra i tanti disponibili...)\n",
        "from sklearn.neighbors import KNeighborsClassifier\n",
        "\n",
        "neigh = KNeighborsClassifier(n_neighbors=3) # impostiamo l'unico parametro (il numero di vicini)\n",
        "\n",
        "# prima parte: dobbiamo fare in modo che il metodo impari dalle informazioni a disposizione\n",
        "# NB: notare che il metodo utilizza sia X_train che y_train, perché deve capire se sta predicendo correttamente\n",
        "neigh.fit(X_train, y_train) # \"alleniamo\" il metodo con i dati del training set\n",
        "\n",
        "# seconda parte: vediamo se il metodo ha imparato bene facendogli prevedere i risultati \n",
        "# NB: notare che c'è solo X perché le y devono essere previste dal metodo\n",
        "predict = neigh.predict(X_test) # proviamo a fare una previsione sui dati del test set\n",
        "\n",
        "# visualizziamo il risultato (solo i primi dieci pazienti)\n",
        "print(f'dati predetti dal metodo =                {predict[:10]}') # dati predetti dal metodo\n",
        "print(f'dati reali presenti nel dataset di test = {y_test[:10]}') # dati effettivi presenti nel test set"
      ]
    },
    {
      "cell_type": "markdown",
      "metadata": {
        "id": "d15pt7z9v7-W"
      },
      "source": [
        "# Evaluate the results"
      ]
    },
    {
      "cell_type": "markdown",
      "metadata": {
        "id": "8BCROR1Nv7-X"
      },
      "source": [
        "Per valutare il nostro metodo, visualizziamo prima la cosiddetta \"confusion matrix\""
      ]
    },
    {
      "cell_type": "code",
      "execution_count": null,
      "metadata": {
        "colab": {
          "base_uri": "https://localhost:8080/"
        },
        "id": "1aE4jy9av7-X",
        "outputId": "9e344eab-5602-45f3-cc75-f1b8fb396ffd"
      },
      "outputs": [
        {
          "output_type": "stream",
          "name": "stdout",
          "text": [
            "Looking in indexes: https://pypi.org/simple, https://us-python.pkg.dev/colab-wheels/public/simple/\n",
            "Requirement already satisfied: mlxtend in /usr/local/lib/python3.8/dist-packages (0.14.0)\n",
            "Requirement already satisfied: numpy>=1.10.4 in /usr/local/lib/python3.8/dist-packages (from mlxtend) (1.22.4)\n",
            "Requirement already satisfied: pandas>=0.17.1 in /usr/local/lib/python3.8/dist-packages (from mlxtend) (1.3.5)\n",
            "Requirement already satisfied: setuptools in /usr/local/lib/python3.8/dist-packages (from mlxtend) (57.4.0)\n",
            "Requirement already satisfied: scikit-learn>=0.18 in /usr/local/lib/python3.8/dist-packages (from mlxtend) (1.2.1)\n",
            "Requirement already satisfied: scipy>=0.17 in /usr/local/lib/python3.8/dist-packages (from mlxtend) (1.10.1)\n",
            "Requirement already satisfied: matplotlib>=1.5.1 in /usr/local/lib/python3.8/dist-packages (from mlxtend) (3.5.3)\n",
            "Requirement already satisfied: pyparsing>=2.2.1 in /usr/local/lib/python3.8/dist-packages (from matplotlib>=1.5.1->mlxtend) (3.0.9)\n",
            "Requirement already satisfied: packaging>=20.0 in /usr/local/lib/python3.8/dist-packages (from matplotlib>=1.5.1->mlxtend) (23.0)\n",
            "Requirement already satisfied: python-dateutil>=2.7 in /usr/local/lib/python3.8/dist-packages (from matplotlib>=1.5.1->mlxtend) (2.8.2)\n",
            "Requirement already satisfied: cycler>=0.10 in /usr/local/lib/python3.8/dist-packages (from matplotlib>=1.5.1->mlxtend) (0.11.0)\n",
            "Requirement already satisfied: kiwisolver>=1.0.1 in /usr/local/lib/python3.8/dist-packages (from matplotlib>=1.5.1->mlxtend) (1.4.4)\n",
            "Requirement already satisfied: fonttools>=4.22.0 in /usr/local/lib/python3.8/dist-packages (from matplotlib>=1.5.1->mlxtend) (4.38.0)\n",
            "Requirement already satisfied: pillow>=6.2.0 in /usr/local/lib/python3.8/dist-packages (from matplotlib>=1.5.1->mlxtend) (8.4.0)\n",
            "Requirement already satisfied: pytz>=2017.3 in /usr/local/lib/python3.8/dist-packages (from pandas>=0.17.1->mlxtend) (2022.7.1)\n",
            "Requirement already satisfied: threadpoolctl>=2.0.0 in /usr/local/lib/python3.8/dist-packages (from scikit-learn>=0.18->mlxtend) (3.1.0)\n",
            "Requirement already satisfied: joblib>=1.1.1 in /usr/local/lib/python3.8/dist-packages (from scikit-learn>=0.18->mlxtend) (1.2.0)\n",
            "Requirement already satisfied: six>=1.5 in /usr/local/lib/python3.8/dist-packages (from python-dateutil>=2.7->matplotlib>=1.5.1->mlxtend) (1.15.0)\n"
          ]
        }
      ],
      "source": [
        "#to be run only once, code for the installation of a new library\n",
        "!pip install mlxtend"
      ]
    },
    {
      "cell_type": "code",
      "execution_count": null,
      "metadata": {
        "colab": {
          "base_uri": "https://localhost:8080/",
          "height": 279
        },
        "id": "CC7fTUM7v7-Y",
        "outputId": "4beeed6f-f590-415b-8aef-2f833e1cc9b0"
      },
      "outputs": [
        {
          "output_type": "display_data",
          "data": {
            "text/plain": [
              "<Figure size 432x288 with 1 Axes>"
            ],
            "image/png": "[encoded data removed]"
          },
          "metadata": {
            "needs_background": "light"
          }
        }
      ],
      "source": [
        "#plots IMPORTS\n",
        "from mlxtend.plotting import plot_confusion_matrix\n",
        "from matplotlib import pyplot as plt\n",
        "from sklearn.metrics import confusion_matrix, classification_report\n",
        "\n",
        "plot_confusion_matrix(confusion_matrix(y_test, predict), cmap=plt.cm.Dark2)\n",
        "plt.show()"
      ]
    },
    {
      "cell_type": "markdown",
      "metadata": {
        "id": "A1pGqKtTv7-Y"
      },
      "source": [
        "Vediamo di capire il suo significato, riprendendo l'esempio precedente e tenendo presente che le __predicted label__ rappresentano le previsioni del metodo (1 il paziente è diabetico, 0 non lo è) mentre le __true label__ rappresentano i dati reali presenti nel dataset (1 il paziente è diabetico, 0 non lo è):\n",
        "\n",
        "- veri positivi (true positive, __TP__): 50 pazienti sono stati classificati come diabetici (predicted label = 1) ed effettivamente lo erano (true label = 1)\n",
        "- veri negativi (true negative, __TN__): 123 pazienti sono stati classificati come __non__ diabetici (predicted label = 0) ed effettivamente __non__ lo erano (true label = 0)\n",
        "- falsi negativi (false negative, __FN__): 39 pazienti sono stati classificati come __non__ diabetici (predicted label = 0)  anche se in realtà lo erano (true label = 1)\n",
        "- falsi positivi (false positive, __FP__): 42 pazienti sono stati classificati come diabetici (predicted label = 1) anche se in realtà __non__ lo erano (true label = 0)\n",
        "\n",
        "L'immagine seguente dovrebbe aiutare a capire meglio i vari TP, TN, FN, e FP:\n",
        "\n",
        "<img src=\"https://drive.google.com/uc?export=view&id=1Y0MR_Jc85Sv58499sMwtxDPMKxnNiJtn\"><br>"
      ]
    },
    {
      "cell_type": "markdown",
      "metadata": {
        "id": "BoVBZK5ev7-Z"
      },
      "source": [
        "Una volta definito i TP, TN, FN ed FP, possiamo definire anche alcuni indicatori e utilizzarli per capire se il metodo classifica bene il fenomeno o no.\n",
        "\n",
        "__accuracy: the fraction of predictions our model got right__<br>\n",
        "\n",
        "è la percentuale di previsioni (classificazioni) corrette, sia per i casi positivi che per quelli negativi. Nel nostro caso rappresenta, in percentuale, quanti diabetici e non diabetici sono stati individuati (classificati) correttamente dal nostro metodo<br>\n",
        "Vediamo come si calcola:<br>\n",
        "\\begin{equation*}\n",
        "accuracy = \\frac{TP + TN}{TP + TN + FP + FN} = \\frac{50 + 123}{50 + 123 + 42 + 39} = 0,6873\n",
        "\\end{equation*}\n",
        "\n",
        "Questo dato vuol dire che il metodo ha trovato correttamente chi ha il diabete e chi non lo ha nel __68%__ dei casi.\n",
        "\n",
        "In genere è la prima metrica che viene osservata quando si valuta un classificatore. Tuttavia, quando i dati di test non sono bilanciati (quando cioè la maggior parte delle istanze appartengono a una delle classi TP, TN FP o FN) o si è più interessati alle prestazioni in una delle classi (ad esempio TP), l'accuratezza non riesce a dare un'idea dell'efficacia di un classificatore. Pensate per esempio al caso in cui si tratti di trovare i contagiati da Coronavirus in un insieme di persone. Supponiamo di avere un dataset con 1000 osservazioni. Sappiamo che in questo dataset ci sono 3 contagiati e 997 sani. Supponiamo di eseguire il nostro metodo e ottenere i seguenti risultati:\n",
        "\n",
        "TP (il metodo dice che la persona è stata contagiata ed effettivamente lo è stata): 0\n",
        "\n",
        "TN (il metodo dice che la persona non è stata contagiata ed effettivamente non lo è stata): 990\n",
        "\n",
        "FN (il metodo dice che la persona non è stata contagiata ma in realtà lo è stata): 6\n",
        "\n",
        "FP (il metodo dice che la persona è stata contagiata ma in realtà non lo è stata): 4\n",
        "\n",
        "Se calcoliamo l'accuratezza otteniamo:\n",
        "\n",
        "\\begin{equation*}\n",
        "accuracy = \\frac{TP + TN}{TP + TN + FP + FN} = \\frac{0 + 990}{0 + 990 + 4 + 6} = 0,99\n",
        "\\end{equation*}\n",
        "\n",
        "Verrebbe da dire che è un metodo ottimo, perché ha una accuratezza del 99%. In realtà è un metodo che trova molti __non__ contagiati ma non trova neanche __un__ contagiato effettivo (TP = 0), che era invece il motivo per cui abbiamo cercato di utilizzare i metodi del Machine Learning. Per questo motivo è utile calcolare metriche aggiuntive che raccolgano aspetti più specifici della valutazione."
      ]
    },
    {
      "cell_type": "markdown",
      "metadata": {
        "id": "mwazcGtlv7-a"
      },
      "source": [
        "__precision: what proportion of positive identifications was actually correct?__<br><br>\n",
        "è la percentuale di classificazioni positive corrette, cioè i positivi effettivi (true label = 1, predicted label = 1 ossia TP) rispetto a tutti quelli che il metodo ha classificato come positivi, sia correttamente (true label = 1, predicted label = 1 ossia TP) sia non correttamente (true label = 1, predicted label = 1 ossia FP). In formula:\n",
        "\n",
        "\\begin{equation*}\n",
        "precision = \\frac{TP}{TP + FP} \n",
        "\\end{equation*}\n",
        "\n",
        "Nel nostro caso è il rapporto tra il numero dei pazienti effettivamente diabetici e che il modello ha predetto essere tali (true label = 1, predicted label = 1) rispetto tutti quelli diagnosticati dal modello come diabetici (in modo corretto e no, predicted label = 1)<br>Vediamo il calcolo:\n",
        "\n",
        "\\begin{equation*}\n",
        "precision = \\frac{TP}{TP + FP} = \\frac{50}{50 + 42} = 0,5435\n",
        "\\end{equation*}\n",
        "\n",
        "Questo vuol dire che il __54%__ di chi è stato diagnosticato (classificato) dal metodo come diabetico lo era effettivamente. La _precision_ è massima quando non ci sono falsi positivi, cioè, nel nostro caso, quando non ci sono pazienti a cui è stato diagnosticato il diabete ma che in realtà non erano diabetici.\n",
        "\n",
        "Calcoliamo ora la _precision_ per l'esempio del Coronavirus:\n",
        "\n",
        "\\begin{equation*}\n",
        "precision = \\frac{TP}{TP + FP} = \\frac{0}{0 + 4} = 0\n",
        "\\end{equation*}\n",
        "\n",
        "Questo risultato ci conferma quanto sapevamo già: questo metodo non è per niente utile nel caso dei contagi."
      ]
    },
    {
      "cell_type": "markdown",
      "metadata": {
        "id": "kEYARaR6v7-b"
      },
      "source": [
        "__recall: what proportion of actual positives was identified correctly?__\n",
        "\n",
        "è la percentuale di veri positivi identificati correttamente, cioè i veri positivi (true label = 1, predicted label = 1 cioè TP) rispetto a tutti quelli che erano effettivamente positivi nel dataset e che il metodo ha trovato (true label = 1, predicted label = 1 cioè TP) e non ha trovato (true label = 1, predicted label = 0 cioè FN). In formula:\n",
        "\n",
        "\\begin{equation*}\n",
        "recall = \\frac{TP}{TP + FN} \n",
        "\\end{equation*}\n",
        "\n",
        "\n",
        "Nel nostro caso è il rapporto tra il numero dei pazienti che il modello ha predetto essere diabetici (true label = 1, predicted label = 1) rispetto tutti quelli effettivamente diabetici (true label = 1).<br>Vediamo il calcolo:<br>\n",
        "\\begin{equation*}\n",
        "recall = \\frac{TP}{TP + FN} = \\frac{50}{50 + 39} = 0,5618\n",
        "\\end{equation*}\n",
        "\n",
        "Questo vuol dire che il __56%__ dei diabetici presenti nel dataset è stato correttamente identificato (classificato). La _recall_ è massima quando non ci sono falsi negativi, pazienti cioè a cui non è stato diagnosticato il diabete ma che invece erano diabetici.\n",
        "\n",
        "Calcoliamo ora la recall per l'esempio del Coronavirus:\n",
        "\n",
        "\\begin{equation*}\n",
        "recall = \\frac{TP}{TP + FN} = \\frac{0}{0 + 6} = 0\n",
        "\\end{equation*}\n",
        "\n",
        "Questo risultato rafforza quanto sapevamo già: questo metodo non è per niente utile nel caso dei contagi."
      ]
    },
    {
      "cell_type": "markdown",
      "metadata": {
        "id": "h1cNHliev7-c"
      },
      "source": [
        "__f1-score: un indicatore riassuntivo__\n",
        "\n",
        "A questo punto possiamo introdurre un indicatore riassuntivo di _precision_ e _recall_ che serve per dare un'indicazione di quanto il nostro metodo sia valido: l'___f1-score___\n",
        "\n",
        "\\begin{equation*}\n",
        "f1-score = 2*\\frac{precision*recall}{precision + recall}\n",
        "\\end{equation*}\n",
        "\n",
        "Questo indicatore è la media armonica di _precision_ e _recall_ e serve per tenere conto dei falsi positivi e dei falsi negativi nella valutazione di un metodo, evitando di considerare i veri negativi. Infatti l'accuratezza può essere molto influenzata da un numero elevato di veri negativi (TN) che nella maggior parte delle applicazioni reali non sono rilevanti (ad esempio non sono particoalrmente interessato a sapere se un paziente non è diabetico), mentre i falsi negativi e i falsi positivi di solito sono importanti (pensate al caso di un diabetico che non viene curato (FN) o al caso di sottoporre a cure costose un paziente che non è diabetico (FP)).\n",
        "\n",
        "_f1-score_ è quindi un misura migliore da usare (rispetto l'_accuracy_) se dobbiamo cercare un equilibrio tra _precision_ e _recall_ nel caso in cui ci sia un numero di TP, TN, FP o FN irregolare.\n",
        "\n",
        "Notare che _f1-score_ è massimo quando _precision_ e _recall_ sono uguali a 1 (cioè quando i falsi negativi e i falsi positivi sono uguali a 0), come si può vedere dal grafico seguente ( _p_ = _precision_ , _r_ = _recall_ ): \n",
        "\n",
        "\n",
        "<img src=\"https://drive.google.com/uc?export=view&id=1so-vxRtAsnOUbda1XSaCYlOlqoSMhTT0\" width=\"500\" align=\"center\"><br>\n",
        "\n",
        "\n",
        "\n",
        "Proviamo ora a calcolare l'_f1-score_ per il nostro caso:\n",
        "\n",
        "\\begin{equation*}\n",
        "f1-score = 2*\\frac{precision*recall}{precision + recall} = 2*\\frac{0,5435*0,5618}{0,5435 + 0,5618} = 0,5525\n",
        "\\end{equation*}\n",
        "\n",
        "Il nostro metodo non si comporta quindi particolarmente bene, visto che l'_f1-score_ massimo è 1. "
      ]
    },
    {
      "cell_type": "markdown",
      "metadata": {
        "id": "jQCdCm_kv7-d"
      },
      "source": [
        "Adesso che abbiamo capito i vari indicatori, stampiamo il report dei vari indicatori:"
      ]
    },
    {
      "cell_type": "code",
      "execution_count": null,
      "metadata": {
        "colab": {
          "base_uri": "https://localhost:8080/"
        },
        "id": "R-UfHRlAv7-d",
        "outputId": "0257ab68-5841-4294-b043-2dae0d7c8431"
      },
      "outputs": [
        {
          "output_type": "stream",
          "name": "stdout",
          "text": [
            "              precision    recall  f1-score   support\n",
            "\n",
            "         0.0       0.76      0.75      0.75       165\n",
            "         1.0       0.54      0.56      0.55        89\n",
            "\n",
            "    accuracy                           0.68       254\n",
            "   macro avg       0.65      0.65      0.65       254\n",
            "weighted avg       0.68      0.68      0.68       254\n",
            "\n"
          ]
        }
      ],
      "source": [
        "print(classification_report(y_test, predict))"
      ]
    },
    {
      "cell_type": "markdown",
      "metadata": {
        "id": "gy5EltDbv7-f"
      },
      "source": [
        "Come possiamo vedere, abbiamo ritrovato i valori precedentemente calcolati per l'_accuracy_ , la _precision_ e la _recall_ (per i pazienti diabetici, target = 1.0). Notare che gli stessi indicatori (tranne l'_accuracy_ che è complessiva) si possono calcolare anche per l'altro caso, cioè per i __non__ diabetici: dalla comparazione dei risultati vediamo che il metodo funziona meglio se dobbiamo trovare chi __non__ è diabetico."
      ]
    },
    {
      "cell_type": "markdown",
      "metadata": {
        "id": "UAh5mL22v7-g"
      },
      "source": [
        "# Utilizzare il metodo"
      ]
    },
    {
      "cell_type": "markdown",
      "metadata": {
        "id": "Om3RL4qbv7-g"
      },
      "source": [
        "Al di là dei risultati che ci hanno dato i nostri indicatori, supponiamo che il nostro metodo sia un ottimo metodo per valutare (classificare) se una persona è diabetica o no: come fa un medico  ad applicarlo ai dati di un paziente che gli arriva nello studio? Supponiamo per esempio che Maria abbia la seguente situazione"
      ]
    },
    {
      "cell_type": "code",
      "execution_count": null,
      "metadata": {
        "colab": {
          "base_uri": "https://localhost:8080/"
        },
        "id": "UlHZgNEzv7-i",
        "outputId": "e0464c96-c5cd-4135-9472-d2196d5280dc"
      },
      "outputs": [
        {
          "output_type": "stream",
          "name": "stdout",
          "text": [
            "Looking in indexes: https://pypi.org/simple, https://us-python.pkg.dev/colab-wheels/public/simple/\n",
            "Requirement already satisfied: tabulate in /usr/local/lib/python3.8/dist-packages (0.8.10)\n"
          ]
        }
      ],
      "source": [
        "!pip install tabulate"
      ]
    },
    {
      "cell_type": "code",
      "execution_count": null,
      "metadata": {
        "colab": {
          "base_uri": "https://localhost:8080/"
        },
        "id": "NyxP9CrSv7-j",
        "outputId": "f39847e8-950c-4dcd-c718-aa1d1087a807"
      },
      "outputs": [
        {
          "output_type": "stream",
          "name": "stdout",
          "text": [
            "  timespreg    gluctol    diaspb    triceps    insulin    massindex    pedigree    age\n",
            "-----------  ---------  --------  ---------  ---------  -----------  ----------  -----\n",
            "         10         68       106         23         49         35.5       0.285     47\n"
          ]
        }
      ],
      "source": [
        "from tabulate import tabulate\n",
        "\n",
        "info = ['timespreg', 'gluctol', 'diaspb', 'triceps', 'insulin', 'massindex', 'pedigree', 'age'] # nome delle misurazioni\n",
        "Maria= [10., 68., 106., 23., 49., 35.5, 0.285, 47.] # valore delle misurazioni\n",
        "print(tabulate([Maria], headers=info))"
      ]
    },
    {
      "cell_type": "markdown",
      "metadata": {
        "id": "HZSlpXl_v7-k"
      },
      "source": [
        "Proviamo a far girare il nostro metodo con questi dati e vediamo che cosa ci dice:"
      ]
    },
    {
      "cell_type": "code",
      "execution_count": null,
      "metadata": {
        "colab": {
          "base_uri": "https://localhost:8080/"
        },
        "id": "P1L5r8c2v7-l",
        "outputId": "ba997e8f-67d0-4c04-850c-bb29c13a42d9"
      },
      "outputs": [
        {
          "output_type": "execute_result",
          "data": {
            "text/plain": [
              "array([0.])"
            ]
          },
          "metadata": {},
          "execution_count": 19
        }
      ],
      "source": [
        "# previsione per Maria\n",
        "Maria = [[10., 68., 106., 23., 49., 35.5, 0.285, 47.]]\n",
        "predictMaria = neigh.predict(Maria)\n",
        "predictMaria"
      ]
    },
    {
      "cell_type": "markdown",
      "metadata": {
        "id": "KZhHqf-pv7-m"
      },
      "source": [
        "La risposta è 0, cioà il metodo dice che Maria non ha il diabete (cioè, visto che stiamo usando il metodo K-NN, Maria è più 'vicina' a pazienti che non hanno il diabete). Vediamo ora che cosa sarebbe successo se Maria avesse un indice relativo all'insulina di 159 invece che 49:"
      ]
    },
    {
      "cell_type": "code",
      "execution_count": null,
      "metadata": {
        "colab": {
          "base_uri": "https://localhost:8080/"
        },
        "id": "vxJJs305v7-m",
        "outputId": "7f6a05df-2c8f-479e-9fa9-84cb1bd8b040"
      },
      "outputs": [
        {
          "output_type": "execute_result",
          "data": {
            "text/plain": [
              "array([1.])"
            ]
          },
          "metadata": {},
          "execution_count": 20
        }
      ],
      "source": [
        "# nuova previsione per Maria\n",
        "Maria = [[10., 68., 106., 23., 159., 35.5, 0.285, 47.]]\n",
        "predictMaria = neigh.predict(Maria)\n",
        "predictMaria"
      ]
    },
    {
      "cell_type": "markdown",
      "metadata": {
        "id": "DWfDeKqxv7-n"
      },
      "source": [
        "La risposta è 1, cioè il metodo dice che Maria, con questi nuovi valori, ha il diabete (cioè è più 'vicina' a pazienti che hanno il diabete)."
      ]
    },
    {
      "cell_type": "markdown",
      "source": [
        "# Esercizio dTree"
      ],
      "metadata": {
        "id": "SwiboJT0-2zH"
      }
    },
    {
      "cell_type": "code",
      "source": [
        "import pandas as pd\n",
        "df = pd.read_csv('/content/drive/MyDrive/Colab Notebooks/ML 101.1/data/diabetes.txt')"
      ],
      "metadata": {
        "id": "7nkrr2Y1-80y"
      },
      "execution_count": null,
      "outputs": []
    },
    {
      "cell_type": "code",
      "source": [
        "import numpy as np\n",
        "\n",
        "dfnp = df.to_numpy()\n",
        "x=dfnp[:,0:-1] # prendiamo tutti i dati tranne l'ultima colonna -> variabili indipendenti, osservazioni\n",
        "y=dfnp[:,-1] # prendiamo solo l'ultima colonna -> variabile dipendente, target"
      ],
      "metadata": {
        "id": "rAcSzepvA8tO"
      },
      "execution_count": null,
      "outputs": []
    },
    {
      "cell_type": "code",
      "source": [
        "from sklearn.model_selection import train_test_split\n",
        "\n",
        "X_train, X_test, y_train, y_test = train_test_split(x, y, \n",
        "                                                    test_size =0.33, #by default is 75%-25%\n",
        "                                                    #shuffle is set True by default,\n",
        "                                                    stratify=y,\n",
        "                                                    random_state= 123) #fix random seed for replicability"
      ],
      "metadata": {
        "id": "uNqoGCNnA-f2"
      },
      "execution_count": null,
      "outputs": []
    },
    {
      "cell_type": "code",
      "source": [
        "X_train.shape,y_train.shape,X_test.shape,y_test.shape"
      ],
      "metadata": {
        "colab": {
          "base_uri": "https://localhost:8080/"
        },
        "id": "ozlO7qTWBdoH",
        "outputId": "bbc13462-c7e2-45e6-fb46-103e58571e56"
      },
      "execution_count": null,
      "outputs": [
        {
          "output_type": "execute_result",
          "data": {
            "text/plain": [
              "((514, 8), (514,), (254, 8), (254,))"
            ]
          },
          "metadata": {},
          "execution_count": 24
        }
      ]
    },
    {
      "cell_type": "code",
      "source": [
        "# importiamo il metodo che vogliamo utilizzara (tra i tanti disponibili...)\n",
        "from sklearn import tree\n",
        "\n",
        "# impostiamo i parametri del metodo\n",
        "# https://scikit-learn.org/stable/modules/generated/sklearn.tree.DecisionTreeClassifier.html\n",
        "tree_clf = tree.DecisionTreeClassifier(criterion=\"gini\", # criteri per stabilire come splittare\n",
        "                                       max_depth=4, # profondità dell'albero per evitare l'overfitting\n",
        "                                       min_samples_split=30, # dimensione minima del sottogruppo a cui fermarsi (no more split)\n",
        "                                       max_leaf_nodes=6, # numero dei nodi foglia\n",
        "                                       min_samples_leaf=4 # numero di campioni per essere una foglia\n",
        "                                      )\n",
        "\n",
        "# prima parte: dobbiamo fare in modo che il metodo impari dalle informazioni a disposizione\n",
        "tree_clf.fit(X_train,y_train)\n",
        "\n",
        "# seconda parte: vediamo se il metodo ha imparato bene facendogli prevedere i risultati \n",
        "predict = tree_clf.predict(X_test)\n",
        "\n",
        "# visualizziamo il risultato (solo i primi dieci pazienti)\n",
        "print(f'dati predetti dal metodo =                {predict[:10]}') # dati predetti dal metodo\n",
        "print(f'dati reali presenti nel dataset di test = {y_test[:10]}') # dati effettivi presenti nel test set"
      ],
      "metadata": {
        "colab": {
          "base_uri": "https://localhost:8080/"
        },
        "id": "WmUv8DdIBgIA",
        "outputId": "3b34a72f-6b08-4252-98bc-5477396611b5"
      },
      "execution_count": null,
      "outputs": [
        {
          "output_type": "stream",
          "name": "stdout",
          "text": [
            "dati predetti dal metodo =                [0. 1. 1. 0. 1. 0. 1. 0. 1. 1.]\n",
            "dati reali presenti nel dataset di test = [1. 0. 1. 0. 1. 0. 1. 0. 1. 0.]\n"
          ]
        }
      ]
    },
    {
      "cell_type": "code",
      "source": [
        "#plots IMPORTS\n",
        "from mlxtend.plotting import plot_confusion_matrix\n",
        "from matplotlib import pyplot as plt\n",
        "from sklearn.metrics import confusion_matrix, classification_report\n",
        "\n",
        "plot_confusion_matrix(confusion_matrix(y_test, predict))\n",
        "plt.show()"
      ],
      "metadata": {
        "colab": {
          "base_uri": "https://localhost:8080/",
          "height": 279
        },
        "id": "ixzX8zzIBivv",
        "outputId": "e3f5e822-ad4a-4eba-9039-3bfaefeb26cf"
      },
      "execution_count": null,
      "outputs": [
        {
          "output_type": "display_data",
          "data": {
            "text/plain": [
              "<Figure size 432x288 with 1 Axes>"
            ],
            "image/png": "[encoded data removed]"
          },
          "metadata": {
            "needs_background": "light"
          }
        }
      ]
    },
    {
      "cell_type": "code",
      "source": [
        "print(classification_report(y_test, predict))"
      ],
      "metadata": {
        "colab": {
          "base_uri": "https://localhost:8080/"
        },
        "id": "Xircoh22BloW",
        "outputId": "2354be2d-08c2-4c75-b810-834c21b617cb"
      },
      "execution_count": null,
      "outputs": [
        {
          "output_type": "stream",
          "name": "stdout",
          "text": [
            "              precision    recall  f1-score   support\n",
            "\n",
            "         0.0       0.83      0.78      0.80       165\n",
            "         1.0       0.63      0.71      0.67        89\n",
            "\n",
            "    accuracy                           0.75       254\n",
            "   macro avg       0.73      0.74      0.73       254\n",
            "weighted avg       0.76      0.75      0.75       254\n",
            "\n"
          ]
        }
      ]
    },
    {
      "cell_type": "code",
      "source": [
        "#save the feature list into a vector (sono i nomi delle colonne del dataset)\n",
        "features=list(df.columns.values)\n",
        "\n",
        "import graphviz\n",
        "dot_data = tree.export_graphviz(tree_clf, out_file=None, \n",
        "                     feature_names=features[0:-1],  \n",
        "                     class_names=['0','1'],  \n",
        "                     filled=True, rounded=True,  \n",
        "                     special_characters=True)  \n",
        "graph = graphviz.Source(dot_data)\n",
        "graph.render('diabetes')\n",
        "graph"
      ],
      "metadata": {
        "colab": {
          "base_uri": "https://localhost:8080/",
          "height": 758
        },
        "id": "OLXzmGL7BpYO",
        "outputId": "0aad3b0f-90db-4ddf-c3be-9174cfe81d1b"
      },
      "execution_count": null,
      "outputs": [
        {
          "output_type": "execute_result",
          "data": {
            "text/plain": [
              "<graphviz.files.Source at 0x7f61ce705910>"
            ],
            "image/svg+xml": "<?xml version=\"1.0\" encoding=\"UTF-8\" standalone=\"no\"?>\n<!DOCTYPE svg PUBLIC \"-//W3C//DTD SVG 1.1//EN\"\n \"http://www.w3.org/Graphics/SVG/1.1/DTD/svg11.dtd\">\n<!-- Generated by graphviz version 2.43.0 (0)\n -->\n<!-- Title: Tree Pages: 1 -->\n<svg width=\"518pt\" height=\"552pt\"\n viewBox=\"0.00 0.00 518.00 552.00\" xmlns=\"http://www.w3.org/2000/svg\" xmlns:xlink=\"http://www.w3.org/1999/xlink\">\n<g id=\"graph0\" class=\"graph\" transform=\"scale(1 1) rotate(0) translate(4 548)\">\n<title>Tree</title>\n<polygon fill=\"white\" stroke=\"transparent\" points=\"-4,4 -4,-548 514,-548 514,4 -4,4\"/>\n<!-- 0 -->\n<g id=\"node1\" class=\"node\">\n<title>0</title>\n<path fill=\"#f3c4a3\" stroke=\"black\" d=\"M306.5,-544C306.5,-544 205.5,-544 205.5,-544 199.5,-544 193.5,-538 193.5,-532 193.5,-532 193.5,-473 193.5,-473 193.5,-467 199.5,-461 205.5,-461 205.5,-461 306.5,-461 306.5,-461 312.5,-461 318.5,-467 318.5,-473 318.5,-473 318.5,-532 318.5,-532 318.5,-538 312.5,-544 306.5,-544\"/>\n<text text-anchor=\"start\" x=\"212\" y=\"-528.8\" font-family=\"Helvetica,sans-Serif\" font-size=\"14.00\">gluctol ≤ 139.5</text>\n<text text-anchor=\"start\" x=\"220.5\" y=\"-513.8\" font-family=\"Helvetica,sans-Serif\" font-size=\"14.00\">gini = 0.454</text>\n<text text-anchor=\"start\" x=\"211\" y=\"-498.8\" font-family=\"Helvetica,sans-Serif\" font-size=\"14.00\">samples = 514</text>\n<text text-anchor=\"start\" x=\"201.5\" y=\"-483.8\" font-family=\"Helvetica,sans-Serif\" font-size=\"14.00\">value = [335, 179]</text>\n<text text-anchor=\"start\" x=\"228.5\" y=\"-468.8\" font-family=\"Helvetica,sans-Serif\" font-size=\"14.00\">class = 0</text>\n</g>\n<!-- 1 -->\n<g id=\"node2\" class=\"node\">\n<title>1</title>\n<path fill=\"#eda572\" stroke=\"black\" d=\"M235.5,-425C235.5,-425 128.5,-425 128.5,-425 122.5,-425 116.5,-419 116.5,-413 116.5,-413 116.5,-354 116.5,-354 116.5,-348 122.5,-342 128.5,-342 128.5,-342 235.5,-342 235.5,-342 241.5,-342 247.5,-348 247.5,-354 247.5,-354 247.5,-413 247.5,-413 247.5,-419 241.5,-425 235.5,-425\"/>\n<text text-anchor=\"start\" x=\"124.5\" y=\"-409.8\" font-family=\"Helvetica,sans-Serif\" font-size=\"14.00\">massindex ≤ 27.35</text>\n<text text-anchor=\"start\" x=\"146.5\" y=\"-394.8\" font-family=\"Helvetica,sans-Serif\" font-size=\"14.00\">gini = 0.348</text>\n<text text-anchor=\"start\" x=\"137\" y=\"-379.8\" font-family=\"Helvetica,sans-Serif\" font-size=\"14.00\">samples = 383</text>\n<text text-anchor=\"start\" x=\"131.5\" y=\"-364.8\" font-family=\"Helvetica,sans-Serif\" font-size=\"14.00\">value = [297, 86]</text>\n<text text-anchor=\"start\" x=\"154.5\" y=\"-349.8\" font-family=\"Helvetica,sans-Serif\" font-size=\"14.00\">class = 0</text>\n</g>\n<!-- 0&#45;&gt;1 -->\n<g id=\"edge1\" class=\"edge\">\n<title>0&#45;&gt;1</title>\n<path fill=\"none\" stroke=\"black\" d=\"M230.33,-460.91C224.76,-452.1 218.81,-442.7 213.06,-433.61\"/>\n<polygon fill=\"black\" stroke=\"black\" points=\"215.93,-431.6 207.63,-425.02 210.02,-435.34 215.93,-431.6\"/>\n<text text-anchor=\"middle\" x=\"202.14\" y=\"-445.71\" font-family=\"Helvetica,sans-Serif\" font-size=\"14.00\">True</text>\n</g>\n<!-- 2 -->\n<g id=\"node9\" class=\"node\">\n<title>2</title>\n<path fill=\"#8ac5f0\" stroke=\"black\" d=\"M384.5,-425C384.5,-425 277.5,-425 277.5,-425 271.5,-425 265.5,-419 265.5,-413 265.5,-413 265.5,-354 265.5,-354 265.5,-348 271.5,-342 277.5,-342 277.5,-342 384.5,-342 384.5,-342 390.5,-342 396.5,-348 396.5,-354 396.5,-354 396.5,-413 396.5,-413 396.5,-419 390.5,-425 384.5,-425\"/>\n<text text-anchor=\"start\" x=\"273.5\" y=\"-409.8\" font-family=\"Helvetica,sans-Serif\" font-size=\"14.00\">massindex ≤ 29.85</text>\n<text text-anchor=\"start\" x=\"295.5\" y=\"-394.8\" font-family=\"Helvetica,sans-Serif\" font-size=\"14.00\">gini = 0.412</text>\n<text text-anchor=\"start\" x=\"286\" y=\"-379.8\" font-family=\"Helvetica,sans-Serif\" font-size=\"14.00\">samples = 131</text>\n<text text-anchor=\"start\" x=\"284\" y=\"-364.8\" font-family=\"Helvetica,sans-Serif\" font-size=\"14.00\">value = [38, 93]</text>\n<text text-anchor=\"start\" x=\"303.5\" y=\"-349.8\" font-family=\"Helvetica,sans-Serif\" font-size=\"14.00\">class = 1</text>\n</g>\n<!-- 0&#45;&gt;2 -->\n<g id=\"edge8\" class=\"edge\">\n<title>0&#45;&gt;2</title>\n<path fill=\"none\" stroke=\"black\" d=\"M282.02,-460.91C287.66,-452.1 293.69,-442.7 299.52,-433.61\"/>\n<polygon fill=\"black\" stroke=\"black\" points=\"302.57,-435.33 305.03,-425.02 296.68,-431.55 302.57,-435.33\"/>\n<text text-anchor=\"middle\" x=\"310.37\" y=\"-445.74\" font-family=\"Helvetica,sans-Serif\" font-size=\"14.00\">False</text>\n</g>\n<!-- 3 -->\n<g id=\"node3\" class=\"node\">\n<title>3</title>\n<path fill=\"#e68844\" stroke=\"black\" d=\"M98,-298.5C98,-298.5 12,-298.5 12,-298.5 6,-298.5 0,-292.5 0,-286.5 0,-286.5 0,-242.5 0,-242.5 0,-236.5 6,-230.5 12,-230.5 12,-230.5 98,-230.5 98,-230.5 104,-230.5 110,-236.5 110,-242.5 110,-242.5 110,-286.5 110,-286.5 110,-292.5 104,-298.5 98,-298.5\"/>\n<text text-anchor=\"start\" x=\"19.5\" y=\"-283.3\" font-family=\"Helvetica,sans-Serif\" font-size=\"14.00\">gini = 0.098</text>\n<text text-anchor=\"start\" x=\"10\" y=\"-268.3\" font-family=\"Helvetica,sans-Serif\" font-size=\"14.00\">samples = 116</text>\n<text text-anchor=\"start\" x=\"8\" y=\"-253.3\" font-family=\"Helvetica,sans-Serif\" font-size=\"14.00\">value = [110, 6]</text>\n<text text-anchor=\"start\" x=\"27.5\" y=\"-238.3\" font-family=\"Helvetica,sans-Serif\" font-size=\"14.00\">class = 0</text>\n</g>\n<!-- 1&#45;&gt;3 -->\n<g id=\"edge2\" class=\"edge\">\n<title>1&#45;&gt;3</title>\n<path fill=\"none\" stroke=\"black\" d=\"M137.94,-341.91C125.12,-330.1 111.14,-317.22 98.36,-305.45\"/>\n<polygon fill=\"black\" stroke=\"black\" points=\"100.73,-302.87 91,-298.67 95.98,-308.02 100.73,-302.87\"/>\n</g>\n<!-- 4 -->\n<g id=\"node4\" class=\"node\">\n<title>4</title>\n<path fill=\"#f0b78e\" stroke=\"black\" d=\"M233.5,-306C233.5,-306 140.5,-306 140.5,-306 134.5,-306 128.5,-300 128.5,-294 128.5,-294 128.5,-235 128.5,-235 128.5,-229 134.5,-223 140.5,-223 140.5,-223 233.5,-223 233.5,-223 239.5,-223 245.5,-229 245.5,-235 245.5,-235 245.5,-294 245.5,-294 245.5,-300 239.5,-306 233.5,-306\"/>\n<text text-anchor=\"start\" x=\"143\" y=\"-290.8\" font-family=\"Helvetica,sans-Serif\" font-size=\"14.00\">gluctol ≤ 103.5</text>\n<text text-anchor=\"start\" x=\"155\" y=\"-275.8\" font-family=\"Helvetica,sans-Serif\" font-size=\"14.00\">gini = 0.42</text>\n<text text-anchor=\"start\" x=\"142\" y=\"-260.8\" font-family=\"Helvetica,sans-Serif\" font-size=\"14.00\">samples = 267</text>\n<text text-anchor=\"start\" x=\"136.5\" y=\"-245.8\" font-family=\"Helvetica,sans-Serif\" font-size=\"14.00\">value = [187, 80]</text>\n<text text-anchor=\"start\" x=\"159.5\" y=\"-230.8\" font-family=\"Helvetica,sans-Serif\" font-size=\"14.00\">class = 0</text>\n</g>\n<!-- 1&#45;&gt;4 -->\n<g id=\"edge3\" class=\"edge\">\n<title>1&#45;&gt;4</title>\n<path fill=\"none\" stroke=\"black\" d=\"M183.73,-341.91C184.09,-333.56 184.47,-324.67 184.84,-316.02\"/>\n<polygon fill=\"black\" stroke=\"black\" points=\"188.34,-316.16 185.27,-306.02 181.34,-315.86 188.34,-316.16\"/>\n</g>\n<!-- 5 -->\n<g id=\"node5\" class=\"node\">\n<title>5</title>\n<path fill=\"#ea985c\" stroke=\"black\" d=\"M166,-179.5C166,-179.5 80,-179.5 80,-179.5 74,-179.5 68,-173.5 68,-167.5 68,-167.5 68,-123.5 68,-123.5 68,-117.5 74,-111.5 80,-111.5 80,-111.5 166,-111.5 166,-111.5 172,-111.5 178,-117.5 178,-123.5 178,-123.5 178,-167.5 178,-167.5 178,-173.5 172,-179.5 166,-179.5\"/>\n<text text-anchor=\"start\" x=\"87.5\" y=\"-164.3\" font-family=\"Helvetica,sans-Serif\" font-size=\"14.00\">gini = 0.257</text>\n<text text-anchor=\"start\" x=\"78\" y=\"-149.3\" font-family=\"Helvetica,sans-Serif\" font-size=\"14.00\">samples = 112</text>\n<text text-anchor=\"start\" x=\"76\" y=\"-134.3\" font-family=\"Helvetica,sans-Serif\" font-size=\"14.00\">value = [95, 17]</text>\n<text text-anchor=\"start\" x=\"95.5\" y=\"-119.3\" font-family=\"Helvetica,sans-Serif\" font-size=\"14.00\">class = 0</text>\n</g>\n<!-- 4&#45;&gt;5 -->\n<g id=\"edge4\" class=\"edge\">\n<title>4&#45;&gt;5</title>\n<path fill=\"none\" stroke=\"black\" d=\"M164.8,-222.91C158.76,-211.87 152.21,-199.9 146.12,-188.77\"/>\n<polygon fill=\"black\" stroke=\"black\" points=\"149.01,-186.76 141.14,-179.67 142.87,-190.12 149.01,-186.76\"/>\n</g>\n<!-- 6 -->\n<g id=\"node6\" class=\"node\">\n<title>6</title>\n<path fill=\"#f7d7c1\" stroke=\"black\" d=\"M294,-187C294,-187 208,-187 208,-187 202,-187 196,-181 196,-175 196,-175 196,-116 196,-116 196,-110 202,-104 208,-104 208,-104 294,-104 294,-104 300,-104 306,-110 306,-116 306,-116 306,-175 306,-175 306,-181 300,-187 294,-187\"/>\n<text text-anchor=\"start\" x=\"219\" y=\"-171.8\" font-family=\"Helvetica,sans-Serif\" font-size=\"14.00\">age ≤ 28.5</text>\n<text text-anchor=\"start\" x=\"215.5\" y=\"-156.8\" font-family=\"Helvetica,sans-Serif\" font-size=\"14.00\">gini = 0.482</text>\n<text text-anchor=\"start\" x=\"206\" y=\"-141.8\" font-family=\"Helvetica,sans-Serif\" font-size=\"14.00\">samples = 155</text>\n<text text-anchor=\"start\" x=\"204\" y=\"-126.8\" font-family=\"Helvetica,sans-Serif\" font-size=\"14.00\">value = [92, 63]</text>\n<text text-anchor=\"start\" x=\"223.5\" y=\"-111.8\" font-family=\"Helvetica,sans-Serif\" font-size=\"14.00\">class = 0</text>\n</g>\n<!-- 4&#45;&gt;6 -->\n<g id=\"edge5\" class=\"edge\">\n<title>4&#45;&gt;6</title>\n<path fill=\"none\" stroke=\"black\" d=\"M209.2,-222.91C213.97,-214.2 219.06,-204.9 223.98,-195.89\"/>\n<polygon fill=\"black\" stroke=\"black\" points=\"227.11,-197.47 228.83,-187.02 220.97,-194.11 227.11,-197.47\"/>\n</g>\n<!-- 9 -->\n<g id=\"node7\" class=\"node\">\n<title>9</title>\n<path fill=\"#eeaf81\" stroke=\"black\" d=\"M230,-68C230,-68 144,-68 144,-68 138,-68 132,-62 132,-56 132,-56 132,-12 132,-12 132,-6 138,0 144,0 144,0 230,0 230,0 236,0 242,-6 242,-12 242,-12 242,-56 242,-56 242,-62 236,-68 230,-68\"/>\n<text text-anchor=\"start\" x=\"151.5\" y=\"-52.8\" font-family=\"Helvetica,sans-Serif\" font-size=\"14.00\">gini = 0.391</text>\n<text text-anchor=\"start\" x=\"146\" y=\"-37.8\" font-family=\"Helvetica,sans-Serif\" font-size=\"14.00\">samples = 75</text>\n<text text-anchor=\"start\" x=\"140\" y=\"-22.8\" font-family=\"Helvetica,sans-Serif\" font-size=\"14.00\">value = [55, 20]</text>\n<text text-anchor=\"start\" x=\"159.5\" y=\"-7.8\" font-family=\"Helvetica,sans-Serif\" font-size=\"14.00\">class = 0</text>\n</g>\n<!-- 6&#45;&gt;9 -->\n<g id=\"edge6\" class=\"edge\">\n<title>6&#45;&gt;9</title>\n<path fill=\"none\" stroke=\"black\" d=\"M227.17,-103.73C222.1,-95.06 216.75,-85.9 211.65,-77.18\"/>\n<polygon fill=\"black\" stroke=\"black\" points=\"214.53,-75.17 206.46,-68.3 208.49,-78.7 214.53,-75.17\"/>\n</g>\n<!-- 10 -->\n<g id=\"node8\" class=\"node\">\n<title>10</title>\n<path fill=\"#e3f1fb\" stroke=\"black\" d=\"M358,-68C358,-68 272,-68 272,-68 266,-68 260,-62 260,-56 260,-56 260,-12 260,-12 260,-6 266,0 272,0 272,0 358,0 358,0 364,0 370,-6 370,-12 370,-12 370,-56 370,-56 370,-62 364,-68 358,-68\"/>\n<text text-anchor=\"start\" x=\"279.5\" y=\"-52.8\" font-family=\"Helvetica,sans-Serif\" font-size=\"14.00\">gini = 0.497</text>\n<text text-anchor=\"start\" x=\"274\" y=\"-37.8\" font-family=\"Helvetica,sans-Serif\" font-size=\"14.00\">samples = 80</text>\n<text text-anchor=\"start\" x=\"268\" y=\"-22.8\" font-family=\"Helvetica,sans-Serif\" font-size=\"14.00\">value = [37, 43]</text>\n<text text-anchor=\"start\" x=\"287.5\" y=\"-7.8\" font-family=\"Helvetica,sans-Serif\" font-size=\"14.00\">class = 1</text>\n</g>\n<!-- 6&#45;&gt;10 -->\n<g id=\"edge7\" class=\"edge\">\n<title>6&#45;&gt;10</title>\n<path fill=\"none\" stroke=\"black\" d=\"M274.83,-103.73C279.9,-95.06 285.25,-85.9 290.35,-77.18\"/>\n<polygon fill=\"black\" stroke=\"black\" points=\"293.51,-78.7 295.54,-68.3 287.47,-75.17 293.51,-78.7\"/>\n</g>\n<!-- 7 -->\n<g id=\"node10\" class=\"node\">\n<title>7</title>\n<path fill=\"#f5d0b5\" stroke=\"black\" d=\"M370,-298.5C370,-298.5 284,-298.5 284,-298.5 278,-298.5 272,-292.5 272,-286.5 272,-286.5 272,-242.5 272,-242.5 272,-236.5 278,-230.5 284,-230.5 284,-230.5 370,-230.5 370,-230.5 376,-230.5 382,-236.5 382,-242.5 382,-242.5 382,-286.5 382,-286.5 382,-292.5 376,-298.5 370,-298.5\"/>\n<text text-anchor=\"start\" x=\"291.5\" y=\"-283.3\" font-family=\"Helvetica,sans-Serif\" font-size=\"14.00\">gini = 0.473</text>\n<text text-anchor=\"start\" x=\"286\" y=\"-268.3\" font-family=\"Helvetica,sans-Serif\" font-size=\"14.00\">samples = 26</text>\n<text text-anchor=\"start\" x=\"280\" y=\"-253.3\" font-family=\"Helvetica,sans-Serif\" font-size=\"14.00\">value = [16, 10]</text>\n<text text-anchor=\"start\" x=\"299.5\" y=\"-238.3\" font-family=\"Helvetica,sans-Serif\" font-size=\"14.00\">class = 0</text>\n</g>\n<!-- 2&#45;&gt;7 -->\n<g id=\"edge9\" class=\"edge\">\n<title>2&#45;&gt;7</title>\n<path fill=\"none\" stroke=\"black\" d=\"M329.61,-341.91C329.25,-331.2 328.85,-319.62 328.48,-308.78\"/>\n<polygon fill=\"black\" stroke=\"black\" points=\"331.97,-308.54 328.13,-298.67 324.98,-308.78 331.97,-308.54\"/>\n</g>\n<!-- 8 -->\n<g id=\"node11\" class=\"node\">\n<title>8</title>\n<path fill=\"#6db7ec\" stroke=\"black\" d=\"M498,-298.5C498,-298.5 412,-298.5 412,-298.5 406,-298.5 400,-292.5 400,-286.5 400,-286.5 400,-242.5 400,-242.5 400,-236.5 406,-230.5 412,-230.5 412,-230.5 498,-230.5 498,-230.5 504,-230.5 510,-236.5 510,-242.5 510,-242.5 510,-286.5 510,-286.5 510,-292.5 504,-298.5 498,-298.5\"/>\n<text text-anchor=\"start\" x=\"419.5\" y=\"-283.3\" font-family=\"Helvetica,sans-Serif\" font-size=\"14.00\">gini = 0.331</text>\n<text text-anchor=\"start\" x=\"410\" y=\"-268.3\" font-family=\"Helvetica,sans-Serif\" font-size=\"14.00\">samples = 105</text>\n<text text-anchor=\"start\" x=\"408\" y=\"-253.3\" font-family=\"Helvetica,sans-Serif\" font-size=\"14.00\">value = [22, 83]</text>\n<text text-anchor=\"start\" x=\"427.5\" y=\"-238.3\" font-family=\"Helvetica,sans-Serif\" font-size=\"14.00\">class = 1</text>\n</g>\n<!-- 2&#45;&gt;8 -->\n<g id=\"edge10\" class=\"edge\">\n<title>2&#45;&gt;8</title>\n<path fill=\"none\" stroke=\"black\" d=\"M374.02,-341.91C386.42,-330.21 399.93,-317.46 412.31,-305.78\"/>\n<polygon fill=\"black\" stroke=\"black\" points=\"414.98,-308.08 419.85,-298.67 410.17,-302.98 414.98,-308.08\"/>\n</g>\n</g>\n</svg>\n"
          },
          "metadata": {},
          "execution_count": 28
        }
      ]
    },
    {
      "cell_type": "markdown",
      "source": [],
      "metadata": {
        "id": "fZK8dfpEBts6"
      }
    },
    {
      "cell_type": "markdown",
      "source": [
        "il metodo dTree è più preciso in entrambi i risultati"
      ],
      "metadata": {
        "id": "sGuATxOUDFiH"
      }
    }
  ],
  "metadata": {
    "kernelspec": {
      "display_name": "Python 3",
      "language": "python",
      "name": "python3"
    },
    "language_info": {
      "codemirror_mode": {
        "name": "ipython",
        "version": 3
      },
      "file_extension": ".py",
      "mimetype": "text/x-python",
      "name": "python",
      "nbconvert_exporter": "python",
      "pygments_lexer": "ipython3",
      "version": "3.7.6"
    },
    "toc": {
      "base_numbering": 1,
      "nav_menu": {},
      "number_sections": true,
      "sideBar": true,
      "skip_h1_title": false,
      "title_cell": "Table of Contents",
      "title_sidebar": "Contents",
      "toc_cell": false,
      "toc_position": {},
      "toc_section_display": true,
      "toc_window_display": false
    },
    "colab": {
      "provenance": []
    }
  },
  "nbformat": 4,
  "nbformat_minor": 0
}